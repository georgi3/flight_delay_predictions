{
 "cells": [
  {
   "cell_type": "markdown",
   "metadata": {},
   "source": [
    "## Exploratory Data Analysis\n",
    "\n",
    "Use this notebook to get familiar with the datasets we have. There is 10 questions we need to answer during the EDA.\n",
    "\n",
    "\n",
    "We shouldn't limit our EDA to these 10 questions. Let's be creative :)."
   ]
  },
  {
   "cell_type": "code",
   "execution_count": 49,
   "metadata": {},
   "outputs": [],
   "source": [
    "import pandas as pd\n",
    "import numpy as np\n",
    "import matplotlib.pyplot as plt\n",
    "from scipy import stats\n",
    "import seaborn as sns\n",
    "from sklearn.preprocessing import OrdinalEncoder\n",
    "from scipy.stats import shapiro\n",
    "from sklearn.model_selection import train_test_split\n"
   ]
  },
  {
   "cell_type": "code",
   "execution_count": 50,
   "metadata": {},
   "outputs": [],
   "source": [
    "flight = pd.read_csv(\"flights_sorted.csv\")"
   ]
  },
  {
   "cell_type": "code",
   "execution_count": 51,
   "metadata": {},
   "outputs": [],
   "source": [
    "pd.set_option('display.max_columns', None)\n"
   ]
  },
  {
   "cell_type": "code",
   "execution_count": 52,
   "metadata": {},
   "outputs": [],
   "source": [
    "variables_to_remove = [  'mkt_carrier_fl_num', 'mkt_carrier_fl_num', 'origin_airport_id',\n",
    "                         'dest_airport_id', 'wheels_off', 'wheels_on']"
   ]
  },
  {
   "cell_type": "code",
   "execution_count": 53,
   "metadata": {},
   "outputs": [],
   "source": [
    "flight.drop(variables_to_remove, axis = 1, inplace = True)"
   ]
  },
  {
   "cell_type": "code",
   "execution_count": 54,
   "metadata": {},
   "outputs": [],
   "source": [
    "# Add total delay column\n",
    "flight['totel_delay'] = flight['dep_delay'] + (flight['arr_delay'] - flight['dep_delay'])"
   ]
  },
  {
   "cell_type": "code",
   "execution_count": 55,
   "metadata": {},
   "outputs": [
    {
     "data": {
      "text/html": [
       "<div>\n",
       "<style scoped>\n",
       "    .dataframe tbody tr th:only-of-type {\n",
       "        vertical-align: middle;\n",
       "    }\n",
       "\n",
       "    .dataframe tbody tr th {\n",
       "        vertical-align: top;\n",
       "    }\n",
       "\n",
       "    .dataframe thead th {\n",
       "        text-align: right;\n",
       "    }\n",
       "</style>\n",
       "<table border=\"1\" class=\"dataframe\">\n",
       "  <thead>\n",
       "    <tr style=\"text-align: right;\">\n",
       "      <th></th>\n",
       "      <th>variable</th>\n",
       "      <th>missing values</th>\n",
       "      <th>filling factor (%)</th>\n",
       "    </tr>\n",
       "  </thead>\n",
       "  <tbody>\n",
       "    <tr>\n",
       "      <th>0</th>\n",
       "      <td>total_add_gtime</td>\n",
       "      <td>99356</td>\n",
       "      <td>0.644</td>\n",
       "    </tr>\n",
       "    <tr>\n",
       "      <th>1</th>\n",
       "      <td>first_dep_time</td>\n",
       "      <td>99356</td>\n",
       "      <td>0.644</td>\n",
       "    </tr>\n",
       "    <tr>\n",
       "      <th>2</th>\n",
       "      <td>longest_add_gtime</td>\n",
       "      <td>99356</td>\n",
       "      <td>0.644</td>\n",
       "    </tr>\n",
       "    <tr>\n",
       "      <th>3</th>\n",
       "      <td>late_aircraft_delay</td>\n",
       "      <td>81041</td>\n",
       "      <td>18.959</td>\n",
       "    </tr>\n",
       "    <tr>\n",
       "      <th>4</th>\n",
       "      <td>security_delay</td>\n",
       "      <td>81041</td>\n",
       "      <td>18.959</td>\n",
       "    </tr>\n",
       "    <tr>\n",
       "      <th>5</th>\n",
       "      <td>nas_delay</td>\n",
       "      <td>81041</td>\n",
       "      <td>18.959</td>\n",
       "    </tr>\n",
       "    <tr>\n",
       "      <th>6</th>\n",
       "      <td>weather_delay</td>\n",
       "      <td>81041</td>\n",
       "      <td>18.959</td>\n",
       "    </tr>\n",
       "    <tr>\n",
       "      <th>7</th>\n",
       "      <td>carrier_delay</td>\n",
       "      <td>81041</td>\n",
       "      <td>18.959</td>\n",
       "    </tr>\n",
       "    <tr>\n",
       "      <th>8</th>\n",
       "      <td>totel_delay</td>\n",
       "      <td>1968</td>\n",
       "      <td>98.032</td>\n",
       "    </tr>\n",
       "    <tr>\n",
       "      <th>9</th>\n",
       "      <td>air_time</td>\n",
       "      <td>1960</td>\n",
       "      <td>98.040</td>\n",
       "    </tr>\n",
       "    <tr>\n",
       "      <th>10</th>\n",
       "      <td>arr_delay</td>\n",
       "      <td>1935</td>\n",
       "      <td>98.065</td>\n",
       "    </tr>\n",
       "    <tr>\n",
       "      <th>11</th>\n",
       "      <td>actual_elapsed_time</td>\n",
       "      <td>1922</td>\n",
       "      <td>98.078</td>\n",
       "    </tr>\n",
       "    <tr>\n",
       "      <th>12</th>\n",
       "      <td>taxi_in</td>\n",
       "      <td>1751</td>\n",
       "      <td>98.249</td>\n",
       "    </tr>\n",
       "    <tr>\n",
       "      <th>13</th>\n",
       "      <td>arr_time</td>\n",
       "      <td>1713</td>\n",
       "      <td>98.287</td>\n",
       "    </tr>\n",
       "    <tr>\n",
       "      <th>14</th>\n",
       "      <td>taxi_out</td>\n",
       "      <td>1705</td>\n",
       "      <td>98.295</td>\n",
       "    </tr>\n",
       "    <tr>\n",
       "      <th>15</th>\n",
       "      <td>dep_delay</td>\n",
       "      <td>1652</td>\n",
       "      <td>98.348</td>\n",
       "    </tr>\n",
       "    <tr>\n",
       "      <th>16</th>\n",
       "      <td>dep_time</td>\n",
       "      <td>1618</td>\n",
       "      <td>98.382</td>\n",
       "    </tr>\n",
       "    <tr>\n",
       "      <th>17</th>\n",
       "      <td>distance</td>\n",
       "      <td>0</td>\n",
       "      <td>100.000</td>\n",
       "    </tr>\n",
       "    <tr>\n",
       "      <th>18</th>\n",
       "      <td>flights</td>\n",
       "      <td>0</td>\n",
       "      <td>100.000</td>\n",
       "    </tr>\n",
       "    <tr>\n",
       "      <th>19</th>\n",
       "      <td>fl_date</td>\n",
       "      <td>0</td>\n",
       "      <td>100.000</td>\n",
       "    </tr>\n",
       "    <tr>\n",
       "      <th>20</th>\n",
       "      <td>diverted</td>\n",
       "      <td>0</td>\n",
       "      <td>100.000</td>\n",
       "    </tr>\n",
       "    <tr>\n",
       "      <th>21</th>\n",
       "      <td>crs_arr_time</td>\n",
       "      <td>0</td>\n",
       "      <td>100.000</td>\n",
       "    </tr>\n",
       "    <tr>\n",
       "      <th>22</th>\n",
       "      <td>crs_dep_time</td>\n",
       "      <td>0</td>\n",
       "      <td>100.000</td>\n",
       "    </tr>\n",
       "    <tr>\n",
       "      <th>23</th>\n",
       "      <td>dest_city_name</td>\n",
       "      <td>0</td>\n",
       "      <td>100.000</td>\n",
       "    </tr>\n",
       "    <tr>\n",
       "      <th>24</th>\n",
       "      <td>dest</td>\n",
       "      <td>0</td>\n",
       "      <td>100.000</td>\n",
       "    </tr>\n",
       "    <tr>\n",
       "      <th>25</th>\n",
       "      <td>origin_city_name</td>\n",
       "      <td>0</td>\n",
       "      <td>100.000</td>\n",
       "    </tr>\n",
       "    <tr>\n",
       "      <th>26</th>\n",
       "      <td>origin</td>\n",
       "      <td>0</td>\n",
       "      <td>100.000</td>\n",
       "    </tr>\n",
       "    <tr>\n",
       "      <th>27</th>\n",
       "      <td>mkt_unique_carrier</td>\n",
       "      <td>0</td>\n",
       "      <td>100.000</td>\n",
       "    </tr>\n",
       "    <tr>\n",
       "      <th>28</th>\n",
       "      <td>crs_elapsed_time</td>\n",
       "      <td>0</td>\n",
       "      <td>100.000</td>\n",
       "    </tr>\n",
       "    <tr>\n",
       "      <th>29</th>\n",
       "      <td>cancelled</td>\n",
       "      <td>0</td>\n",
       "      <td>100.000</td>\n",
       "    </tr>\n",
       "  </tbody>\n",
       "</table>\n",
       "</div>"
      ],
      "text/plain": [
       "               variable  missing values  filling factor (%)\n",
       "0       total_add_gtime           99356               0.644\n",
       "1        first_dep_time           99356               0.644\n",
       "2     longest_add_gtime           99356               0.644\n",
       "3   late_aircraft_delay           81041              18.959\n",
       "4        security_delay           81041              18.959\n",
       "5             nas_delay           81041              18.959\n",
       "6         weather_delay           81041              18.959\n",
       "7         carrier_delay           81041              18.959\n",
       "8           totel_delay            1968              98.032\n",
       "9              air_time            1960              98.040\n",
       "10            arr_delay            1935              98.065\n",
       "11  actual_elapsed_time            1922              98.078\n",
       "12              taxi_in            1751              98.249\n",
       "13             arr_time            1713              98.287\n",
       "14             taxi_out            1705              98.295\n",
       "15            dep_delay            1652              98.348\n",
       "16             dep_time            1618              98.382\n",
       "17             distance               0             100.000\n",
       "18              flights               0             100.000\n",
       "19              fl_date               0             100.000\n",
       "20             diverted               0             100.000\n",
       "21         crs_arr_time               0             100.000\n",
       "22         crs_dep_time               0             100.000\n",
       "23       dest_city_name               0             100.000\n",
       "24                 dest               0             100.000\n",
       "25     origin_city_name               0             100.000\n",
       "26               origin               0             100.000\n",
       "27   mkt_unique_carrier               0             100.000\n",
       "28     crs_elapsed_time               0             100.000\n",
       "29            cancelled               0             100.000"
      ]
     },
     "execution_count": 55,
     "metadata": {},
     "output_type": "execute_result"
    }
   ],
   "source": [
    "missing_df = flight.isnull().sum(axis=0).reset_index()\n",
    "missing_df.columns = ['variable', 'missing values']\n",
    "missing_df['filling factor (%)']=(flight.shape[0]-missing_df['missing values'])/flight.shape[0]*100\n",
    "missing_df.sort_values('filling factor (%)').reset_index(drop = True)\n"
   ]
  },
  {
   "cell_type": "code",
   "execution_count": 56,
   "metadata": {},
   "outputs": [
    {
     "data": {
      "text/plain": [
       "fl_date                 object\n",
       "mkt_unique_carrier      object\n",
       "origin                  object\n",
       "origin_city_name        object\n",
       "dest                    object\n",
       "dest_city_name          object\n",
       "crs_dep_time             int64\n",
       "dep_time               float64\n",
       "dep_delay              float64\n",
       "taxi_out               float64\n",
       "taxi_in                float64\n",
       "crs_arr_time             int64\n",
       "arr_time               float64\n",
       "arr_delay              float64\n",
       "cancelled                int64\n",
       "diverted                 int64\n",
       "crs_elapsed_time         int64\n",
       "actual_elapsed_time    float64\n",
       "air_time               float64\n",
       "flights                  int64\n",
       "distance                 int64\n",
       "carrier_delay          float64\n",
       "weather_delay          float64\n",
       "nas_delay              float64\n",
       "security_delay         float64\n",
       "late_aircraft_delay    float64\n",
       "first_dep_time         float64\n",
       "total_add_gtime        float64\n",
       "longest_add_gtime      float64\n",
       "totel_delay            float64\n",
       "dtype: object"
      ]
     },
     "execution_count": 56,
     "metadata": {},
     "output_type": "execute_result"
    }
   ],
   "source": [
    "flight.dtypes"
   ]
  },
  {
   "cell_type": "code",
   "execution_count": 57,
   "metadata": {},
   "outputs": [],
   "source": [
    "flight.drop(['longest_add_gtime','first_dep_time','total_add_gtime'], axis = 1, inplace = True)"
   ]
  },
  {
   "cell_type": "code",
   "execution_count": 58,
   "metadata": {},
   "outputs": [],
   "source": [
    "flight['late_aircraft_delay'] = flight['late_aircraft_delay'].fillna(0)\n",
    "flight['security_delay'] = flight['security_delay'].fillna(0)\n",
    "flight['nas_delay'] = flight['nas_delay'].fillna(0)\n",
    "flight['carrier_delay'] = flight['carrier_delay'].fillna(0)\n",
    "flight['weather_delay'] = flight['weather_delay'].fillna(0)"
   ]
  },
  {
   "cell_type": "code",
   "execution_count": 59,
   "metadata": {},
   "outputs": [
    {
     "data": {
      "text/html": [
       "<div>\n",
       "<style scoped>\n",
       "    .dataframe tbody tr th:only-of-type {\n",
       "        vertical-align: middle;\n",
       "    }\n",
       "\n",
       "    .dataframe tbody tr th {\n",
       "        vertical-align: top;\n",
       "    }\n",
       "\n",
       "    .dataframe thead th {\n",
       "        text-align: right;\n",
       "    }\n",
       "</style>\n",
       "<table border=\"1\" class=\"dataframe\">\n",
       "  <thead>\n",
       "    <tr style=\"text-align: right;\">\n",
       "      <th></th>\n",
       "      <th>fl_date</th>\n",
       "      <th>mkt_unique_carrier</th>\n",
       "      <th>origin</th>\n",
       "      <th>origin_city_name</th>\n",
       "      <th>dest</th>\n",
       "      <th>dest_city_name</th>\n",
       "      <th>crs_dep_time</th>\n",
       "      <th>dep_time</th>\n",
       "      <th>dep_delay</th>\n",
       "      <th>taxi_out</th>\n",
       "      <th>taxi_in</th>\n",
       "      <th>crs_arr_time</th>\n",
       "      <th>arr_time</th>\n",
       "      <th>arr_delay</th>\n",
       "      <th>cancelled</th>\n",
       "      <th>diverted</th>\n",
       "      <th>crs_elapsed_time</th>\n",
       "      <th>actual_elapsed_time</th>\n",
       "      <th>air_time</th>\n",
       "      <th>flights</th>\n",
       "      <th>distance</th>\n",
       "      <th>carrier_delay</th>\n",
       "      <th>weather_delay</th>\n",
       "      <th>nas_delay</th>\n",
       "      <th>security_delay</th>\n",
       "      <th>late_aircraft_delay</th>\n",
       "      <th>totel_delay</th>\n",
       "    </tr>\n",
       "  </thead>\n",
       "  <tbody>\n",
       "    <tr>\n",
       "      <th>0</th>\n",
       "      <td>12/31/2019</td>\n",
       "      <td>AA</td>\n",
       "      <td>CLT</td>\n",
       "      <td>Charlotte, NC</td>\n",
       "      <td>AGS</td>\n",
       "      <td>Augusta, GA</td>\n",
       "      <td>1125</td>\n",
       "      <td>1117.0</td>\n",
       "      <td>-8.0</td>\n",
       "      <td>27.0</td>\n",
       "      <td>5.0</td>\n",
       "      <td>1227</td>\n",
       "      <td>1219.0</td>\n",
       "      <td>-8.0</td>\n",
       "      <td>0</td>\n",
       "      <td>0</td>\n",
       "      <td>62</td>\n",
       "      <td>62.0</td>\n",
       "      <td>30.0</td>\n",
       "      <td>1</td>\n",
       "      <td>140</td>\n",
       "      <td>0.0</td>\n",
       "      <td>0.0</td>\n",
       "      <td>0.0</td>\n",
       "      <td>0.0</td>\n",
       "      <td>0.0</td>\n",
       "      <td>-8.0</td>\n",
       "    </tr>\n",
       "    <tr>\n",
       "      <th>1</th>\n",
       "      <td>12/31/2019</td>\n",
       "      <td>DL</td>\n",
       "      <td>SEA</td>\n",
       "      <td>Seattle, WA</td>\n",
       "      <td>PHX</td>\n",
       "      <td>Phoenix, AZ</td>\n",
       "      <td>1859</td>\n",
       "      <td>1858.0</td>\n",
       "      <td>-1.0</td>\n",
       "      <td>23.0</td>\n",
       "      <td>6.0</td>\n",
       "      <td>2244</td>\n",
       "      <td>2242.0</td>\n",
       "      <td>-2.0</td>\n",
       "      <td>0</td>\n",
       "      <td>0</td>\n",
       "      <td>165</td>\n",
       "      <td>164.0</td>\n",
       "      <td>135.0</td>\n",
       "      <td>1</td>\n",
       "      <td>1107</td>\n",
       "      <td>0.0</td>\n",
       "      <td>0.0</td>\n",
       "      <td>0.0</td>\n",
       "      <td>0.0</td>\n",
       "      <td>0.0</td>\n",
       "      <td>-2.0</td>\n",
       "    </tr>\n",
       "    <tr>\n",
       "      <th>2</th>\n",
       "      <td>12/31/2019</td>\n",
       "      <td>UA</td>\n",
       "      <td>DEN</td>\n",
       "      <td>Denver, CO</td>\n",
       "      <td>IAD</td>\n",
       "      <td>Washington, DC</td>\n",
       "      <td>1340</td>\n",
       "      <td>1334.0</td>\n",
       "      <td>-6.0</td>\n",
       "      <td>14.0</td>\n",
       "      <td>6.0</td>\n",
       "      <td>1848</td>\n",
       "      <td>1829.0</td>\n",
       "      <td>-19.0</td>\n",
       "      <td>0</td>\n",
       "      <td>0</td>\n",
       "      <td>188</td>\n",
       "      <td>175.0</td>\n",
       "      <td>155.0</td>\n",
       "      <td>1</td>\n",
       "      <td>1452</td>\n",
       "      <td>0.0</td>\n",
       "      <td>0.0</td>\n",
       "      <td>0.0</td>\n",
       "      <td>0.0</td>\n",
       "      <td>0.0</td>\n",
       "      <td>-19.0</td>\n",
       "    </tr>\n",
       "  </tbody>\n",
       "</table>\n",
       "</div>"
      ],
      "text/plain": [
       "      fl_date mkt_unique_carrier origin origin_city_name dest  dest_city_name  \\\n",
       "0  12/31/2019                 AA    CLT    Charlotte, NC  AGS     Augusta, GA   \n",
       "1  12/31/2019                 DL    SEA      Seattle, WA  PHX     Phoenix, AZ   \n",
       "2  12/31/2019                 UA    DEN       Denver, CO  IAD  Washington, DC   \n",
       "\n",
       "   crs_dep_time  dep_time  dep_delay  taxi_out  taxi_in  crs_arr_time  \\\n",
       "0          1125    1117.0       -8.0      27.0      5.0          1227   \n",
       "1          1859    1858.0       -1.0      23.0      6.0          2244   \n",
       "2          1340    1334.0       -6.0      14.0      6.0          1848   \n",
       "\n",
       "   arr_time  arr_delay  cancelled  diverted  crs_elapsed_time  \\\n",
       "0    1219.0       -8.0          0         0                62   \n",
       "1    2242.0       -2.0          0         0               165   \n",
       "2    1829.0      -19.0          0         0               188   \n",
       "\n",
       "   actual_elapsed_time  air_time  flights  distance  carrier_delay  \\\n",
       "0                 62.0      30.0        1       140            0.0   \n",
       "1                164.0     135.0        1      1107            0.0   \n",
       "2                175.0     155.0        1      1452            0.0   \n",
       "\n",
       "   weather_delay  nas_delay  security_delay  late_aircraft_delay  totel_delay  \n",
       "0            0.0        0.0             0.0                  0.0         -8.0  \n",
       "1            0.0        0.0             0.0                  0.0         -2.0  \n",
       "2            0.0        0.0             0.0                  0.0        -19.0  "
      ]
     },
     "execution_count": 59,
     "metadata": {},
     "output_type": "execute_result"
    }
   ],
   "source": [
    "flight.dropna(inplace=True)\n",
    "flight.head(3)"
   ]
  },
  {
   "cell_type": "code",
   "execution_count": 60,
   "metadata": {},
   "outputs": [],
   "source": [
    "flight['fl_date'] = pd.to_datetime(flight['fl_date'], format= \"%m/%d/%Y\" )"
   ]
  },
  {
   "cell_type": "code",
   "execution_count": 61,
   "metadata": {},
   "outputs": [],
   "source": [
    "flight['month'] = pd.to_datetime(flight['fl_date']).dt.month"
   ]
  },
  {
   "cell_type": "code",
   "execution_count": 62,
   "metadata": {},
   "outputs": [],
   "source": [
    "flight['day'] = pd.to_datetime(flight['fl_date']).dt.day"
   ]
  },
  {
   "cell_type": "code",
   "execution_count": 63,
   "metadata": {},
   "outputs": [
    {
     "data": {
      "text/html": [
       "<div>\n",
       "<style scoped>\n",
       "    .dataframe tbody tr th:only-of-type {\n",
       "        vertical-align: middle;\n",
       "    }\n",
       "\n",
       "    .dataframe tbody tr th {\n",
       "        vertical-align: top;\n",
       "    }\n",
       "\n",
       "    .dataframe thead th {\n",
       "        text-align: right;\n",
       "    }\n",
       "</style>\n",
       "<table border=\"1\" class=\"dataframe\">\n",
       "  <thead>\n",
       "    <tr style=\"text-align: right;\">\n",
       "      <th></th>\n",
       "      <th>fl_date</th>\n",
       "      <th>mkt_unique_carrier</th>\n",
       "      <th>origin</th>\n",
       "      <th>origin_city_name</th>\n",
       "      <th>dest</th>\n",
       "      <th>dest_city_name</th>\n",
       "      <th>crs_dep_time</th>\n",
       "      <th>dep_time</th>\n",
       "      <th>dep_delay</th>\n",
       "      <th>taxi_out</th>\n",
       "      <th>taxi_in</th>\n",
       "      <th>crs_arr_time</th>\n",
       "      <th>arr_time</th>\n",
       "      <th>arr_delay</th>\n",
       "      <th>cancelled</th>\n",
       "      <th>diverted</th>\n",
       "      <th>crs_elapsed_time</th>\n",
       "      <th>actual_elapsed_time</th>\n",
       "      <th>air_time</th>\n",
       "      <th>flights</th>\n",
       "      <th>distance</th>\n",
       "      <th>carrier_delay</th>\n",
       "      <th>weather_delay</th>\n",
       "      <th>nas_delay</th>\n",
       "      <th>security_delay</th>\n",
       "      <th>late_aircraft_delay</th>\n",
       "      <th>totel_delay</th>\n",
       "      <th>month</th>\n",
       "      <th>day</th>\n",
       "    </tr>\n",
       "  </thead>\n",
       "  <tbody>\n",
       "    <tr>\n",
       "      <th>0</th>\n",
       "      <td>2019-12-31</td>\n",
       "      <td>AA</td>\n",
       "      <td>CLT</td>\n",
       "      <td>Charlotte, NC</td>\n",
       "      <td>AGS</td>\n",
       "      <td>Augusta, GA</td>\n",
       "      <td>1125</td>\n",
       "      <td>1117.0</td>\n",
       "      <td>-8.0</td>\n",
       "      <td>27.0</td>\n",
       "      <td>5.0</td>\n",
       "      <td>1227</td>\n",
       "      <td>1219.0</td>\n",
       "      <td>-8.0</td>\n",
       "      <td>0</td>\n",
       "      <td>0</td>\n",
       "      <td>62</td>\n",
       "      <td>62.0</td>\n",
       "      <td>30.0</td>\n",
       "      <td>1</td>\n",
       "      <td>140</td>\n",
       "      <td>0.0</td>\n",
       "      <td>0.0</td>\n",
       "      <td>0.0</td>\n",
       "      <td>0.0</td>\n",
       "      <td>0.0</td>\n",
       "      <td>-8.0</td>\n",
       "      <td>12</td>\n",
       "      <td>31</td>\n",
       "    </tr>\n",
       "    <tr>\n",
       "      <th>1</th>\n",
       "      <td>2019-12-31</td>\n",
       "      <td>DL</td>\n",
       "      <td>SEA</td>\n",
       "      <td>Seattle, WA</td>\n",
       "      <td>PHX</td>\n",
       "      <td>Phoenix, AZ</td>\n",
       "      <td>1859</td>\n",
       "      <td>1858.0</td>\n",
       "      <td>-1.0</td>\n",
       "      <td>23.0</td>\n",
       "      <td>6.0</td>\n",
       "      <td>2244</td>\n",
       "      <td>2242.0</td>\n",
       "      <td>-2.0</td>\n",
       "      <td>0</td>\n",
       "      <td>0</td>\n",
       "      <td>165</td>\n",
       "      <td>164.0</td>\n",
       "      <td>135.0</td>\n",
       "      <td>1</td>\n",
       "      <td>1107</td>\n",
       "      <td>0.0</td>\n",
       "      <td>0.0</td>\n",
       "      <td>0.0</td>\n",
       "      <td>0.0</td>\n",
       "      <td>0.0</td>\n",
       "      <td>-2.0</td>\n",
       "      <td>12</td>\n",
       "      <td>31</td>\n",
       "    </tr>\n",
       "    <tr>\n",
       "      <th>2</th>\n",
       "      <td>2019-12-31</td>\n",
       "      <td>UA</td>\n",
       "      <td>DEN</td>\n",
       "      <td>Denver, CO</td>\n",
       "      <td>IAD</td>\n",
       "      <td>Washington, DC</td>\n",
       "      <td>1340</td>\n",
       "      <td>1334.0</td>\n",
       "      <td>-6.0</td>\n",
       "      <td>14.0</td>\n",
       "      <td>6.0</td>\n",
       "      <td>1848</td>\n",
       "      <td>1829.0</td>\n",
       "      <td>-19.0</td>\n",
       "      <td>0</td>\n",
       "      <td>0</td>\n",
       "      <td>188</td>\n",
       "      <td>175.0</td>\n",
       "      <td>155.0</td>\n",
       "      <td>1</td>\n",
       "      <td>1452</td>\n",
       "      <td>0.0</td>\n",
       "      <td>0.0</td>\n",
       "      <td>0.0</td>\n",
       "      <td>0.0</td>\n",
       "      <td>0.0</td>\n",
       "      <td>-19.0</td>\n",
       "      <td>12</td>\n",
       "      <td>31</td>\n",
       "    </tr>\n",
       "  </tbody>\n",
       "</table>\n",
       "</div>"
      ],
      "text/plain": [
       "     fl_date mkt_unique_carrier origin origin_city_name dest  dest_city_name  \\\n",
       "0 2019-12-31                 AA    CLT    Charlotte, NC  AGS     Augusta, GA   \n",
       "1 2019-12-31                 DL    SEA      Seattle, WA  PHX     Phoenix, AZ   \n",
       "2 2019-12-31                 UA    DEN       Denver, CO  IAD  Washington, DC   \n",
       "\n",
       "   crs_dep_time  dep_time  dep_delay  taxi_out  taxi_in  crs_arr_time  \\\n",
       "0          1125    1117.0       -8.0      27.0      5.0          1227   \n",
       "1          1859    1858.0       -1.0      23.0      6.0          2244   \n",
       "2          1340    1334.0       -6.0      14.0      6.0          1848   \n",
       "\n",
       "   arr_time  arr_delay  cancelled  diverted  crs_elapsed_time  \\\n",
       "0    1219.0       -8.0          0         0                62   \n",
       "1    2242.0       -2.0          0         0               165   \n",
       "2    1829.0      -19.0          0         0               188   \n",
       "\n",
       "   actual_elapsed_time  air_time  flights  distance  carrier_delay  \\\n",
       "0                 62.0      30.0        1       140            0.0   \n",
       "1                164.0     135.0        1      1107            0.0   \n",
       "2                175.0     155.0        1      1452            0.0   \n",
       "\n",
       "   weather_delay  nas_delay  security_delay  late_aircraft_delay  totel_delay  \\\n",
       "0            0.0        0.0             0.0                  0.0         -8.0   \n",
       "1            0.0        0.0             0.0                  0.0         -2.0   \n",
       "2            0.0        0.0             0.0                  0.0        -19.0   \n",
       "\n",
       "   month  day  \n",
       "0     12   31  \n",
       "1     12   31  \n",
       "2     12   31  "
      ]
     },
     "execution_count": 63,
     "metadata": {},
     "output_type": "execute_result"
    }
   ],
   "source": [
    "flight.head(3)"
   ]
  },
  {
   "cell_type": "code",
   "execution_count": 64,
   "metadata": {},
   "outputs": [],
   "source": [
    "flight['dep_time'] = flight['dep_time'].astype(str).str.strip()"
   ]
  },
  {
   "cell_type": "code",
   "execution_count": 65,
   "metadata": {},
   "outputs": [],
   "source": [
    "#convert dep_time to H:M\n",
    "flight['dep_time'] = flight['dep_time'].map(str)\n",
    "flight['dep_time'] = flight['dep_time'].str.zfill(4)\n",
    "flight.dep_time = flight.dep_time.str[:2] + ':' + flight.dep_time.str[-2:]\n",
    "flight['dep_time'] = flight['dep_time'].astype(str).replace('\\.', '', regex=True)\n"
   ]
  },
  {
   "cell_type": "code",
   "execution_count": 66,
   "metadata": {},
   "outputs": [],
   "source": [
    "#convert crs_arr_time to H:M\n",
    "\n",
    "flight['crs_arr_time'] = flight['crs_arr_time'].map(str)\n",
    "flight['crs_arr_time'] = flight['crs_arr_time'].str.zfill(4)\n",
    "flight.crs_arr_time = flight.crs_arr_time.str[:2] + ':' + flight.crs_arr_time.str[-2:]"
   ]
  },
  {
   "cell_type": "code",
   "execution_count": 67,
   "metadata": {},
   "outputs": [],
   "source": [
    "#convert arr_time to H:M\n",
    "\n",
    "flight['arr_time'] = flight['arr_time'].map(str)\n",
    "flight['arr_time'] = flight['arr_time'].str.zfill(4)\n",
    "flight.arr_time = flight.arr_time.str[:2] + ':' + flight.arr_time .str[-2:]\n",
    "flight['dep_time'] = flight['dep_time'].astype(str).replace('\\.', '', regex=True)\n"
   ]
  },
  {
   "cell_type": "code",
   "execution_count": 68,
   "metadata": {},
   "outputs": [],
   "source": [
    "#convert crs_dep_time to H:M\n",
    "\n",
    "flight['crs_dep_time'] = flight['crs_dep_time'].map(str)\n",
    "flight['crs_dep_time'] = flight['crs_dep_time'].str.zfill(4)\n",
    "flight.crs_dep_time = flight.crs_dep_time.str[:2] + ':' + flight.arr_time .str[-2:]\n",
    "flight['crs_dep_time'] = flight['crs_dep_time'].astype(str).replace('\\.', '', regex=True)\n",
    "\n",
    "#flight['crs_dep_time'] = pd.to_datetime(flight['crs_dep_time']).dt.strftime('%H:%M')"
   ]
  },
  {
   "cell_type": "code",
   "execution_count": 69,
   "metadata": {},
   "outputs": [
    {
     "name": "stdout",
     "output_type": "stream",
     "text": [
      "<class 'pandas.core.frame.DataFrame'>\n",
      "Int64Index: 97994 entries, 0 to 99999\n",
      "Data columns (total 29 columns):\n",
      " #   Column               Non-Null Count  Dtype         \n",
      "---  ------               --------------  -----         \n",
      " 0   fl_date              97994 non-null  datetime64[ns]\n",
      " 1   mkt_unique_carrier   97994 non-null  object        \n",
      " 2   origin               97994 non-null  object        \n",
      " 3   origin_city_name     97994 non-null  object        \n",
      " 4   dest                 97994 non-null  object        \n",
      " 5   dest_city_name       97994 non-null  object        \n",
      " 6   crs_dep_time         97994 non-null  object        \n",
      " 7   dep_time             97994 non-null  object        \n",
      " 8   dep_delay            97994 non-null  float64       \n",
      " 9   taxi_out             97994 non-null  float64       \n",
      " 10  taxi_in              97994 non-null  float64       \n",
      " 11  crs_arr_time         97994 non-null  object        \n",
      " 12  arr_time             97994 non-null  object        \n",
      " 13  arr_delay            97994 non-null  float64       \n",
      " 14  cancelled            97994 non-null  int64         \n",
      " 15  diverted             97994 non-null  int64         \n",
      " 16  crs_elapsed_time     97994 non-null  int64         \n",
      " 17  actual_elapsed_time  97994 non-null  float64       \n",
      " 18  air_time             97994 non-null  float64       \n",
      " 19  flights              97994 non-null  int64         \n",
      " 20  distance             97994 non-null  int64         \n",
      " 21  carrier_delay        97994 non-null  float64       \n",
      " 22  weather_delay        97994 non-null  float64       \n",
      " 23  nas_delay            97994 non-null  float64       \n",
      " 24  security_delay       97994 non-null  float64       \n",
      " 25  late_aircraft_delay  97994 non-null  float64       \n",
      " 26  totel_delay          97994 non-null  float64       \n",
      " 27  month                97994 non-null  int64         \n",
      " 28  day                  97994 non-null  int64         \n",
      "dtypes: datetime64[ns](1), float64(12), int64(7), object(9)\n",
      "memory usage: 22.4+ MB\n"
     ]
    }
   ],
   "source": [
    "flight.info()"
   ]
  },
  {
   "cell_type": "markdown",
   "metadata": {},
   "source": [
    "#### **Task 1**: Test the hypothesis that the delay is from Normal distribution. and that **mean** of the delay is 0. Be careful about the outliers."
   ]
  },
  {
   "cell_type": "code",
   "execution_count": 70,
   "metadata": {},
   "outputs": [
    {
     "name": "stderr",
     "output_type": "stream",
     "text": [
      "C:\\Users\\info\\AppData\\Local\\Packages\\PythonSoftwareFoundation.Python.3.9_qbz5n2kfra8p0\\LocalCache\\local-packages\\Python39\\site-packages\\scipy\\stats\\_morestats.py:1761: UserWarning: p-value may not be accurate for N > 5000.\n",
      "  warnings.warn(\"p-value may not be accurate for N > 5000.\")\n"
     ]
    },
    {
     "data": {
      "text/plain": [
       "ShapiroResult(statistic=0.47812747955322266, pvalue=0.0)"
      ]
     },
     "execution_count": 70,
     "metadata": {},
     "output_type": "execute_result"
    }
   ],
   "source": [
    "shapiro(flight['totel_delay'])"
   ]
  },
  {
   "cell_type": "code",
   "execution_count": 71,
   "metadata": {},
   "outputs": [
    {
     "data": {
      "image/png": "[encoded data removed]",
      "text/plain": [
       "<Figure size 432x288 with 1 Axes>"
      ]
     },
     "metadata": {
      "needs_background": "light"
     },
     "output_type": "display_data"
    }
   ],
   "source": [
    "count, bins, ignored = plt.hist(flight['totel_delay'], 10)\n"
   ]
  },
  {
   "cell_type": "markdown",
   "metadata": {},
   "source": [
    "#### **Task 2**: Is average/median monthly delay different during the year? If yes, which are months with the biggest delays and what could be the reason?"
   ]
  },
  {
   "cell_type": "code",
   "execution_count": 72,
   "metadata": {},
   "outputs": [
    {
     "data": {
      "text/html": [
       "<div>\n",
       "<style scoped>\n",
       "    .dataframe tbody tr th:only-of-type {\n",
       "        vertical-align: middle;\n",
       "    }\n",
       "\n",
       "    .dataframe tbody tr th {\n",
       "        vertical-align: top;\n",
       "    }\n",
       "\n",
       "    .dataframe thead th {\n",
       "        text-align: right;\n",
       "    }\n",
       "</style>\n",
       "<table border=\"1\" class=\"dataframe\">\n",
       "  <thead>\n",
       "    <tr style=\"text-align: right;\">\n",
       "      <th></th>\n",
       "      <th>totel_delay</th>\n",
       "      <th>N_of_flight_m</th>\n",
       "      <th>origin</th>\n",
       "    </tr>\n",
       "    <tr>\n",
       "      <th>month</th>\n",
       "      <th></th>\n",
       "      <th></th>\n",
       "      <th></th>\n",
       "    </tr>\n",
       "  </thead>\n",
       "  <tbody>\n",
       "    <tr>\n",
       "      <th>1</th>\n",
       "      <td>3.716658</td>\n",
       "      <td>7528</td>\n",
       "      <td>292</td>\n",
       "    </tr>\n",
       "    <tr>\n",
       "      <th>2</th>\n",
       "      <td>7.273545</td>\n",
       "      <td>7114</td>\n",
       "      <td>290</td>\n",
       "    </tr>\n",
       "    <tr>\n",
       "      <th>3</th>\n",
       "      <td>2.637220</td>\n",
       "      <td>8490</td>\n",
       "      <td>310</td>\n",
       "    </tr>\n",
       "    <tr>\n",
       "      <th>4</th>\n",
       "      <td>4.021888</td>\n",
       "      <td>8178</td>\n",
       "      <td>308</td>\n",
       "    </tr>\n",
       "    <tr>\n",
       "      <th>5</th>\n",
       "      <td>6.259147</td>\n",
       "      <td>8582</td>\n",
       "      <td>301</td>\n",
       "    </tr>\n",
       "    <tr>\n",
       "      <th>6</th>\n",
       "      <td>11.523614</td>\n",
       "      <td>8279</td>\n",
       "      <td>311</td>\n",
       "    </tr>\n",
       "    <tr>\n",
       "      <th>7</th>\n",
       "      <td>8.802673</td>\n",
       "      <td>8681</td>\n",
       "      <td>311</td>\n",
       "    </tr>\n",
       "    <tr>\n",
       "      <th>8</th>\n",
       "      <td>8.910181</td>\n",
       "      <td>8673</td>\n",
       "      <td>307</td>\n",
       "    </tr>\n",
       "    <tr>\n",
       "      <th>9</th>\n",
       "      <td>1.367170</td>\n",
       "      <td>7950</td>\n",
       "      <td>300</td>\n",
       "    </tr>\n",
       "    <tr>\n",
       "      <th>10</th>\n",
       "      <td>3.081981</td>\n",
       "      <td>8380</td>\n",
       "      <td>303</td>\n",
       "    </tr>\n",
       "    <tr>\n",
       "      <th>11</th>\n",
       "      <td>3.400697</td>\n",
       "      <td>8031</td>\n",
       "      <td>309</td>\n",
       "    </tr>\n",
       "    <tr>\n",
       "      <th>12</th>\n",
       "      <td>5.970893</td>\n",
       "      <td>8108</td>\n",
       "      <td>304</td>\n",
       "    </tr>\n",
       "  </tbody>\n",
       "</table>\n",
       "</div>"
      ],
      "text/plain": [
       "       totel_delay  N_of_flight_m  origin\n",
       "month                                    \n",
       "1         3.716658           7528     292\n",
       "2         7.273545           7114     290\n",
       "3         2.637220           8490     310\n",
       "4         4.021888           8178     308\n",
       "5         6.259147           8582     301\n",
       "6        11.523614           8279     311\n",
       "7         8.802673           8681     311\n",
       "8         8.910181           8673     307\n",
       "9         1.367170           7950     300\n",
       "10        3.081981           8380     303\n",
       "11        3.400697           8031     309\n",
       "12        5.970893           8108     304"
      ]
     },
     "execution_count": 72,
     "metadata": {},
     "output_type": "execute_result"
    }
   ],
   "source": [
    "flight['N_of_flight_m'] = flight.groupby('month')[['fl_date']].size()\n",
    "Average_M_delay = flight.groupby('month').agg({'totel_delay': 'mean', 'N_of_flight_m': 'size',  'origin': 'nunique'})\n",
    "Average_M_delay"
   ]
  },
  {
   "cell_type": "code",
   "execution_count": 73,
   "metadata": {},
   "outputs": [
    {
     "data": {
      "text/plain": [
       "<Figure size 1440x720 with 0 Axes>"
      ]
     },
     "metadata": {},
     "output_type": "display_data"
    },
    {
     "data": {
      "image/png": "[encoded data removed]",
      "text/plain": [
       "<Figure size 432x288 with 1 Axes>"
      ]
     },
     "metadata": {
      "needs_background": "light"
     },
     "output_type": "display_data"
    }
   ],
   "source": [
    "avgLate = np.sum(flight['N_of_flight_m'])/len(flight['N_of_flight_m'])\n",
    "attributes = ['month']\n",
    "for i,pred in enumerate(attributes):\n",
    "    plt.figure(i, figsize=(20, 10))\n",
    "    group = flight.groupby([pred], as_index=False).aggregate(np.mean)[[pred, 'totel_delay']]\n",
    "    group.sort_values(by=pred, inplace=True)    \n",
    "    group.plot.bar(x=pred, y='totel_delay')\n",
    "    plt.axhline(y=avgLate, label='Average')\n",
    "    plt.ylabel('Number of Flights')\n",
    "    plt.title(pred)\n",
    "    plt.legend().remove()"
   ]
  },
  {
   "cell_type": "markdown",
   "metadata": {},
   "source": [
    "**June has biggest delays**"
   ]
  },
  {
   "cell_type": "markdown",
   "metadata": {},
   "source": [
    "#### **Task 4**: How taxi times changing during the day? Does higher traffic lead to bigger taxi times?"
   ]
  },
  {
   "cell_type": "code",
   "execution_count": 74,
   "metadata": {},
   "outputs": [],
   "source": [
    "# Convert time to 24 hours\n",
    "flight['24_hours'] = flight.dep_time.str[:2]\n"
   ]
  },
  {
   "cell_type": "code",
   "execution_count": 75,
   "metadata": {},
   "outputs": [],
   "source": [
    "# find numbers of flight per hours\n",
    "flight['N_of_flight_h'] = flight.groupby('24_hours')[['taxi_out']].count()\n"
   ]
  },
  {
   "cell_type": "code",
   "execution_count": 76,
   "metadata": {},
   "outputs": [
    {
     "data": {
      "text/html": [
       "<div>\n",
       "<style scoped>\n",
       "    .dataframe tbody tr th:only-of-type {\n",
       "        vertical-align: middle;\n",
       "    }\n",
       "\n",
       "    .dataframe tbody tr th {\n",
       "        vertical-align: top;\n",
       "    }\n",
       "\n",
       "    .dataframe thead th {\n",
       "        text-align: right;\n",
       "    }\n",
       "</style>\n",
       "<table border=\"1\" class=\"dataframe\">\n",
       "  <thead>\n",
       "    <tr style=\"text-align: right;\">\n",
       "      <th></th>\n",
       "      <th>taxi_out</th>\n",
       "      <th>origin</th>\n",
       "    </tr>\n",
       "    <tr>\n",
       "      <th>24_hours</th>\n",
       "      <th></th>\n",
       "      <th></th>\n",
       "    </tr>\n",
       "  </thead>\n",
       "  <tbody>\n",
       "    <tr>\n",
       "      <th>01</th>\n",
       "      <td>18.666667</td>\n",
       "      <td>11</td>\n",
       "    </tr>\n",
       "    <tr>\n",
       "      <th>02</th>\n",
       "      <td>16.333333</td>\n",
       "      <td>8</td>\n",
       "    </tr>\n",
       "    <tr>\n",
       "      <th>03</th>\n",
       "      <td>13.800000</td>\n",
       "      <td>8</td>\n",
       "    </tr>\n",
       "  </tbody>\n",
       "</table>\n",
       "</div>"
      ],
      "text/plain": [
       "           taxi_out  origin\n",
       "24_hours                   \n",
       "01        18.666667      11\n",
       "02        16.333333       8\n",
       "03        13.800000       8"
      ]
     },
     "execution_count": 76,
     "metadata": {},
     "output_type": "execute_result"
    }
   ],
   "source": [
    "# taxi times delay changing for each hours in a day with number of the airport\n",
    "taxi_cha = flight.groupby('24_hours').agg({'taxi_out': 'mean', 'origin': 'nunique'})\n",
    "taxi_cha.head(3)"
   ]
  },
  {
   "cell_type": "code",
   "execution_count": 77,
   "metadata": {},
   "outputs": [
    {
     "data": {
      "text/plain": [
       "<Figure size 1440x720 with 0 Axes>"
      ]
     },
     "metadata": {},
     "output_type": "display_data"
    },
    {
     "data": {
      "image/png": "[encoded data removed]",
      "text/plain": [
       "<Figure size 432x288 with 1 Axes>"
      ]
     },
     "metadata": {
      "needs_background": "light"
     },
     "output_type": "display_data"
    }
   ],
   "source": [
    "avgLate = np.sum(flight['totel_delay'])/len(flight['totel_delay'])\n",
    "attributes = ['24_hours']\n",
    "for i,pred in enumerate(attributes):\n",
    "    plt.figure(i, figsize=(20, 10))\n",
    "    group = flight.groupby([pred], as_index=False).aggregate(np.mean)[[pred, 'totel_delay']]\n",
    "    group.sort_values(by=pred, inplace=True)    \n",
    "    group.plot.bar(x=pred, y='totel_delay')\n",
    "    plt.axhline(y=avgLate, label='Average')\n",
    "    plt.ylabel('Number of delaed Flights')\n",
    "    plt.title(pred)\n",
    "    plt.legend().remove()"
   ]
  },
  {
   "cell_type": "markdown",
   "metadata": {},
   "source": [
    "#### **Task 5**: What is the average percentage of delays that is already created before departure? (aka are arrival delays caused by departure delays?) Are airlines able to lower the delay during the flights?"
   ]
  },
  {
   "cell_type": "code",
   "execution_count": 78,
   "metadata": {},
   "outputs": [
    {
     "data": {
      "text/plain": [
       "count    97994.000000\n",
       "mean        -4.976611\n",
       "std         14.380548\n",
       "min      -1461.000000\n",
       "25%        -13.000000\n",
       "50%         -6.000000\n",
       "75%          1.000000\n",
       "max        230.000000\n",
       "dtype: float64"
      ]
     },
     "execution_count": 78,
     "metadata": {},
     "output_type": "execute_result"
    }
   ],
   "source": [
    "(flight['actual_elapsed_time'] - flight['crs_elapsed_time']).describe()"
   ]
  },
  {
   "cell_type": "code",
   "execution_count": null,
   "metadata": {},
   "outputs": [],
   "source": []
  },
  {
   "cell_type": "markdown",
   "metadata": {},
   "source": [
    "#### **Task 6**: How many states cover 50% of US air traffic? "
   ]
  },
  {
   "cell_type": "code",
   "execution_count": 79,
   "metadata": {},
   "outputs": [
    {
     "data": {
      "text/plain": [
       "48997.0"
      ]
     },
     "execution_count": 79,
     "metadata": {},
     "output_type": "execute_result"
    }
   ],
   "source": [
    "flight['states'] = flight['origin_city_name'].str[-2:]\n",
    "flights_per_state = flight.groupby('states')['fl_date'].count()\n",
    "total_states = len(flights_per_state)\n",
    "total_flights = flight.fl_date.count()\n",
    "half_traffic = total_flights / 2\n",
    "sorted_flight = flights_per_state.sort_values(ascending = False)\n",
    "half_traffic"
   ]
  },
  {
   "cell_type": "code",
   "execution_count": 80,
   "metadata": {},
   "outputs": [
    {
     "name": "stdout",
     "output_type": "stream",
     "text": [
      "['CA', 'TX', 'FL', 'IL', 'GA', 'NY', 'NC', 'CO', 'WA']\n"
     ]
    }
   ],
   "source": [
    "cover = 0\n",
    "indexx = 0\n",
    "states_cover = []\n",
    "for elm in flights_per_state.sort_values(ascending = False):\n",
    "    state = flights_per_state.sort_values(ascending = False).index[indexx]\n",
    "    states_cover.append(state)\n",
    "    indexx += 1\n",
    "    if cover <= half_traffic:\n",
    "        cover += elm\n",
    "    else:\n",
    "        break\n",
    "\n",
    "print(states_cover)       \n"
   ]
  },
  {
   "cell_type": "markdown",
   "metadata": {},
   "source": [
    "#### **Task 7**: Test the hypothesis whether planes fly faster when there is the departure delay? "
   ]
  },
  {
   "cell_type": "code",
   "execution_count": null,
   "metadata": {},
   "outputs": [],
   "source": []
  },
  {
   "cell_type": "markdown",
   "metadata": {},
   "source": [
    "### Calculate the average number of delays per airport.\n"
   ]
  },
  {
   "cell_type": "code",
   "execution_count": 81,
   "metadata": {},
   "outputs": [
    {
     "name": "stdout",
     "output_type": "stream",
     "text": [
      "Average Number of Delays per Airport: 2816.6820652173915\n"
     ]
    }
   ],
   "source": [
    "avg_delays = flight.groupby('origin')['dep_delay'].sum().mean()\n",
    "print('Average Number of Delays per Airport: ' + str(avg_delays))"
   ]
  },
  {
   "cell_type": "code",
   "execution_count": 82,
   "metadata": {},
   "outputs": [
    {
     "data": {
      "text/html": [
       "<div>\n",
       "<style scoped>\n",
       "    .dataframe tbody tr th:only-of-type {\n",
       "        vertical-align: middle;\n",
       "    }\n",
       "\n",
       "    .dataframe tbody tr th {\n",
       "        vertical-align: top;\n",
       "    }\n",
       "\n",
       "    .dataframe thead th {\n",
       "        text-align: right;\n",
       "    }\n",
       "</style>\n",
       "<table border=\"1\" class=\"dataframe\">\n",
       "  <thead>\n",
       "    <tr style=\"text-align: right;\">\n",
       "      <th></th>\n",
       "      <th>fl_date</th>\n",
       "      <th>mkt_unique_carrier</th>\n",
       "      <th>origin</th>\n",
       "      <th>origin_city_name</th>\n",
       "      <th>dest</th>\n",
       "      <th>dest_city_name</th>\n",
       "      <th>crs_dep_time</th>\n",
       "      <th>dep_time</th>\n",
       "      <th>dep_delay</th>\n",
       "      <th>taxi_out</th>\n",
       "      <th>taxi_in</th>\n",
       "      <th>crs_arr_time</th>\n",
       "      <th>arr_time</th>\n",
       "      <th>arr_delay</th>\n",
       "      <th>cancelled</th>\n",
       "      <th>diverted</th>\n",
       "      <th>crs_elapsed_time</th>\n",
       "      <th>actual_elapsed_time</th>\n",
       "      <th>air_time</th>\n",
       "      <th>flights</th>\n",
       "      <th>distance</th>\n",
       "      <th>carrier_delay</th>\n",
       "      <th>weather_delay</th>\n",
       "      <th>nas_delay</th>\n",
       "      <th>security_delay</th>\n",
       "      <th>late_aircraft_delay</th>\n",
       "      <th>totel_delay</th>\n",
       "      <th>month</th>\n",
       "      <th>day</th>\n",
       "      <th>N_of_flight_m</th>\n",
       "      <th>24_hours</th>\n",
       "      <th>N_of_flight_h</th>\n",
       "      <th>states</th>\n",
       "    </tr>\n",
       "  </thead>\n",
       "  <tbody>\n",
       "    <tr>\n",
       "      <th>0</th>\n",
       "      <td>2019-12-31</td>\n",
       "      <td>AA</td>\n",
       "      <td>CLT</td>\n",
       "      <td>Charlotte, NC</td>\n",
       "      <td>AGS</td>\n",
       "      <td>Augusta, GA</td>\n",
       "      <td>11:0</td>\n",
       "      <td>11:0</td>\n",
       "      <td>-8.0</td>\n",
       "      <td>27.0</td>\n",
       "      <td>5.0</td>\n",
       "      <td>12:27</td>\n",
       "      <td>12:.0</td>\n",
       "      <td>-8.0</td>\n",
       "      <td>0</td>\n",
       "      <td>0</td>\n",
       "      <td>62</td>\n",
       "      <td>62.0</td>\n",
       "      <td>30.0</td>\n",
       "      <td>1</td>\n",
       "      <td>140</td>\n",
       "      <td>0.0</td>\n",
       "      <td>0.0</td>\n",
       "      <td>0.0</td>\n",
       "      <td>0.0</td>\n",
       "      <td>0.0</td>\n",
       "      <td>-8.0</td>\n",
       "      <td>12</td>\n",
       "      <td>31</td>\n",
       "      <td>NaN</td>\n",
       "      <td>11</td>\n",
       "      <td>NaN</td>\n",
       "      <td>NC</td>\n",
       "    </tr>\n",
       "    <tr>\n",
       "      <th>1</th>\n",
       "      <td>2019-12-31</td>\n",
       "      <td>DL</td>\n",
       "      <td>SEA</td>\n",
       "      <td>Seattle, WA</td>\n",
       "      <td>PHX</td>\n",
       "      <td>Phoenix, AZ</td>\n",
       "      <td>18:0</td>\n",
       "      <td>18:0</td>\n",
       "      <td>-1.0</td>\n",
       "      <td>23.0</td>\n",
       "      <td>6.0</td>\n",
       "      <td>22:44</td>\n",
       "      <td>22:.0</td>\n",
       "      <td>-2.0</td>\n",
       "      <td>0</td>\n",
       "      <td>0</td>\n",
       "      <td>165</td>\n",
       "      <td>164.0</td>\n",
       "      <td>135.0</td>\n",
       "      <td>1</td>\n",
       "      <td>1107</td>\n",
       "      <td>0.0</td>\n",
       "      <td>0.0</td>\n",
       "      <td>0.0</td>\n",
       "      <td>0.0</td>\n",
       "      <td>0.0</td>\n",
       "      <td>-2.0</td>\n",
       "      <td>12</td>\n",
       "      <td>31</td>\n",
       "      <td>7528.0</td>\n",
       "      <td>18</td>\n",
       "      <td>NaN</td>\n",
       "      <td>WA</td>\n",
       "    </tr>\n",
       "    <tr>\n",
       "      <th>2</th>\n",
       "      <td>2019-12-31</td>\n",
       "      <td>UA</td>\n",
       "      <td>DEN</td>\n",
       "      <td>Denver, CO</td>\n",
       "      <td>IAD</td>\n",
       "      <td>Washington, DC</td>\n",
       "      <td>13:0</td>\n",
       "      <td>13:0</td>\n",
       "      <td>-6.0</td>\n",
       "      <td>14.0</td>\n",
       "      <td>6.0</td>\n",
       "      <td>18:48</td>\n",
       "      <td>18:.0</td>\n",
       "      <td>-19.0</td>\n",
       "      <td>0</td>\n",
       "      <td>0</td>\n",
       "      <td>188</td>\n",
       "      <td>175.0</td>\n",
       "      <td>155.0</td>\n",
       "      <td>1</td>\n",
       "      <td>1452</td>\n",
       "      <td>0.0</td>\n",
       "      <td>0.0</td>\n",
       "      <td>0.0</td>\n",
       "      <td>0.0</td>\n",
       "      <td>0.0</td>\n",
       "      <td>-19.0</td>\n",
       "      <td>12</td>\n",
       "      <td>31</td>\n",
       "      <td>7114.0</td>\n",
       "      <td>13</td>\n",
       "      <td>NaN</td>\n",
       "      <td>CO</td>\n",
       "    </tr>\n",
       "  </tbody>\n",
       "</table>\n",
       "</div>"
      ],
      "text/plain": [
       "     fl_date mkt_unique_carrier origin origin_city_name dest  dest_city_name  \\\n",
       "0 2019-12-31                 AA    CLT    Charlotte, NC  AGS     Augusta, GA   \n",
       "1 2019-12-31                 DL    SEA      Seattle, WA  PHX     Phoenix, AZ   \n",
       "2 2019-12-31                 UA    DEN       Denver, CO  IAD  Washington, DC   \n",
       "\n",
       "  crs_dep_time dep_time  dep_delay  taxi_out  taxi_in crs_arr_time arr_time  \\\n",
       "0         11:0     11:0       -8.0      27.0      5.0        12:27    12:.0   \n",
       "1         18:0     18:0       -1.0      23.0      6.0        22:44    22:.0   \n",
       "2         13:0     13:0       -6.0      14.0      6.0        18:48    18:.0   \n",
       "\n",
       "   arr_delay  cancelled  diverted  crs_elapsed_time  actual_elapsed_time  \\\n",
       "0       -8.0          0         0                62                 62.0   \n",
       "1       -2.0          0         0               165                164.0   \n",
       "2      -19.0          0         0               188                175.0   \n",
       "\n",
       "   air_time  flights  distance  carrier_delay  weather_delay  nas_delay  \\\n",
       "0      30.0        1       140            0.0            0.0        0.0   \n",
       "1     135.0        1      1107            0.0            0.0        0.0   \n",
       "2     155.0        1      1452            0.0            0.0        0.0   \n",
       "\n",
       "   security_delay  late_aircraft_delay  totel_delay  month  day  \\\n",
       "0             0.0                  0.0         -8.0     12   31   \n",
       "1             0.0                  0.0         -2.0     12   31   \n",
       "2             0.0                  0.0        -19.0     12   31   \n",
       "\n",
       "   N_of_flight_m 24_hours  N_of_flight_h states  \n",
       "0            NaN       11            NaN     NC  \n",
       "1         7528.0       18            NaN     WA  \n",
       "2         7114.0       13            NaN     CO  "
      ]
     },
     "execution_count": 82,
     "metadata": {},
     "output_type": "execute_result"
    }
   ],
   "source": [
    "flight.head(3)"
   ]
  },
  {
   "cell_type": "code",
   "execution_count": 83,
   "metadata": {},
   "outputs": [
    {
     "data": {
      "text/plain": [
       "<Figure size 1080x360 with 0 Axes>"
      ]
     },
     "metadata": {},
     "output_type": "display_data"
    },
    {
     "data": {
      "image/png": "[encoded data removed]",
      "text/plain": [
       "<Figure size 432x288 with 1 Axes>"
      ]
     },
     "metadata": {
      "needs_background": "light"
     },
     "output_type": "display_data"
    },
    {
     "data": {
      "image/png": "[encoded data removed]",
      "text/plain": [
       "<Figure size 432x288 with 1 Axes>"
      ]
     },
     "metadata": {
      "needs_background": "light"
     },
     "output_type": "display_data"
    },
    {
     "data": {
      "image/png": "[encoded data removed]",
      "text/plain": [
       "<Figure size 432x288 with 1 Axes>"
      ]
     },
     "metadata": {
      "needs_background": "light"
     },
     "output_type": "display_data"
    },
    {
     "data": {
      "image/png": "[encoded data removed]",
      "text/plain": [
       "<Figure size 432x288 with 1 Axes>"
      ]
     },
     "metadata": {
      "needs_background": "light"
     },
     "output_type": "display_data"
    },
    {
     "data": {
      "image/png": "[encoded data removed]",
      "text/plain": [
       "<Figure size 432x288 with 1 Axes>"
      ]
     },
     "metadata": {
      "needs_background": "light"
     },
     "output_type": "display_data"
    },
    {
     "data": {
      "image/png": "[encoded data removed]",
      "text/plain": [
       "<Figure size 432x288 with 1 Axes>"
      ]
     },
     "metadata": {
      "needs_background": "light"
     },
     "output_type": "display_data"
    },
    {
     "data": {
      "image/png": "[encoded data removed]",
      "text/plain": [
       "<Figure size 432x288 with 1 Axes>"
      ]
     },
     "metadata": {
      "needs_background": "light"
     },
     "output_type": "display_data"
    }
   ],
   "source": [
    "\n",
    "avgLate = np.sum(flight['totel_delay'])/len(flight['totel_delay'])\n",
    "attributes = ['month','day','crs_dep_time','mkt_unique_carrier',\n",
    "             'crs_arr_time','origin', 'dest']\n",
    "for i,pred in enumerate(attributes):\n",
    "    plt.figure(i, figsize=(15, 5))\n",
    "    group = flight.groupby([pred], as_index=False).aggregate(np.mean)[[pred, 'totel_delay']]\n",
    "    group.sort_values(by=pred, inplace=True)    \n",
    "    group.plot.bar(x=pred, y='totel_delay')\n",
    "    plt.axhline(y=avgLate, label='Average')\n",
    "    plt.ylabel('Percent of Flights that Arrive Late')\n",
    "    plt.title(pred)\n",
    "    plt.legend().remove()\n"
   ]
  }
 ],
 "metadata": {
  "interpreter": {
   "hash": "0c27d29f9dc6f7746641a68af1d50804fdc50c7e7f0374b354968ba88ccd4692"
  },
  "kernelspec": {
   "display_name": "Python 3.9.12 64-bit (windows store)",
   "language": "python",
   "name": "python3"
  },
  "language_info": {
   "codemirror_mode": {
    "name": "ipython",
    "version": 3
   },
   "file_extension": ".py",
   "mimetype": "text/x-python",
   "name": "python",
   "nbconvert_exporter": "python",
   "pygments_lexer": "ipython3",
   "version": "3.9.13"
  },
  "toc": {
   "base_numbering": 1,
   "nav_menu": {},
   "number_sections": true,
   "sideBar": true,
   "skip_h1_title": false,
   "title_cell": "Table of Contents",
   "title_sidebar": "Contents",
   "toc_cell": false,
   "toc_position": {},
   "toc_section_display": true,
   "toc_window_display": false
  },
  "varInspector": {
   "cols": {
    "lenName": 16,
    "lenType": 16,
    "lenVar": 40
   },
   "kernels_config": {
    "python": {
     "delete_cmd_postfix": "",
     "delete_cmd_prefix": "del ",
     "library": "var_list.py",
     "varRefreshCmd": "print(var_dic_list())"
    },
    "r": {
     "delete_cmd_postfix": ") ",
     "delete_cmd_prefix": "rm(",
     "library": "var_list.r",
     "varRefreshCmd": "cat(var_dic_list()) "
    }
   },
   "types_to_exclude": [
    "module",
    "function",
    "builtin_function_or_method",
    "instance",
    "_Feature"
   ],
   "window_display": false
  }
 },
 "nbformat": 4,
 "nbformat_minor": 4
}
