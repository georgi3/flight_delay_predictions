{
 "cells": [
  {
   "cell_type": "markdown",
   "metadata": {
    "pycharm": {
     "name": "#%% md\n"
    }
   },
   "source": [
    "## Exploratory Data Analysis\n",
    "\n",
    "Use this notebook to get familiar with the datasets we have. There is 10 questions we need to answer during the EDA (Exploratory Data Analysis).\n",
    "\n",
    "\n",
    "We shouldn't limit our EDA to these 10 questions. Let's be creative :)."
   ]
  },
  {
   "cell_type": "code",
   "execution_count": 93,
   "metadata": {
    "pycharm": {
     "name": "#%%\n"
    }
   },
   "outputs": [],
   "source": [
    "import pandas as pd\n",
    "import numpy as np\n",
    "import matplotlib.pyplot as plt\n",
    "from scipy import stats\n",
    "import warnings\n",
    "import seaborn as sns\n",
    "import requests\n",
    "from src.config import WEATHER_API_KEY\n",
    "import json\n",
    "from calendar import monthrange"
   ]
  },
  {
   "cell_type": "code",
   "execution_count": 2,
   "outputs": [],
   "source": [
    "warnings.filterwarnings('ignore')"
   ],
   "metadata": {
    "collapsed": false,
    "pycharm": {
     "name": "#%%\n"
    }
   }
  },
  {
   "cell_type": "code",
   "execution_count": 3,
   "outputs": [],
   "source": [
    "fn_flight = '../data/flight_data.csv'\n",
    "fn_passenger = '../data/passengers_sample.csv'\n",
    "fn_fuel = '../data/fuel_consumption.csv'"
   ],
   "metadata": {
    "collapsed": false,
    "pycharm": {
     "name": "#%%\n"
    }
   }
  },
  {
   "cell_type": "code",
   "execution_count": 4,
   "outputs": [],
   "source": [
    "flight_df = pd.read_csv(fn_flight)\n",
    "passenger_df = pd.read_csv(fn_passenger)\n",
    "fuel_df = pd.read_csv(fn_fuel)"
   ],
   "metadata": {
    "collapsed": false,
    "pycharm": {
     "name": "#%%\n"
    }
   }
  },
  {
   "cell_type": "code",
   "execution_count": 108,
   "outputs": [
    {
     "data": {
      "text/plain": "       fl_date mkt_unique_carrier branded_code_share mkt_carrier  \\\n0   2018-01-01                 UA       UA_CODESHARE          UA   \n1   2018-01-01                 UA       UA_CODESHARE          UA   \n2   2018-01-01                 AA                 AA          AA   \n3   2018-01-01                 AA                 AA          AA   \n4   2018-01-01                 AA                 AA          AA   \n..         ...                ...                ...         ...   \n495 2018-01-04                 AA                 AA          AA   \n496 2018-01-04                 AA                 AA          AA   \n497 2018-01-04                 AA                 AA          AA   \n498 2018-01-04                 AA                 AA          AA   \n499 2018-01-04                 DL                 DL          DL   \n\n     mkt_carrier_fl_num op_unique_carrier tail_num  op_carrier_fl_num  \\\n0                  3542                YX   N637RW               3542   \n1                  3725                YX   N861RW               3725   \n2                  1675                AA   N604AW               1675   \n3                  1035                AA   N314PD               1035   \n4                  1412                AA   N936NN               1412   \n..                  ...               ...      ...                ...   \n495                 638                AA   N801AW                638   \n496                1033                AA   N989NN               1033   \n497                1442                AA   N966NN               1442   \n498                1264                AA   N826NN               1264   \n499                  54                DL   N995DL                 54   \n\n     origin_airport_id origin  ... weather_delay  nas_delay security_delay  \\\n0                13495    MSY  ...           0.0        0.0            0.0   \n1                14869    SLC  ...           NaN        NaN            NaN   \n2                11298    DFW  ...           0.0        0.0            0.0   \n3                14679    SAN  ...           NaN        NaN            NaN   \n4                13891    ONT  ...           NaN        NaN            NaN   \n..                 ...    ...  ...           ...        ...            ...   \n495              14122    PIT  ...           NaN        NaN            NaN   \n496              11298    DFW  ...           NaN        NaN            NaN   \n497              15016    STL  ...           NaN        NaN            NaN   \n498              13930    ORD  ...           NaN        NaN            NaN   \n499              12266    IAH  ...           NaN        NaN            NaN   \n\n    late_aircraft_delay  first_dep_time  total_add_gtime  longest_add_gtime  \\\n0                 122.0             NaN              NaN                NaN   \n1                   NaN             NaN              NaN                NaN   \n2                   0.0             NaN              NaN                NaN   \n3                   NaN             NaN              NaN                NaN   \n4                   NaN             NaN              NaN                NaN   \n..                  ...             ...              ...                ...   \n495                 NaN             NaN              NaN                NaN   \n496                 NaN             NaN              NaN                NaN   \n497                 NaN             NaN              NaN                NaN   \n498                 NaN             NaN              NaN                NaN   \n499                 NaN             NaN              NaN                NaN   \n\n     no_name    row  month  \n0        NaN    150     01  \n1        NaN    300     01  \n2        NaN    450     01  \n3        NaN    600     01  \n4        NaN    750     01  \n..       ...    ...    ...  \n495      NaN  74400     01  \n496      NaN  74550     01  \n497      NaN  74700     01  \n498      NaN  74850     01  \n499      NaN  75000     01  \n\n[500 rows x 44 columns]",
      "text/html": "<div>\n<style scoped>\n    .dataframe tbody tr th:only-of-type {\n        vertical-align: middle;\n    }\n\n    .dataframe tbody tr th {\n        vertical-align: top;\n    }\n\n    .dataframe thead th {\n        text-align: right;\n    }\n</style>\n<table border=\"1\" class=\"dataframe\">\n  <thead>\n    <tr style=\"text-align: right;\">\n      <th></th>\n      <th>fl_date</th>\n      <th>mkt_unique_carrier</th>\n      <th>branded_code_share</th>\n      <th>mkt_carrier</th>\n      <th>mkt_carrier_fl_num</th>\n      <th>op_unique_carrier</th>\n      <th>tail_num</th>\n      <th>op_carrier_fl_num</th>\n      <th>origin_airport_id</th>\n      <th>origin</th>\n      <th>...</th>\n      <th>weather_delay</th>\n      <th>nas_delay</th>\n      <th>security_delay</th>\n      <th>late_aircraft_delay</th>\n      <th>first_dep_time</th>\n      <th>total_add_gtime</th>\n      <th>longest_add_gtime</th>\n      <th>no_name</th>\n      <th>row</th>\n      <th>month</th>\n    </tr>\n  </thead>\n  <tbody>\n    <tr>\n      <th>0</th>\n      <td>2018-01-01</td>\n      <td>UA</td>\n      <td>UA_CODESHARE</td>\n      <td>UA</td>\n      <td>3542</td>\n      <td>YX</td>\n      <td>N637RW</td>\n      <td>3542</td>\n      <td>13495</td>\n      <td>MSY</td>\n      <td>...</td>\n      <td>0.0</td>\n      <td>0.0</td>\n      <td>0.0</td>\n      <td>122.0</td>\n      <td>NaN</td>\n      <td>NaN</td>\n      <td>NaN</td>\n      <td>NaN</td>\n      <td>150</td>\n      <td>01</td>\n    </tr>\n    <tr>\n      <th>1</th>\n      <td>2018-01-01</td>\n      <td>UA</td>\n      <td>UA_CODESHARE</td>\n      <td>UA</td>\n      <td>3725</td>\n      <td>YX</td>\n      <td>N861RW</td>\n      <td>3725</td>\n      <td>14869</td>\n      <td>SLC</td>\n      <td>...</td>\n      <td>NaN</td>\n      <td>NaN</td>\n      <td>NaN</td>\n      <td>NaN</td>\n      <td>NaN</td>\n      <td>NaN</td>\n      <td>NaN</td>\n      <td>NaN</td>\n      <td>300</td>\n      <td>01</td>\n    </tr>\n    <tr>\n      <th>2</th>\n      <td>2018-01-01</td>\n      <td>AA</td>\n      <td>AA</td>\n      <td>AA</td>\n      <td>1675</td>\n      <td>AA</td>\n      <td>N604AW</td>\n      <td>1675</td>\n      <td>11298</td>\n      <td>DFW</td>\n      <td>...</td>\n      <td>0.0</td>\n      <td>0.0</td>\n      <td>0.0</td>\n      <td>0.0</td>\n      <td>NaN</td>\n      <td>NaN</td>\n      <td>NaN</td>\n      <td>NaN</td>\n      <td>450</td>\n      <td>01</td>\n    </tr>\n    <tr>\n      <th>3</th>\n      <td>2018-01-01</td>\n      <td>AA</td>\n      <td>AA</td>\n      <td>AA</td>\n      <td>1035</td>\n      <td>AA</td>\n      <td>N314PD</td>\n      <td>1035</td>\n      <td>14679</td>\n      <td>SAN</td>\n      <td>...</td>\n      <td>NaN</td>\n      <td>NaN</td>\n      <td>NaN</td>\n      <td>NaN</td>\n      <td>NaN</td>\n      <td>NaN</td>\n      <td>NaN</td>\n      <td>NaN</td>\n      <td>600</td>\n      <td>01</td>\n    </tr>\n    <tr>\n      <th>4</th>\n      <td>2018-01-01</td>\n      <td>AA</td>\n      <td>AA</td>\n      <td>AA</td>\n      <td>1412</td>\n      <td>AA</td>\n      <td>N936NN</td>\n      <td>1412</td>\n      <td>13891</td>\n      <td>ONT</td>\n      <td>...</td>\n      <td>NaN</td>\n      <td>NaN</td>\n      <td>NaN</td>\n      <td>NaN</td>\n      <td>NaN</td>\n      <td>NaN</td>\n      <td>NaN</td>\n      <td>NaN</td>\n      <td>750</td>\n      <td>01</td>\n    </tr>\n    <tr>\n      <th>...</th>\n      <td>...</td>\n      <td>...</td>\n      <td>...</td>\n      <td>...</td>\n      <td>...</td>\n      <td>...</td>\n      <td>...</td>\n      <td>...</td>\n      <td>...</td>\n      <td>...</td>\n      <td>...</td>\n      <td>...</td>\n      <td>...</td>\n      <td>...</td>\n      <td>...</td>\n      <td>...</td>\n      <td>...</td>\n      <td>...</td>\n      <td>...</td>\n      <td>...</td>\n      <td>...</td>\n    </tr>\n    <tr>\n      <th>495</th>\n      <td>2018-01-04</td>\n      <td>AA</td>\n      <td>AA</td>\n      <td>AA</td>\n      <td>638</td>\n      <td>AA</td>\n      <td>N801AW</td>\n      <td>638</td>\n      <td>14122</td>\n      <td>PIT</td>\n      <td>...</td>\n      <td>NaN</td>\n      <td>NaN</td>\n      <td>NaN</td>\n      <td>NaN</td>\n      <td>NaN</td>\n      <td>NaN</td>\n      <td>NaN</td>\n      <td>NaN</td>\n      <td>74400</td>\n      <td>01</td>\n    </tr>\n    <tr>\n      <th>496</th>\n      <td>2018-01-04</td>\n      <td>AA</td>\n      <td>AA</td>\n      <td>AA</td>\n      <td>1033</td>\n      <td>AA</td>\n      <td>N989NN</td>\n      <td>1033</td>\n      <td>11298</td>\n      <td>DFW</td>\n      <td>...</td>\n      <td>NaN</td>\n      <td>NaN</td>\n      <td>NaN</td>\n      <td>NaN</td>\n      <td>NaN</td>\n      <td>NaN</td>\n      <td>NaN</td>\n      <td>NaN</td>\n      <td>74550</td>\n      <td>01</td>\n    </tr>\n    <tr>\n      <th>497</th>\n      <td>2018-01-04</td>\n      <td>AA</td>\n      <td>AA</td>\n      <td>AA</td>\n      <td>1442</td>\n      <td>AA</td>\n      <td>N966NN</td>\n      <td>1442</td>\n      <td>15016</td>\n      <td>STL</td>\n      <td>...</td>\n      <td>NaN</td>\n      <td>NaN</td>\n      <td>NaN</td>\n      <td>NaN</td>\n      <td>NaN</td>\n      <td>NaN</td>\n      <td>NaN</td>\n      <td>NaN</td>\n      <td>74700</td>\n      <td>01</td>\n    </tr>\n    <tr>\n      <th>498</th>\n      <td>2018-01-04</td>\n      <td>AA</td>\n      <td>AA</td>\n      <td>AA</td>\n      <td>1264</td>\n      <td>AA</td>\n      <td>N826NN</td>\n      <td>1264</td>\n      <td>13930</td>\n      <td>ORD</td>\n      <td>...</td>\n      <td>NaN</td>\n      <td>NaN</td>\n      <td>NaN</td>\n      <td>NaN</td>\n      <td>NaN</td>\n      <td>NaN</td>\n      <td>NaN</td>\n      <td>NaN</td>\n      <td>74850</td>\n      <td>01</td>\n    </tr>\n    <tr>\n      <th>499</th>\n      <td>2018-01-04</td>\n      <td>DL</td>\n      <td>DL</td>\n      <td>DL</td>\n      <td>54</td>\n      <td>DL</td>\n      <td>N995DL</td>\n      <td>54</td>\n      <td>12266</td>\n      <td>IAH</td>\n      <td>...</td>\n      <td>NaN</td>\n      <td>NaN</td>\n      <td>NaN</td>\n      <td>NaN</td>\n      <td>NaN</td>\n      <td>NaN</td>\n      <td>NaN</td>\n      <td>NaN</td>\n      <td>75000</td>\n      <td>01</td>\n    </tr>\n  </tbody>\n</table>\n<p>500 rows × 44 columns</p>\n</div>"
     },
     "execution_count": 108,
     "metadata": {},
     "output_type": "execute_result"
    }
   ],
   "source": [
    "flight_df.head(500)"
   ],
   "metadata": {
    "collapsed": false,
    "pycharm": {
     "name": "#%%\n"
    }
   }
  },
  {
   "cell_type": "code",
   "execution_count": 6,
   "outputs": [
    {
     "name": "stdout",
     "output_type": "stream",
     "text": [
      "<class 'pandas.core.frame.DataFrame'>\n",
      "RangeIndex: 106183 entries, 0 to 106182\n",
      "Data columns (total 43 columns):\n",
      " #   Column               Non-Null Count   Dtype  \n",
      "---  ------               --------------   -----  \n",
      " 0   fl_date              106183 non-null  object \n",
      " 1   mkt_unique_carrier   106183 non-null  object \n",
      " 2   branded_code_share   106183 non-null  object \n",
      " 3   mkt_carrier          106183 non-null  object \n",
      " 4   mkt_carrier_fl_num   106183 non-null  int64  \n",
      " 5   op_unique_carrier    106183 non-null  object \n",
      " 6   tail_num             105844 non-null  object \n",
      " 7   op_carrier_fl_num    106183 non-null  int64  \n",
      " 8   origin_airport_id    106183 non-null  int64  \n",
      " 9   origin               106183 non-null  object \n",
      " 10  origin_city_name     106183 non-null  object \n",
      " 11  dest_airport_id      106183 non-null  int64  \n",
      " 12  dest                 106183 non-null  object \n",
      " 13  dest_city_name       106183 non-null  object \n",
      " 14  crs_dep_time         106183 non-null  int64  \n",
      " 15  dep_time             104522 non-null  float64\n",
      " 16  dep_delay            104488 non-null  float64\n",
      " 17  taxi_out             104436 non-null  float64\n",
      " 18  wheels_off           104436 non-null  float64\n",
      " 19  wheels_on            104380 non-null  float64\n",
      " 20  taxi_in              104380 non-null  float64\n",
      " 21  crs_arr_time         106183 non-null  int64  \n",
      " 22  arr_time             104414 non-null  float64\n",
      " 23  arr_delay            104143 non-null  float64\n",
      " 24  cancelled            106183 non-null  float64\n",
      " 25  cancellation_code    1722 non-null    object \n",
      " 26  diverted             106183 non-null  float64\n",
      " 27  dup                  106183 non-null  object \n",
      " 28  crs_elapsed_time     106183 non-null  float64\n",
      " 29  actual_elapsed_time  104163 non-null  float64\n",
      " 30  air_time             104129 non-null  float64\n",
      " 31  flights              106183 non-null  float64\n",
      " 32  distance             106183 non-null  float64\n",
      " 33  carrier_delay        20312 non-null   float64\n",
      " 34  weather_delay        20312 non-null   float64\n",
      " 35  nas_delay            20312 non-null   float64\n",
      " 36  security_delay       20312 non-null   float64\n",
      " 37  late_aircraft_delay  20312 non-null   float64\n",
      " 38  first_dep_time       747 non-null     float64\n",
      " 39  total_add_gtime      747 non-null     float64\n",
      " 40  longest_add_gtime    747 non-null     float64\n",
      " 41  no_name              0 non-null       float64\n",
      " 42  row                  106183 non-null  int64  \n",
      "dtypes: float64(24), int64(7), object(12)\n",
      "memory usage: 34.8+ MB\n"
     ]
    }
   ],
   "source": [
    "flight_df.info()"
   ],
   "metadata": {
    "collapsed": false,
    "pycharm": {
     "name": "#%%\n"
    }
   }
  },
  {
   "cell_type": "code",
   "execution_count": 7,
   "outputs": [
    {
     "data": {
      "text/plain": "count    104488.000000\nmean         10.839532\nstd          49.058229\nmin        -147.000000\n25%          -6.000000\n50%          -2.000000\n75%           7.000000\nmax        1788.000000\nName: dep_delay, dtype: float64"
     },
     "execution_count": 7,
     "metadata": {},
     "output_type": "execute_result"
    }
   ],
   "source": [
    "# flight_df[flight_df.columns[flight_df.columns != 'object']]\n",
    "num = flight_df.columns[flight_df.dtypes != 'object'].tolist()\n",
    "flight_df['dep_delay'].describe()"
   ],
   "metadata": {
    "collapsed": false,
    "pycharm": {
     "name": "#%%\n"
    }
   }
  },
  {
   "cell_type": "markdown",
   "metadata": {
    "pycharm": {
     "name": "#%% md\n"
    }
   },
   "source": [
    "#### **Task 1**: Test the hypothesis that the delay is from Normal distribution. and that **mean** of the delay is 0. Be careful about the outliers."
   ]
  },
  {
   "cell_type": "code",
   "execution_count": 8,
   "metadata": {
    "pycharm": {
     "name": "#%%\n"
    }
   },
   "outputs": [
    {
     "data": {
      "text/plain": "ShapiroResult(statistic=0.3714328408241272, pvalue=0.0)"
     },
     "execution_count": 8,
     "metadata": {},
     "output_type": "execute_result"
    }
   ],
   "source": [
    "stats.shapiro(flight_df['dep_delay'].dropna())"
   ]
  },
  {
   "cell_type": "code",
   "execution_count": 9,
   "metadata": {
    "pycharm": {
     "name": "#%%\n"
    }
   },
   "outputs": [
    {
     "data": {
      "text/plain": "ShapiroResult(statistic=0.4934779405593872, pvalue=0.0)"
     },
     "execution_count": 9,
     "metadata": {},
     "output_type": "execute_result"
    }
   ],
   "source": [
    "delays = flight_df['dep_delay'][flight_df['dep_delay'] > 0]\n",
    "stats.shapiro(delays)"
   ]
  },
  {
   "cell_type": "code",
   "execution_count": 10,
   "outputs": [
    {
     "data": {
      "text/plain": "ShapiroResult(statistic=0.9852893352508545, pvalue=0.0)"
     },
     "execution_count": 10,
     "metadata": {},
     "output_type": "execute_result"
    }
   ],
   "source": [
    "stats.shapiro(np.log(delays))"
   ],
   "metadata": {
    "collapsed": false,
    "pycharm": {
     "name": "#%%\n"
    }
   }
  },
  {
   "cell_type": "code",
   "execution_count": 11,
   "outputs": [
    {
     "data": {
      "text/plain": "<AxesSubplot:xlabel='dep_delay', ylabel='Density'>"
     },
     "execution_count": 11,
     "metadata": {},
     "output_type": "execute_result"
    },
    {
     "data": {
      "text/plain": "<Figure size 432x288 with 1 Axes>",
      "image/png": "[encoded data removed]"
     },
     "metadata": {
      "needs_background": "light"
     },
     "output_type": "display_data"
    }
   ],
   "source": [
    "sns.distplot(flight_df['dep_delay'].dropna())"
   ],
   "metadata": {
    "collapsed": false,
    "pycharm": {
     "name": "#%%\n"
    }
   }
  },
  {
   "cell_type": "code",
   "execution_count": 12,
   "outputs": [
    {
     "data": {
      "text/plain": "<AxesSubplot:xlabel='dep_delay', ylabel='Density'>"
     },
     "execution_count": 12,
     "metadata": {},
     "output_type": "execute_result"
    },
    {
     "data": {
      "text/plain": "<Figure size 432x288 with 1 Axes>",
      "image/png": "[encoded data removed]"
     },
     "metadata": {
      "needs_background": "light"
     },
     "output_type": "display_data"
    }
   ],
   "source": [
    "sns.distplot(np.log(delays))"
   ],
   "metadata": {
    "collapsed": false,
    "pycharm": {
     "name": "#%%\n"
    }
   }
  },
  {
   "cell_type": "markdown",
   "metadata": {
    "pycharm": {
     "name": "#%% md\n"
    }
   },
   "source": [
    "#### **Task 2**: Is average/median monthly delay different during the year? If yes, which are months with the biggest delays and what could be the reason?"
   ]
  },
  {
   "cell_type": "code",
   "execution_count": 13,
   "metadata": {
    "pycharm": {
     "name": "#%%\n"
    }
   },
   "outputs": [
    {
     "data": {
      "text/plain": "       dep_delay\nmonth           \n10      6.859221\n09      7.526791\n03      8.714156\n11      8.808516\n04      8.903935\n01     10.950055\n12     11.634633\n02     12.027834\n05     12.089112\n08     13.668966\n07     13.782820\n06     14.776298",
      "text/html": "<div>\n<style scoped>\n    .dataframe tbody tr th:only-of-type {\n        vertical-align: middle;\n    }\n\n    .dataframe tbody tr th {\n        vertical-align: top;\n    }\n\n    .dataframe thead th {\n        text-align: right;\n    }\n</style>\n<table border=\"1\" class=\"dataframe\">\n  <thead>\n    <tr style=\"text-align: right;\">\n      <th></th>\n      <th>dep_delay</th>\n    </tr>\n    <tr>\n      <th>month</th>\n      <th></th>\n    </tr>\n  </thead>\n  <tbody>\n    <tr>\n      <th>10</th>\n      <td>6.859221</td>\n    </tr>\n    <tr>\n      <th>09</th>\n      <td>7.526791</td>\n    </tr>\n    <tr>\n      <th>03</th>\n      <td>8.714156</td>\n    </tr>\n    <tr>\n      <th>11</th>\n      <td>8.808516</td>\n    </tr>\n    <tr>\n      <th>04</th>\n      <td>8.903935</td>\n    </tr>\n    <tr>\n      <th>01</th>\n      <td>10.950055</td>\n    </tr>\n    <tr>\n      <th>12</th>\n      <td>11.634633</td>\n    </tr>\n    <tr>\n      <th>02</th>\n      <td>12.027834</td>\n    </tr>\n    <tr>\n      <th>05</th>\n      <td>12.089112</td>\n    </tr>\n    <tr>\n      <th>08</th>\n      <td>13.668966</td>\n    </tr>\n    <tr>\n      <th>07</th>\n      <td>13.782820</td>\n    </tr>\n    <tr>\n      <th>06</th>\n      <td>14.776298</td>\n    </tr>\n  </tbody>\n</table>\n</div>"
     },
     "execution_count": 13,
     "metadata": {},
     "output_type": "execute_result"
    }
   ],
   "source": [
    "flight_df['month'] = flight_df['fl_date'].str[5:-3]\n",
    "flight_df[['month', 'dep_delay']].groupby(['month']).mean().sort_values('dep_delay')"
   ]
  },
  {
   "cell_type": "markdown",
   "metadata": {
    "pycharm": {
     "name": "#%% md\n"
    }
   },
   "source": [
    "#### **Task 3**: Does the weather affect the delay? \n",
    "Use the API to pull the weather information for flights. There is no need to get weather for ALL flights. We can choose the right representative sample. Let's focus on four weather types:\n",
    "- sunny\n",
    "- cloudy\n",
    "- rainy\n",
    "- snow.\n",
    "Test the hypothesis that these 4 delays are from the same distribution. If they are not, which ones are significantly different?"
   ]
  },
  {
   "cell_type": "code",
   "execution_count": 251,
   "outputs": [],
   "source": [
    "# get all the cities\n",
    "cities = flight_df['origin_city_name'].unique().tolist()"
   ],
   "metadata": {
    "collapsed": false,
    "pycharm": {
     "name": "#%%\n"
    }
   }
  },
  {
   "cell_type": "code",
   "execution_count": 253,
   "outputs": [],
   "source": [
    "flight_df['fl_date'] = pd.to_datetime(flight_df['fl_date'])"
   ],
   "metadata": {
    "collapsed": false,
    "pycharm": {
     "name": "#%%\n"
    }
   }
  },
  {
   "cell_type": "code",
   "execution_count": 325,
   "outputs": [
    {
     "data": {
      "text/plain": "array(['New Orleans, LA', 'Salt Lake City, UT', 'Dallas/Fort Worth, TX',\n       'San Diego, CA', 'Ontario, CA', 'Chicago, IL', 'Jacksonville, FL',\n       'Philadelphia, PA', 'Detroit, MI', 'Gainesville, FL',\n       'Augusta, GA', 'New York, NY', 'Las Vegas, NV', 'Orlando, FL',\n       'Alexandria, LA', 'Toledo, OH', 'Fort Lauderdale, FL',\n       'Houston, TX', 'Oakland, CA', 'Omaha, NE', 'Phoenix, AZ',\n       'Pittsburgh, PA', 'San Francisco, CA', 'St. Louis, MO',\n       'Tampa, FL', 'Los Angeles, CA', 'Milwaukee, WI', 'Lynchburg, VA',\n       'Denver, CO', 'Seattle, WA', 'Washington, DC', 'Burlington, VT',\n       'Wichita, KS', 'Albuquerque, NM', 'Kalamazoo, MI', 'Portland, OR',\n       'Corpus Christi, TX', 'Rapid City, SD', 'Gulfport/Biloxi, MS',\n       'Atlanta, GA', 'Nashville, TN', 'Burbank, CA', 'Baltimore, MD',\n       'Columbus, OH', 'Dallas, TX', 'Charlotte, NC', 'Norfolk, VA',\n       'Memphis, TN', 'Tulsa, OK', 'Oklahoma City, OK', 'New Haven, CT',\n       'Aspen, CO', 'San Jose, CA', 'Lansing, MI', 'Minneapolis, MN',\n       'Eugene, OR', 'El Paso, TX', 'Appleton, WI', 'Boston, MA',\n       'Kahului, HI', 'Austin, TX', 'Lexington, KY', 'Springfield, MO',\n       'Fayetteville, AR', 'Atlantic City, NJ', 'Miami, FL',\n       'Montrose/Delta, CO', 'Greer, SC', 'Salisbury, MD', 'Newark, NJ',\n       'Charleston, SC', 'Scranton/Wilkes-Barre, PA', 'Knoxville, TN',\n       'Chattanooga, TN', 'Anchorage, AK', 'Syracuse, NY',\n       'Arcata/Eureka, CA', 'Fargo, ND', 'Louisville, KY',\n       'Santa Ana, CA', 'Cincinnati, OH', 'Cleveland, OH', 'Portland, ME',\n       'Indianapolis, IN', 'Joplin, MO', 'Flagstaff, AZ',\n       'San Luis Obispo, CA', 'Kansas City, MO', 'Providence, RI',\n       'Spokane, WA', 'Hartford, CT', 'Fort Myers, FL', 'Hilo, HI',\n       'Charlottesville, VA', 'Duluth, MN', 'Shreveport, LA',\n       'Amarillo, TX', 'Pocatello, ID', 'Rochester, NY',\n       'San Antonio, TX', 'Sacramento, CA', 'Midland/Odessa, TX',\n       'Eagle, CO', 'Boise, ID', 'Bloomington/Normal, IL',\n       'San Angelo, TX', 'Punta Gorda, FL', 'Evansville, IN',\n       'Long Beach, CA', 'Islip, NY', 'Honolulu, HI', 'Manchester, NH',\n       'Lafayette, LA', 'Raleigh/Durham, NC', 'State College, PA',\n       'Colorado Springs, CO', 'Sanford, FL', 'Savannah, GA',\n       'Allentown/Bethlehem/Easton, PA', 'Mobile, AL', 'Tucson, AZ',\n       'Walla Walla, WA', 'Birmingham, AL', 'Palm Springs, CA',\n       'Asheville, NC', 'South Bend, IN', 'Clarksburg/Fairmont, WV',\n       'Santa Barbara, CA', 'Pensacola, FL', 'Bend/Redmond, OR',\n       'Columbia, SC', 'San Juan, PR', 'Jackson/Vicksburg, MS',\n       'Greensboro/High Point, NC', 'Huntsville, AL', 'Little Rock, AR',\n       'Wenatchee, WA', 'Reno, NV', 'Kodiak, AK', 'Des Moines, IA',\n       'Akron, OH', 'Madison, WI', 'Great Falls, MT', 'Billings, MT',\n       'Lihue, HI', 'Williamsport, PA', 'Richmond, VA', 'Sioux Falls, SD',\n       'Harrisburg, PA', 'Mission/McAllen/Edinburg, TX', 'Missoula, MT',\n       'Dayton, OH', 'Key West, FL', 'Helena, MT', 'Minot, ND',\n       'Fresno, CA', 'Kona, HI', 'Bellingham, WA',\n       'West Palm Beach/Palm Beach, FL', 'St. Petersburg, FL',\n       'Montgomery, AL', 'Medford, OR', 'Fort Wayne, IN',\n       'Newport News/Williamsburg, VA', 'Columbia, MO',\n       'Niagara Falls, NY', 'Springfield, IL', 'Baton Rouge, LA',\n       'Valdosta, GA', 'Buffalo, NY', 'Ketchikan, AK',\n       'Charleston/Dunbar, WV', 'Idaho Falls, ID', 'Green Bay, WI',\n       'Santa Fe, NM', 'Traverse City, MI', 'Roanoke, VA', 'Columbus, MS',\n       'Bozeman, MT', 'Cedar Rapids/Iowa City, IA', 'Muskegon, MI',\n       'Juneau, AK', 'Rockford, IL', 'Moline, IL',\n       'Bristol/Johnson City/Kingsport, TN', 'Fayetteville, NC',\n       'Peoria, IL', 'Mosinee, WI', 'Champaign/Urbana, IL',\n       'Grand Rapids, MI', 'Ashland, WV', 'Flint, MI', 'Jackson, WY',\n       'Daytona Beach, FL', 'Roswell, NM', 'Durango, CO',\n       'Christiansted, VI', 'Laredo, TX', 'Tallahassee, FL',\n       'Gunnison, CO', 'Cody, WY', 'Harlingen/San Benito, TX',\n       'Fairbanks, AK', 'Rochester, MN', 'Waco, TX', 'Lubbock, TX',\n       'Bangor, ME', 'Ponce, PR', 'Alpena, MI', 'White Plains, NY',\n       'Fort Smith, AR', 'Twin Falls, ID', 'Hayden, CO', 'Monroe, LA',\n       'Valparaiso, FL', 'Casper, WY', 'Monterey, CA', 'Santa Maria, CA',\n       'Melbourne, FL', 'Guam, TT', 'Wilmington, NC', 'Albany, NY',\n       'Albany, GA', 'Latrobe, PA', 'Ithaca/Cortland, NY', 'Trenton, NJ',\n       'Yuma, AZ', 'College Station/Bryan, TX', 'Dothan, AL',\n       'Paducah, KY', 'Marquette, MI', 'Manhattan/Ft. Riley, KS',\n       'Tyler, TX', 'Gillette, WY', 'Meridian, MS', 'Sioux City, IA',\n       'Sarasota/Bradenton, FL', 'Lake Charles, LA',\n       'Bismarck/Mandan, ND', 'Rock Springs, WY', 'Stillwater, OK'],\n      dtype=object)"
     },
     "execution_count": 325,
     "metadata": {},
     "output_type": "execute_result"
    }
   ],
   "source": [
    "date_before = pd.to_datetime('2018-02-01')\n",
    "flight_df2018 = flight_df[flight_df['fl_date'] < date_before]\n",
    "flight_df2018['origin_city_name'].unique()"
   ],
   "metadata": {
    "collapsed": false,
    "pycharm": {
     "name": "#%%\n"
    }
   }
  },
  {
   "cell_type": "code",
   "execution_count": 255,
   "outputs": [],
   "source": [
    "weather = {\n",
    "    2018: {  # year\n",
    "        1:{  # month\n",
    "            'New Orleans, LA': {  # city\n",
    "                1: {  # day\n",
    "                    '00:00':{}, # noon weather\n",
    "                    '12:00':{}  # midnight weather\n",
    "                }\n",
    "            }\n",
    "        }\n",
    "    }\n",
    "}"
   ],
   "metadata": {
    "collapsed": false,
    "pycharm": {
     "name": "#%%\n"
    }
   }
  },
  {
   "cell_type": "code",
   "execution_count": 288,
   "outputs": [],
   "source": [
    "def clean_response(response, year, month, city_name, i):\n",
    "    \"\"\":returns dictionary with the weather for each day in a month for specified city\"\"\"\n",
    "    if not response:\n",
    "        print(response.status_code, city_name)\n",
    "        return response.json()\n",
    "    n_days = monthrange(year=int(year), month=int(month))[1]\n",
    "    daily_weather = response.json().get('data', {}).get('weather', [])\n",
    "    pois = ['windspeedKmph', 'visibility', 'cloudcover', 'precipMM']  # 'totalSnow_cm' as well tho its stored in a different dict\n",
    "    city = {}\n",
    "\n",
    "    for day in range(n_days):\n",
    "        cleaned = {}\n",
    "        for key, index in zip(('00:00', '12:00'), (0, 1)):\n",
    "            cleaned[key] = {k:daily_weather[day].get('hourly', [])[index].get(k, None) for k in pois}\n",
    "            cleaned[key]['totalSnow_cm'] = daily_weather[day].get('totalSnow_cm', None)\n",
    "            city[day+1] = cleaned\n",
    "    print(f'returning {city_name}, {i}/362')\n",
    "    return city"
   ],
   "metadata": {
    "collapsed": false,
    "pycharm": {
     "name": "#%%\n"
    }
   }
  },
  {
   "cell_type": "code",
   "execution_count": 289,
   "outputs": [],
   "source": [
    "def get_weather_for_each_city(cities, url, year, month, file, headers=None, params=None):\n",
    "    headers = headers if headers else {}\n",
    "    params = params if params else {}\n",
    "    weather = {}\n",
    "    try:\n",
    "        if not weather[year]:\n",
    "            pass\n",
    "    except KeyError:\n",
    "        weather[year] = {}\n",
    "    weather[year][month] = {}\n",
    "    i = 0\n",
    "    for city in cities:\n",
    "        i += 1\n",
    "        params['q'] = city\n",
    "        res = requests.get(url, params=params, headers=headers)\n",
    "        weather[year][month][city] = clean_response(res, year, month, city, i)\n",
    "    return weather"
   ],
   "metadata": {
    "collapsed": false,
    "pycharm": {
     "name": "#%%\n"
    }
   }
  },
  {
   "cell_type": "code",
   "execution_count": 290,
   "outputs": [],
   "source": [
    "headers = {\n",
    "}\n",
    "params = {\n",
    "    'q': '',  # location e.g. q=New+york,ny\n",
    "    'date': '2018-01-01',  # date format yyyy-MM-dd\n",
    "    'enddate': '2018-01-31',\n",
    "    'format': 'json',\n",
    "    'key': WEATHER_API_KEY,\n",
    "    'tp': '12'\n",
    "}\n",
    "url = 'https://api.worldweatheronline.com/premium/v1/past-weather.ashx'"
   ],
   "metadata": {
    "collapsed": false,
    "pycharm": {
     "name": "#%%\n"
    }
   }
  },
  {
   "cell_type": "code",
   "execution_count": 292,
   "outputs": [
    {
     "name": "stdout",
     "output_type": "stream",
     "text": [
      "returning New Orleans, LA, 1/355\n",
      "returning Salt Lake City, UT, 2/355\n",
      "returning Dallas/Fort Worth, TX, 3/355\n",
      "returning San Diego, CA, 4/355\n",
      "returning Ontario, CA, 5/355\n",
      "returning Chicago, IL, 6/355\n",
      "returning Jacksonville, FL, 7/355\n",
      "returning Philadelphia, PA, 8/355\n",
      "returning Detroit, MI, 9/355\n",
      "returning Gainesville, FL, 10/355\n",
      "returning Augusta, GA, 11/355\n",
      "returning New York, NY, 12/355\n",
      "returning Las Vegas, NV, 13/355\n",
      "returning Orlando, FL, 14/355\n",
      "returning Alexandria, LA, 15/355\n",
      "returning Toledo, OH, 16/355\n",
      "returning Fort Lauderdale, FL, 17/355\n",
      "returning Houston, TX, 18/355\n",
      "returning Oakland, CA, 19/355\n",
      "returning Omaha, NE, 20/355\n",
      "returning Phoenix, AZ, 21/355\n",
      "returning Pittsburgh, PA, 22/355\n",
      "returning San Francisco, CA, 23/355\n",
      "returning St. Louis, MO, 24/355\n",
      "returning Tampa, FL, 25/355\n",
      "returning Los Angeles, CA, 26/355\n",
      "returning Milwaukee, WI, 27/355\n",
      "returning Lynchburg, VA, 28/355\n",
      "returning Denver, CO, 29/355\n",
      "returning Seattle, WA, 30/355\n",
      "returning Washington, DC, 31/355\n",
      "returning Burlington, VT, 32/355\n",
      "returning Wichita, KS, 33/355\n",
      "returning Albuquerque, NM, 34/355\n",
      "returning Kalamazoo, MI, 35/355\n",
      "returning Portland, OR, 36/355\n",
      "returning Corpus Christi, TX, 37/355\n",
      "returning Rapid City, SD, 38/355\n",
      "returning Gulfport/Biloxi, MS, 39/355\n",
      "returning Atlanta, GA, 40/355\n",
      "returning Nashville, TN, 41/355\n",
      "returning Burbank, CA, 42/355\n",
      "returning Baltimore, MD, 43/355\n",
      "returning Columbus, OH, 44/355\n",
      "returning Dallas, TX, 45/355\n",
      "returning Charlotte, NC, 46/355\n",
      "returning Norfolk, VA, 47/355\n",
      "returning Memphis, TN, 48/355\n",
      "returning Tulsa, OK, 49/355\n",
      "returning Oklahoma City, OK, 50/355\n",
      "returning New Haven, CT, 51/355\n",
      "returning Aspen, CO, 52/355\n",
      "returning San Jose, CA, 53/355\n",
      "returning Lansing, MI, 54/355\n",
      "returning Minneapolis, MN, 55/355\n",
      "returning Eugene, OR, 56/355\n",
      "returning El Paso, TX, 57/355\n",
      "returning Appleton, WI, 58/355\n",
      "returning Boston, MA, 59/355\n",
      "returning Kahului, HI, 60/355\n",
      "returning Austin, TX, 61/355\n",
      "returning Lexington, KY, 62/355\n",
      "returning Springfield, MO, 63/355\n",
      "returning Fayetteville, AR, 64/355\n",
      "returning Atlantic City, NJ, 65/355\n",
      "returning Miami, FL, 66/355\n",
      "returning Montrose/Delta, CO, 67/355\n",
      "returning Greer, SC, 68/355\n",
      "returning Salisbury, MD, 69/355\n",
      "returning Newark, NJ, 70/355\n",
      "returning Charleston, SC, 71/355\n",
      "returning Scranton/Wilkes-Barre, PA, 72/355\n",
      "returning Knoxville, TN, 73/355\n",
      "returning Chattanooga, TN, 74/355\n",
      "returning Anchorage, AK, 75/355\n",
      "returning Syracuse, NY, 76/355\n",
      "returning Arcata/Eureka, CA, 77/355\n",
      "returning Fargo, ND, 78/355\n",
      "returning Louisville, KY, 79/355\n",
      "returning Santa Ana, CA, 80/355\n",
      "returning Cincinnati, OH, 81/355\n",
      "returning Cleveland, OH, 82/355\n",
      "returning Portland, ME, 83/355\n",
      "returning Indianapolis, IN, 84/355\n",
      "returning Joplin, MO, 85/355\n",
      "returning Flagstaff, AZ, 86/355\n",
      "returning San Luis Obispo, CA, 87/355\n",
      "returning Kansas City, MO, 88/355\n",
      "returning Providence, RI, 89/355\n",
      "returning Spokane, WA, 90/355\n",
      "returning Hartford, CT, 91/355\n",
      "returning Fort Myers, FL, 92/355\n",
      "returning Hilo, HI, 93/355\n",
      "returning Charlottesville, VA, 94/355\n",
      "returning Duluth, MN, 95/355\n",
      "returning Shreveport, LA, 96/355\n",
      "returning Amarillo, TX, 97/355\n",
      "returning Pocatello, ID, 98/355\n",
      "returning Rochester, NY, 99/355\n",
      "returning San Antonio, TX, 100/355\n",
      "returning Sacramento, CA, 101/355\n",
      "returning Midland/Odessa, TX, 102/355\n",
      "returning Eagle, CO, 103/355\n",
      "returning Boise, ID, 104/355\n",
      "returning Bloomington/Normal, IL, 105/355\n",
      "returning San Angelo, TX, 106/355\n",
      "returning Punta Gorda, FL, 107/355\n",
      "returning Evansville, IN, 108/355\n",
      "returning Long Beach, CA, 109/355\n",
      "returning Islip, NY, 110/355\n",
      "returning Honolulu, HI, 111/355\n",
      "returning Manchester, NH, 112/355\n",
      "returning Lafayette, LA, 113/355\n",
      "returning Raleigh/Durham, NC, 114/355\n",
      "returning State College, PA, 115/355\n",
      "returning Colorado Springs, CO, 116/355\n",
      "returning Sanford, FL, 117/355\n",
      "returning Savannah, GA, 118/355\n",
      "returning Allentown/Bethlehem/Easton, PA, 119/355\n",
      "returning Mobile, AL, 120/355\n",
      "returning Tucson, AZ, 121/355\n",
      "returning Walla Walla, WA, 122/355\n",
      "returning Birmingham, AL, 123/355\n",
      "returning Palm Springs, CA, 124/355\n",
      "returning Asheville, NC, 125/355\n",
      "returning South Bend, IN, 126/355\n",
      "returning Clarksburg/Fairmont, WV, 127/355\n",
      "returning Santa Barbara, CA, 128/355\n",
      "returning Pensacola, FL, 129/355\n",
      "returning Bend/Redmond, OR, 130/355\n",
      "returning Columbia, SC, 131/355\n",
      "returning San Juan, PR, 132/355\n",
      "returning Jackson/Vicksburg, MS, 133/355\n",
      "returning Greensboro/High Point, NC, 134/355\n",
      "returning Huntsville, AL, 135/355\n",
      "returning Little Rock, AR, 136/355\n",
      "returning Wenatchee, WA, 137/355\n",
      "returning Reno, NV, 138/355\n",
      "returning Kodiak, AK, 139/355\n",
      "returning Des Moines, IA, 140/355\n",
      "returning Akron, OH, 141/355\n",
      "returning Madison, WI, 142/355\n",
      "returning Great Falls, MT, 143/355\n",
      "returning Billings, MT, 144/355\n",
      "returning Lihue, HI, 145/355\n",
      "returning Williamsport, PA, 146/355\n",
      "returning Richmond, VA, 147/355\n",
      "returning Sioux Falls, SD, 148/355\n",
      "returning Harrisburg, PA, 149/355\n",
      "returning Mission/McAllen/Edinburg, TX, 150/355\n",
      "returning Missoula, MT, 151/355\n",
      "returning Dayton, OH, 152/355\n",
      "returning Key West, FL, 153/355\n",
      "returning Helena, MT, 154/355\n",
      "returning Minot, ND, 155/355\n",
      "returning Fresno, CA, 156/355\n",
      "returning Kona, HI, 157/355\n",
      "returning Bellingham, WA, 158/355\n",
      "returning West Palm Beach/Palm Beach, FL, 159/355\n",
      "returning St. Petersburg, FL, 160/355\n",
      "returning Montgomery, AL, 161/355\n",
      "returning Medford, OR, 162/355\n",
      "returning Fort Wayne, IN, 163/355\n",
      "returning Newport News/Williamsburg, VA, 164/355\n",
      "returning Columbia, MO, 165/355\n",
      "returning Niagara Falls, NY, 166/355\n",
      "returning Springfield, IL, 167/355\n",
      "returning Baton Rouge, LA, 168/355\n",
      "returning Valdosta, GA, 169/355\n",
      "returning Buffalo, NY, 170/355\n",
      "returning Ketchikan, AK, 171/355\n",
      "returning Charleston/Dunbar, WV, 172/355\n",
      "returning Idaho Falls, ID, 173/355\n",
      "returning Green Bay, WI, 174/355\n",
      "returning Santa Fe, NM, 175/355\n",
      "returning Traverse City, MI, 176/355\n",
      "returning Roanoke, VA, 177/355\n",
      "returning Columbus, MS, 178/355\n",
      "returning Bozeman, MT, 179/355\n",
      "returning Cedar Rapids/Iowa City, IA, 180/355\n",
      "returning Muskegon, MI, 181/355\n",
      "returning Juneau, AK, 182/355\n",
      "returning Rockford, IL, 183/355\n",
      "returning Moline, IL, 184/355\n",
      "returning Bristol/Johnson City/Kingsport, TN, 185/355\n",
      "returning Fayetteville, NC, 186/355\n",
      "returning Peoria, IL, 187/355\n",
      "returning Mosinee, WI, 188/355\n",
      "returning Champaign/Urbana, IL, 189/355\n",
      "returning Grand Rapids, MI, 190/355\n",
      "returning Ashland, WV, 191/355\n",
      "returning Flint, MI, 192/355\n",
      "returning Jackson, WY, 193/355\n",
      "returning Daytona Beach, FL, 194/355\n",
      "returning Roswell, NM, 195/355\n",
      "returning Durango, CO, 196/355\n",
      "returning Christiansted, VI, 197/355\n",
      "returning Laredo, TX, 198/355\n",
      "returning Tallahassee, FL, 199/355\n",
      "returning Gunnison, CO, 200/355\n",
      "returning Cody, WY, 201/355\n",
      "returning Harlingen/San Benito, TX, 202/355\n",
      "returning Fairbanks, AK, 203/355\n",
      "returning Rochester, MN, 204/355\n",
      "returning Waco, TX, 205/355\n",
      "returning Lubbock, TX, 206/355\n",
      "returning Bangor, ME, 207/355\n",
      "returning Ponce, PR, 208/355\n",
      "returning Alpena, MI, 209/355\n",
      "returning White Plains, NY, 210/355\n",
      "returning Fort Smith, AR, 211/355\n",
      "returning Twin Falls, ID, 212/355\n",
      "returning Hayden, CO, 213/355\n",
      "returning Monroe, LA, 214/355\n",
      "returning Valparaiso, FL, 215/355\n",
      "returning Casper, WY, 216/355\n",
      "returning Monterey, CA, 217/355\n",
      "returning Santa Maria, CA, 218/355\n",
      "returning Melbourne, FL, 219/355\n",
      "returning Guam, TT, 220/355\n",
      "returning Wilmington, NC, 221/355\n",
      "returning Albany, NY, 222/355\n",
      "returning Albany, GA, 223/355\n",
      "returning Latrobe, PA, 224/355\n",
      "returning Ithaca/Cortland, NY, 225/355\n",
      "returning Trenton, NJ, 226/355\n",
      "returning Yuma, AZ, 227/355\n",
      "returning College Station/Bryan, TX, 228/355\n",
      "returning Dothan, AL, 229/355\n",
      "returning Paducah, KY, 230/355\n",
      "returning Marquette, MI, 231/355\n",
      "returning Manhattan/Ft. Riley, KS, 232/355\n",
      "returning Tyler, TX, 233/355\n",
      "returning Gillette, WY, 234/355\n",
      "returning Meridian, MS, 235/355\n",
      "returning Sioux City, IA, 236/355\n",
      "returning Sarasota/Bradenton, FL, 237/355\n",
      "returning Lake Charles, LA, 238/355\n",
      "returning Bismarck/Mandan, ND, 239/355\n",
      "returning Rock Springs, WY, 240/355\n",
      "returning Stillwater, OK, 241/355\n",
      "returning Cape Girardeau, MO, 242/355\n",
      "returning Kalispell, MT, 243/355\n",
      "returning Deadhorse, AK, 244/355\n",
      "returning Unalaska, AK, 245/355\n",
      "returning Grand Island, NE, 246/355\n",
      "returning Newburgh/Poughkeepsie, NY, 247/355\n",
      "returning Myrtle Beach, SC, 248/355\n",
      "returning Mammoth Lakes, CA, 249/355\n",
      "returning Grand Junction, CO, 250/355\n",
      "returning La Crosse, WI, 251/355\n",
      "returning Jacksonville/Camp Lejeune, NC, 252/355\n",
      "returning Hobbs, NM, 253/355\n",
      "returning Pasco/Kennewick/Richland, WA, 254/355\n",
      "returning Plattsburgh, NY, 255/355\n",
      "returning Laramie, WY, 256/355\n",
      "returning New Bern/Morehead/Beaufort, NC, 257/355\n",
      "returning Santa Rosa, CA, 258/355\n",
      "returning Erie, PA, 259/355\n",
      "returning St. George, UT, 260/355\n",
      "returning Greenville, NC, 261/355\n",
      "returning Wichita Falls, TX, 262/355\n",
      "returning Hancock/Houghton, MI, 263/355\n",
      "returning Escanaba, MI, 264/355\n",
      "returning Cedar City, UT, 265/355\n",
      "returning Williston, ND, 266/355\n",
      "returning Lincoln, NE, 267/355\n",
      "returning North Bend/Coos Bay, OR, 268/355\n",
      "returning Redding, CA, 269/355\n",
      "returning Bakersfield, CA, 270/355\n",
      "returning Belleville, IL, 271/355\n",
      "returning Beaumont/Port Arthur, TX, 272/355\n",
      "returning Stockton, CA, 273/355\n",
      "returning Abilene, TX, 274/355\n",
      "returning Kotzebue, AK, 275/355\n",
      "returning Lewiston, ID, 276/355\n",
      "returning Columbus, GA, 277/355\n",
      "returning Panama City, FL, 278/355\n",
      "returning Lawton/Fort Sill, OK, 279/355\n",
      "returning Saginaw/Bay City/Midland, MI, 280/355\n",
      "returning Saipan, TT, 281/355\n",
      "returning Lanai, HI, 282/355\n",
      "returning Rhinelander, WI, 283/355\n",
      "returning Killeen, TX, 284/355\n",
      "returning Brownsville, TX, 285/355\n",
      "returning Garden City, KS, 286/355\n",
      "returning Bethel, AK, 287/355\n",
      "returning International Falls, MN, 288/355\n",
      "returning Bemidji, MN, 289/355\n",
      "returning Charlotte Amalie, VI, 290/355\n",
      "returning Longview, TX, 291/355\n",
      "returning Jamestown, ND, 292/355\n",
      "returning Sun Valley/Hailey/Ketchum, ID, 293/355\n",
      "returning Portsmouth, NH, 294/355\n",
      "returning Watertown, NY, 295/355\n",
      "returning Pueblo, CO, 296/355\n",
      "returning Sault Ste. Marie, MI, 297/355\n",
      "returning Ogdensburg, NY, 298/355\n",
      "returning Pellston, MI, 299/355\n",
      "returning Barrow, AK, 300/355\n",
      "returning Brunswick, GA, 301/355\n",
      "returning Hattiesburg/Laurel, MS, 302/355\n",
      "returning Texarkana, AR, 303/355\n",
      "returning Wrangell, AK, 304/355\n",
      "returning Cordova, AK, 305/355\n",
      "returning Provo, UT, 306/355\n",
      "returning Waterloo, IA, 307/355\n",
      "returning Adak Island, AK, 308/355\n",
      "returning Lewisburg, WV, 309/355\n",
      "returning Scottsbluff, NE, 310/355\n",
      "returning Staunton, VA, 311/355\n",
      "returning Yakutat, AK, 312/355\n",
      "returning Florence, SC, 313/355\n",
      "returning Yakima, WA, 314/355\n",
      "returning Hays, KS, 315/355\n",
      "returning Salina, KS, 316/355\n",
      "returning Quincy, IL, 317/355\n",
      "returning Kapalua, HI, 318/355\n",
      "returning Devils Lake, ND, 319/355\n",
      "returning Elko, NV, 320/355\n",
      "returning Pullman, WA, 321/355\n",
      "returning Worcester, MA, 322/355\n",
      "returning Moab, UT, 323/355\n",
      "returning Aberdeen, SD, 324/355\n",
      "returning Hoolehua, HI, 325/355\n",
      "returning Elmira/Corning, NY, 326/355\n",
      "returning Aguadilla, PR, 327/355\n",
      "returning Sitka, AK, 328/355\n",
      "returning Petersburg, AK, 329/355\n",
      "returning Hyannis, MA, 330/355\n",
      "returning Hilton Head, SC, 331/355\n",
      "returning North Platte, NE, 332/355\n",
      "returning Butte, MT, 333/355\n",
      "returning West Yellowstone, MT, 334/355\n",
      "returning Grand Forks, ND, 335/355\n",
      "returning Nantucket, MA, 336/355\n",
      "returning Dubuque, IA, 337/355\n",
      "returning Eau Claire, WI, 338/355\n",
      "returning Martha's Vineyard, MA, 339/355\n",
      "returning Owensboro, KY, 340/355\n",
      "returning Binghamton, NY, 341/355\n",
      "returning Concord, NC, 342/355\n",
      "returning Gustavus, AK, 343/355\n",
      "returning Dickinson, ND, 344/355\n",
      "returning Iron Mountain/Kingsfd, MI, 345/355\n",
      "returning Liberal, KS, 346/355\n",
      "returning Dillingham, AK, 347/355\n",
      "returning Hibbing, MN, 348/355\n",
      "returning Prescott, AZ, 349/355\n",
      "returning Nome, AK, 350/355\n",
      "returning Vernal, UT, 351/355\n",
      "returning Presque Isle/Houlton, ME, 352/355\n",
      "returning Brainerd, MN, 353/355\n",
      "returning Kearney, NE, 354/355\n",
      "returning Del Rio, TX, 355/355\n",
      "returning Hagerstown, MD, 356/355\n",
      "returning St. Cloud, MN, 357/355\n",
      "returning Everett, WA, 358/355\n",
      "returning Cheyenne, WY, 359/355\n",
      "returning Pierre, SD, 360/355\n",
      "returning Branson, MO, 361/355\n",
      "returning Watertown, SD, 362/355\n"
     ]
    }
   ],
   "source": [
    "weather = get_weather_for_each_city(cities, url, 2018, 1, '', headers=headers, params=params)"
   ],
   "metadata": {
    "collapsed": false,
    "pycharm": {
     "name": "#%%\n"
    }
   }
  },
  {
   "cell_type": "code",
   "execution_count": 305,
   "outputs": [
    {
     "data": {
      "text/plain": "{'00:00': {'windspeedKmph': '16',\n  'visibility': '10',\n  'cloudcover': '97',\n  'precipMM': '0.0',\n  'totalSnow_cm': '0.0'},\n '12:00': {'windspeedKmph': '17',\n  'visibility': '10',\n  'cloudcover': '81',\n  'precipMM': '0.0',\n  'totalSnow_cm': '0.0'}}"
     },
     "execution_count": 305,
     "metadata": {},
     "output_type": "execute_result"
    }
   ],
   "source": [
    "weather[2018][1]['Augusta, GA'][1]"
   ],
   "metadata": {
    "collapsed": false,
    "pycharm": {
     "name": "#%%\n"
    }
   }
  },
  {
   "cell_type": "code",
   "execution_count": 318,
   "outputs": [],
   "source": [
    "with open('january_weather.json', 'w') as fp:\n",
    "    json.dump(weather, fp)"
   ],
   "metadata": {
    "collapsed": false,
    "pycharm": {
     "name": "#%%\n"
    }
   }
  },
  {
   "cell_type": "code",
   "execution_count": 344,
   "outputs": [],
   "source": [
    "with open('january_weather.json') as f:\n",
    "    file = json.load(f)"
   ],
   "metadata": {
    "collapsed": false,
    "pycharm": {
     "name": "#%%\n"
    }
   }
  },
  {
   "cell_type": "code",
   "execution_count": 347,
   "outputs": [
    {
     "data": {
      "text/plain": "dict"
     },
     "execution_count": 347,
     "metadata": {},
     "output_type": "execute_result"
    }
   ],
   "source": [
    "type(file)"
   ],
   "metadata": {
    "collapsed": false,
    "pycharm": {
     "name": "#%%\n"
    }
   }
  },
  {
   "cell_type": "code",
   "execution_count": 348,
   "outputs": [],
   "source": [
    "from pandas.io.json import json_normalize"
   ],
   "metadata": {
    "collapsed": false,
    "pycharm": {
     "name": "#%%\n"
    }
   }
  },
  {
   "cell_type": "code",
   "execution_count": null,
   "outputs": [],
   "source": [
    "json_normalize(file, record_path='2018', meta=['1'])"
   ],
   "metadata": {
    "collapsed": false,
    "pycharm": {
     "name": "#%%\n",
     "is_executing": true
    }
   }
  },
  {
   "cell_type": "code",
   "execution_count": 231,
   "outputs": [],
   "source": [
    "weather_json = json.dumps(weather, indent=4)"
   ],
   "metadata": {
    "collapsed": false,
    "pycharm": {
     "name": "#%%\n"
    }
   }
  },
  {
   "cell_type": "code",
   "execution_count": 234,
   "outputs": [],
   "source": [
    "# weather_json"
   ],
   "metadata": {
    "collapsed": false,
    "pycharm": {
     "name": "#%%\n"
    }
   }
  },
  {
   "cell_type": "code",
   "execution_count": 233,
   "outputs": [
    {
     "data": {
      "text/plain": "                                                                    2018\nDallas/Fort Worth, TX  {'1': {'00:00': {'windspeedKmph': '8', 'visibi...\nNew Orleans, LA        {'1': {'00:00': {'windspeedKmph': '8', 'visibi...\nSalt Lake City, UT     {'1': {'00:00': {'windspeedKmph': '8', 'visibi...",
      "text/html": "<div>\n<style scoped>\n    .dataframe tbody tr th:only-of-type {\n        vertical-align: middle;\n    }\n\n    .dataframe tbody tr th {\n        vertical-align: top;\n    }\n\n    .dataframe thead th {\n        text-align: right;\n    }\n</style>\n<table border=\"1\" class=\"dataframe\">\n  <thead>\n    <tr style=\"text-align: right;\">\n      <th></th>\n      <th>2018</th>\n    </tr>\n  </thead>\n  <tbody>\n    <tr>\n      <th>Dallas/Fort Worth, TX</th>\n      <td>{'1': {'00:00': {'windspeedKmph': '8', 'visibi...</td>\n    </tr>\n    <tr>\n      <th>New Orleans, LA</th>\n      <td>{'1': {'00:00': {'windspeedKmph': '8', 'visibi...</td>\n    </tr>\n    <tr>\n      <th>Salt Lake City, UT</th>\n      <td>{'1': {'00:00': {'windspeedKmph': '8', 'visibi...</td>\n    </tr>\n  </tbody>\n</table>\n</div>"
     },
     "execution_count": 233,
     "metadata": {},
     "output_type": "execute_result"
    }
   ],
   "source": [
    "pd.read_json(weather_json)"
   ],
   "metadata": {
    "collapsed": false,
    "pycharm": {
     "name": "#%%\n"
    }
   }
  },
  {
   "cell_type": "code",
   "execution_count": 319,
   "outputs": [],
   "source": [
    "fname = '../data/january_flights.csv'\n",
    "jan_flight_df = pd.read_csv(fname)"
   ],
   "metadata": {
    "collapsed": false,
    "pycharm": {
     "name": "#%%\n"
    }
   }
  },
  {
   "cell_type": "code",
   "execution_count": 326,
   "outputs": [],
   "source": [
    "jan_flight_df['fl_date'] = pd.to_datetime(jan_flight_df['fl_date'])\n",
    "jan = pd.to_datetime('2018-02-01')\n",
    "jan_flight_df = jan_flight_df[jan_flight_df['fl_date'] < jan]\n",
    "cities2 = jan_flight_df['origin_city_name'].unique().tolist()"
   ],
   "metadata": {
    "collapsed": false,
    "pycharm": {
     "name": "#%%\n"
    }
   }
  },
  {
   "cell_type": "code",
   "execution_count": 330,
   "outputs": [],
   "source": [
    "missing_cities = set(cities) - set(cities2)"
   ],
   "metadata": {
    "collapsed": false,
    "pycharm": {
     "name": "#%%\n"
    }
   }
  },
  {
   "cell_type": "code",
   "execution_count": 331,
   "outputs": [
    {
     "name": "stdout",
     "output_type": "stream",
     "text": [
      "429 Hoolehua, HI\n",
      "429 Cheyenne, WY\n",
      "429 Vernal, UT\n",
      "429 Pierre, SD\n",
      "429 North Platte, NE\n",
      "429 Staunton, VA\n",
      "429 Watertown, SD\n",
      "429 Prescott, AZ\n",
      "429 Lewisburg, WV\n",
      "429 Kapalua, HI\n",
      "429 Salina, KS\n",
      "429 Liberal, KS\n",
      "429 Dillingham, AK\n",
      "429 St. Cloud, MN\n",
      "429 Martha's Vineyard, MA\n",
      "429 Moab, UT\n",
      "429 Hyannis, MA\n",
      "429 Scottsbluff, NE\n",
      "429 Nantucket, MA\n",
      "429 Everett, WA\n",
      "429 Presque Isle/Houlton, ME\n",
      "429 Branson, MO\n",
      "429 Gustavus, AK\n",
      "429 Kearney, NE\n",
      "429 Del Rio, TX\n",
      "429 Lanai, HI\n",
      "429 West Yellowstone, MT\n"
     ]
    }
   ],
   "source": [
    "weather_mc = get_weather_for_each_city(missing_cities, url, 2018, 1, '', headers=headers, params=params)"
   ],
   "metadata": {
    "collapsed": false,
    "pycharm": {
     "name": "#%%\n"
    }
   }
  },
  {
   "cell_type": "code",
   "execution_count": 332,
   "outputs": [],
   "source": [
    "string = \"\"\"429 Hoolehua, HI\n",
    "429 Cheyenne, WY\n",
    "429 Vernal, UT\n",
    "429 Pierre, SD\n",
    "429 North Platte, NE\n",
    "429 Staunton, VA\n",
    "429 Watertown, SD\n",
    "429 Prescott, AZ\n",
    "429 Lewisburg, WV\n",
    "429 Kapalua, HI\n",
    "429 Salina, KS\n",
    "429 Liberal, KS\n",
    "429 Dillingham, AK\n",
    "429 St. Cloud, MN\n",
    "429 Martha's Vineyard, MA\n",
    "429 Moab, UT\n",
    "429 Hyannis, MA\n",
    "429 Scottsbluff, NE\n",
    "429 Nantucket, MA\n",
    "429 Everett, WA\n",
    "429 Presque Isle/Houlton, ME\n",
    "429 Branson, MO\n",
    "429 Gustavus, AK\n",
    "429 Kearney, NE\n",
    "429 Del Rio, TX\n",
    "429 Lanai, HI\n",
    "429 West Yellowstone, MT\"\"\""
   ],
   "metadata": {
    "collapsed": false,
    "pycharm": {
     "name": "#%%\n"
    }
   }
  },
  {
   "cell_type": "markdown",
   "metadata": {
    "pycharm": {
     "name": "#%% md\n"
    }
   },
   "source": [
    "#### **Task 4**: How taxi times changing during the day? Does higher traffic lead to bigger taxi times?"
   ]
  },
  {
   "cell_type": "code",
   "execution_count": null,
   "outputs": [],
   "source": [],
   "metadata": {
    "collapsed": false,
    "pycharm": {
     "name": "#%%\n"
    }
   }
  },
  {
   "cell_type": "code",
   "execution_count": null,
   "metadata": {
    "pycharm": {
     "name": "#%%\n"
    }
   },
   "outputs": [],
   "source": [
    "# flight_df"
   ]
  },
  {
   "cell_type": "code",
   "execution_count": null,
   "metadata": {
    "pycharm": {
     "name": "#%%\n"
    }
   },
   "outputs": [],
   "source": []
  },
  {
   "cell_type": "markdown",
   "metadata": {
    "pycharm": {
     "name": "#%% md\n"
    }
   },
   "source": [
    "#### **Task 5**: What is the average percentage of delays that is already created before departure? (aka are arrival delays caused by departure delays?) Are airlines able to lower the delay during the flights?"
   ]
  },
  {
   "cell_type": "code",
   "execution_count": null,
   "metadata": {
    "pycharm": {
     "name": "#%%\n"
    }
   },
   "outputs": [],
   "source": []
  },
  {
   "cell_type": "code",
   "execution_count": null,
   "metadata": {
    "pycharm": {
     "name": "#%%\n"
    }
   },
   "outputs": [],
   "source": []
  },
  {
   "cell_type": "markdown",
   "metadata": {
    "pycharm": {
     "name": "#%% md\n"
    }
   },
   "source": [
    "#### **Task 6**: How many states cover 50% of US air traffic? "
   ]
  },
  {
   "cell_type": "code",
   "execution_count": null,
   "metadata": {
    "pycharm": {
     "name": "#%%\n"
    }
   },
   "outputs": [],
   "source": []
  },
  {
   "cell_type": "code",
   "execution_count": null,
   "metadata": {
    "pycharm": {
     "name": "#%%\n"
    }
   },
   "outputs": [],
   "source": []
  },
  {
   "cell_type": "markdown",
   "metadata": {
    "pycharm": {
     "name": "#%% md\n"
    }
   },
   "source": [
    "#### **Task 7**: Test the hypothesis whether planes fly faster when there is the departure delay? "
   ]
  },
  {
   "cell_type": "code",
   "execution_count": null,
   "metadata": {
    "pycharm": {
     "name": "#%%\n"
    }
   },
   "outputs": [],
   "source": []
  },
  {
   "cell_type": "code",
   "execution_count": null,
   "metadata": {
    "pycharm": {
     "name": "#%%\n"
    }
   },
   "outputs": [],
   "source": []
  },
  {
   "cell_type": "markdown",
   "metadata": {
    "pycharm": {
     "name": "#%% md\n"
    }
   },
   "source": [
    "#### **Task 8**: When (which hour) do most 'LONG', 'SHORT', 'MEDIUM' haul flights take off?"
   ]
  },
  {
   "cell_type": "code",
   "execution_count": null,
   "metadata": {
    "pycharm": {
     "name": "#%%\n"
    }
   },
   "outputs": [],
   "source": []
  },
  {
   "cell_type": "code",
   "execution_count": null,
   "metadata": {
    "pycharm": {
     "name": "#%%\n"
    }
   },
   "outputs": [],
   "source": []
  },
  {
   "cell_type": "markdown",
   "metadata": {
    "pycharm": {
     "name": "#%% md\n"
    }
   },
   "source": [
    "#### **Task 9**: Find the top 10 the bussiest airports. Does the biggest number of flights mean that the biggest number of passengers went through the particular airport? How much traffic do these 10 airports cover?"
   ]
  },
  {
   "cell_type": "code",
   "execution_count": null,
   "metadata": {
    "pycharm": {
     "name": "#%%\n"
    }
   },
   "outputs": [],
   "source": []
  },
  {
   "cell_type": "code",
   "execution_count": null,
   "metadata": {
    "pycharm": {
     "name": "#%%\n"
    }
   },
   "outputs": [],
   "source": []
  },
  {
   "cell_type": "markdown",
   "metadata": {
    "pycharm": {
     "name": "#%% md\n"
    }
   },
   "source": [
    "#### **Task 10**: Do bigger delays lead to bigger fuel comsumption per passenger? \n",
    "We need to do four things to answer this as accurate as possible:\n",
    "- Find out average monthly delay per air carrier (monthly delay is sum of all delays in 1 month)\n",
    "- Find out distance covered monthly by different air carriers\n",
    "- Find out number of passengers that were carried by different air carriers\n",
    "- Find out total fuel comsumption per air carrier.\n",
    "\n",
    "Use this information to get the average fuel comsumption per passenger per km. Is this higher for the airlines with bigger average delays?"
   ]
  },
  {
   "cell_type": "code",
   "execution_count": null,
   "metadata": {
    "pycharm": {
     "name": "#%%\n"
    }
   },
   "outputs": [],
   "source": []
  },
  {
   "cell_type": "code",
   "execution_count": null,
   "metadata": {
    "pycharm": {
     "name": "#%%\n"
    }
   },
   "outputs": [],
   "source": []
  }
 ],
 "metadata": {
  "kernelspec": {
   "display_name": "Python 3",
   "language": "python",
   "name": "python3"
  },
  "language_info": {
   "codemirror_mode": {
    "name": "ipython",
    "version": 3
   },
   "file_extension": ".py",
   "mimetype": "text/x-python",
   "name": "python",
   "nbconvert_exporter": "python",
   "pygments_lexer": "ipython3",
   "version": "3.7.6"
  },
  "toc": {
   "base_numbering": 1,
   "nav_menu": {},
   "number_sections": true,
   "sideBar": true,
   "skip_h1_title": false,
   "title_cell": "Table of Contents",
   "title_sidebar": "Contents",
   "toc_cell": false,
   "toc_position": {},
   "toc_section_display": true,
   "toc_window_display": false
  },
  "varInspector": {
   "cols": {
    "lenName": 16,
    "lenType": 16,
    "lenVar": 40
   },
   "kernels_config": {
    "python": {
     "delete_cmd_postfix": "",
     "delete_cmd_prefix": "del ",
     "library": "var_list.py",
     "varRefreshCmd": "print(var_dic_list())"
    },
    "r": {
     "delete_cmd_postfix": ") ",
     "delete_cmd_prefix": "rm(",
     "library": "var_list.r",
     "varRefreshCmd": "cat(var_dic_list()) "
    }
   },
   "types_to_exclude": [
    "module",
    "function",
    "builtin_function_or_method",
    "instance",
    "_Feature"
   ],
   "window_display": false
  }
 },
 "nbformat": 4,
 "nbformat_minor": 4
}