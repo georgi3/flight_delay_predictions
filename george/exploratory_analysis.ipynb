{
 "cells": [
  {
   "cell_type": "markdown",
   "metadata": {
    "pycharm": {
     "name": "#%% md\n"
    }
   },
   "source": [
    "## Exploratory Data Analysis\n",
    "\n",
    "Use this notebook to get familiar with the datasets we have. There is 10 questions we need to answer during the EDA (Exploratory Data Analysis).\n",
    "\n",
    "\n",
    "We shouldn't limit our EDA to these 10 questions. Let's be creative :)."
   ]
  },
  {
   "cell_type": "code",
   "execution_count": 2,
   "metadata": {
    "pycharm": {
     "name": "#%%\n"
    }
   },
   "outputs": [],
   "source": [
    "import pandas as pd\n",
    "import numpy as np\n",
    "import matplotlib.pyplot as plt\n",
    "from scipy import stats\n",
    "import warnings\n",
    "import seaborn as sns\n",
    "import json\n",
    "from pandas.io.json import json_normalize"
   ]
  },
  {
   "cell_type": "code",
   "execution_count": 3,
   "outputs": [],
   "source": [
    "warnings.filterwarnings('ignore')"
   ],
   "metadata": {
    "collapsed": false,
    "pycharm": {
     "name": "#%%\n"
    }
   }
  },
  {
   "cell_type": "code",
   "execution_count": 4,
   "outputs": [],
   "source": [
    "fname = '../data/january_flights.csv'\n",
    "jan_flight_df = pd.read_csv(fname)\n",
    "jan_flight_df['fl_date'] = pd.to_datetime(jan_flight_df['fl_date'])\n",
    "jan = pd.to_datetime('2018-02-01')\n",
    "jan_flight_df = jan_flight_df[jan_flight_df['fl_date'] < jan]"
   ],
   "metadata": {
    "collapsed": false,
    "pycharm": {
     "name": "#%%\n"
    }
   }
  },
  {
   "cell_type": "code",
   "execution_count": 5,
   "outputs": [
    {
     "data": {
      "text/plain": "     fl_date mkt_unique_carrier branded_code_share mkt_carrier  \\\n0 2018-01-01                 AA                 AA          AA   \n1 2018-01-01                 AA                 AA          AA   \n2 2018-01-01                 AA                 AA          AA   \n3 2018-01-01                 AA                 AA          AA   \n4 2018-01-01                 AA                 AA          AA   \n\n   mkt_carrier_fl_num op_unique_carrier tail_num  op_carrier_fl_num  \\\n0                1640                AA   N762US               1640   \n1                1644                AA   N561UW               1644   \n2                1648                AA   N973UY               1648   \n3                1651                AA   N534UW               1651   \n4                1104                AA   N998AN               1104   \n\n   origin_airport_id origin  ... carrier_delay  weather_delay nas_delay  \\\n0              11298    DFW  ...          15.0            0.0       0.0   \n1              13930    ORD  ...          32.0            0.0       0.0   \n2              11298    DFW  ...          26.0            0.0       0.0   \n3              14100    PHL  ...           NaN            NaN       NaN   \n4              11298    DFW  ...           NaN            NaN       NaN   \n\n  security_delay  late_aircraft_delay  first_dep_time  total_add_gtime  \\\n0            0.0                  0.0             NaN              NaN   \n1            0.0                  0.0             NaN              NaN   \n2            0.0                  0.0             NaN              NaN   \n3            NaN                  NaN             NaN              NaN   \n4            NaN                  NaN             NaN              NaN   \n\n   longest_add_gtime  no_name  row  \n0                NaN      NaN    6  \n1                NaN      NaN   12  \n2                NaN      NaN   18  \n3                NaN      NaN   24  \n4                NaN      NaN   30  \n\n[5 rows x 43 columns]",
      "text/html": "<div>\n<style scoped>\n    .dataframe tbody tr th:only-of-type {\n        vertical-align: middle;\n    }\n\n    .dataframe tbody tr th {\n        vertical-align: top;\n    }\n\n    .dataframe thead th {\n        text-align: right;\n    }\n</style>\n<table border=\"1\" class=\"dataframe\">\n  <thead>\n    <tr style=\"text-align: right;\">\n      <th></th>\n      <th>fl_date</th>\n      <th>mkt_unique_carrier</th>\n      <th>branded_code_share</th>\n      <th>mkt_carrier</th>\n      <th>mkt_carrier_fl_num</th>\n      <th>op_unique_carrier</th>\n      <th>tail_num</th>\n      <th>op_carrier_fl_num</th>\n      <th>origin_airport_id</th>\n      <th>origin</th>\n      <th>...</th>\n      <th>carrier_delay</th>\n      <th>weather_delay</th>\n      <th>nas_delay</th>\n      <th>security_delay</th>\n      <th>late_aircraft_delay</th>\n      <th>first_dep_time</th>\n      <th>total_add_gtime</th>\n      <th>longest_add_gtime</th>\n      <th>no_name</th>\n      <th>row</th>\n    </tr>\n  </thead>\n  <tbody>\n    <tr>\n      <th>0</th>\n      <td>2018-01-01</td>\n      <td>AA</td>\n      <td>AA</td>\n      <td>AA</td>\n      <td>1640</td>\n      <td>AA</td>\n      <td>N762US</td>\n      <td>1640</td>\n      <td>11298</td>\n      <td>DFW</td>\n      <td>...</td>\n      <td>15.0</td>\n      <td>0.0</td>\n      <td>0.0</td>\n      <td>0.0</td>\n      <td>0.0</td>\n      <td>NaN</td>\n      <td>NaN</td>\n      <td>NaN</td>\n      <td>NaN</td>\n      <td>6</td>\n    </tr>\n    <tr>\n      <th>1</th>\n      <td>2018-01-01</td>\n      <td>AA</td>\n      <td>AA</td>\n      <td>AA</td>\n      <td>1644</td>\n      <td>AA</td>\n      <td>N561UW</td>\n      <td>1644</td>\n      <td>13930</td>\n      <td>ORD</td>\n      <td>...</td>\n      <td>32.0</td>\n      <td>0.0</td>\n      <td>0.0</td>\n      <td>0.0</td>\n      <td>0.0</td>\n      <td>NaN</td>\n      <td>NaN</td>\n      <td>NaN</td>\n      <td>NaN</td>\n      <td>12</td>\n    </tr>\n    <tr>\n      <th>2</th>\n      <td>2018-01-01</td>\n      <td>AA</td>\n      <td>AA</td>\n      <td>AA</td>\n      <td>1648</td>\n      <td>AA</td>\n      <td>N973UY</td>\n      <td>1648</td>\n      <td>11298</td>\n      <td>DFW</td>\n      <td>...</td>\n      <td>26.0</td>\n      <td>0.0</td>\n      <td>0.0</td>\n      <td>0.0</td>\n      <td>0.0</td>\n      <td>NaN</td>\n      <td>NaN</td>\n      <td>NaN</td>\n      <td>NaN</td>\n      <td>18</td>\n    </tr>\n    <tr>\n      <th>3</th>\n      <td>2018-01-01</td>\n      <td>AA</td>\n      <td>AA</td>\n      <td>AA</td>\n      <td>1651</td>\n      <td>AA</td>\n      <td>N534UW</td>\n      <td>1651</td>\n      <td>14100</td>\n      <td>PHL</td>\n      <td>...</td>\n      <td>NaN</td>\n      <td>NaN</td>\n      <td>NaN</td>\n      <td>NaN</td>\n      <td>NaN</td>\n      <td>NaN</td>\n      <td>NaN</td>\n      <td>NaN</td>\n      <td>NaN</td>\n      <td>24</td>\n    </tr>\n    <tr>\n      <th>4</th>\n      <td>2018-01-01</td>\n      <td>AA</td>\n      <td>AA</td>\n      <td>AA</td>\n      <td>1104</td>\n      <td>AA</td>\n      <td>N998AN</td>\n      <td>1104</td>\n      <td>11298</td>\n      <td>DFW</td>\n      <td>...</td>\n      <td>NaN</td>\n      <td>NaN</td>\n      <td>NaN</td>\n      <td>NaN</td>\n      <td>NaN</td>\n      <td>NaN</td>\n      <td>NaN</td>\n      <td>NaN</td>\n      <td>NaN</td>\n      <td>30</td>\n    </tr>\n  </tbody>\n</table>\n<p>5 rows × 43 columns</p>\n</div>"
     },
     "execution_count": 5,
     "metadata": {},
     "output_type": "execute_result"
    }
   ],
   "source": [
    "jan_flight_df.head()"
   ],
   "metadata": {
    "collapsed": false,
    "pycharm": {
     "name": "#%%\n"
    }
   }
  },
  {
   "cell_type": "code",
   "execution_count": 6,
   "outputs": [],
   "source": [
    "fn_flight = '../data/flight_data.csv'\n",
    "fn_passenger = '../data/passengers_sample.csv'\n",
    "fn_fuel = '../data/fuel_consumption.csv'"
   ],
   "metadata": {
    "collapsed": false,
    "pycharm": {
     "name": "#%%\n"
    }
   }
  },
  {
   "cell_type": "code",
   "execution_count": 7,
   "outputs": [],
   "source": [
    "flight_df = pd.read_csv(fn_flight)\n",
    "passenger_df = pd.read_csv(fn_passenger)\n",
    "fuel_df = pd.read_csv(fn_fuel)"
   ],
   "metadata": {
    "collapsed": false,
    "pycharm": {
     "name": "#%%\n"
    }
   }
  },
  {
   "cell_type": "code",
   "execution_count": 368,
   "outputs": [
    {
     "data": {
      "text/plain": "        wheels_off  taxi_out\n0           1823.0      11.0\n1           1515.0      16.0\n2           1339.0      12.0\n3           2317.0      21.0\n4            622.0      10.0\n...            ...       ...\n106178      1209.0      19.0\n106179      1528.0      16.0\n106180      1350.0      12.0\n106181       621.0      16.0\n106182      1020.0       8.0\n\n[106183 rows x 2 columns]",
      "text/html": "<div>\n<style scoped>\n    .dataframe tbody tr th:only-of-type {\n        vertical-align: middle;\n    }\n\n    .dataframe tbody tr th {\n        vertical-align: top;\n    }\n\n    .dataframe thead th {\n        text-align: right;\n    }\n</style>\n<table border=\"1\" class=\"dataframe\">\n  <thead>\n    <tr style=\"text-align: right;\">\n      <th></th>\n      <th>wheels_off</th>\n      <th>taxi_out</th>\n    </tr>\n  </thead>\n  <tbody>\n    <tr>\n      <th>0</th>\n      <td>1823.0</td>\n      <td>11.0</td>\n    </tr>\n    <tr>\n      <th>1</th>\n      <td>1515.0</td>\n      <td>16.0</td>\n    </tr>\n    <tr>\n      <th>2</th>\n      <td>1339.0</td>\n      <td>12.0</td>\n    </tr>\n    <tr>\n      <th>3</th>\n      <td>2317.0</td>\n      <td>21.0</td>\n    </tr>\n    <tr>\n      <th>4</th>\n      <td>622.0</td>\n      <td>10.0</td>\n    </tr>\n    <tr>\n      <th>...</th>\n      <td>...</td>\n      <td>...</td>\n    </tr>\n    <tr>\n      <th>106178</th>\n      <td>1209.0</td>\n      <td>19.0</td>\n    </tr>\n    <tr>\n      <th>106179</th>\n      <td>1528.0</td>\n      <td>16.0</td>\n    </tr>\n    <tr>\n      <th>106180</th>\n      <td>1350.0</td>\n      <td>12.0</td>\n    </tr>\n    <tr>\n      <th>106181</th>\n      <td>621.0</td>\n      <td>16.0</td>\n    </tr>\n    <tr>\n      <th>106182</th>\n      <td>1020.0</td>\n      <td>8.0</td>\n    </tr>\n  </tbody>\n</table>\n<p>106183 rows × 2 columns</p>\n</div>"
     },
     "execution_count": 368,
     "metadata": {},
     "output_type": "execute_result"
    }
   ],
   "source": [
    "flight_df[['wheels_off', 'taxi_out']]"
   ],
   "metadata": {
    "collapsed": false,
    "pycharm": {
     "name": "#%%\n"
    }
   }
  },
  {
   "cell_type": "code",
   "execution_count": 6,
   "outputs": [
    {
     "name": "stdout",
     "output_type": "stream",
     "text": [
      "<class 'pandas.core.frame.DataFrame'>\n",
      "RangeIndex: 106183 entries, 0 to 106182\n",
      "Data columns (total 43 columns):\n",
      " #   Column               Non-Null Count   Dtype  \n",
      "---  ------               --------------   -----  \n",
      " 0   fl_date              106183 non-null  object \n",
      " 1   mkt_unique_carrier   106183 non-null  object \n",
      " 2   branded_code_share   106183 non-null  object \n",
      " 3   mkt_carrier          106183 non-null  object \n",
      " 4   mkt_carrier_fl_num   106183 non-null  int64  \n",
      " 5   op_unique_carrier    106183 non-null  object \n",
      " 6   tail_num             105844 non-null  object \n",
      " 7   op_carrier_fl_num    106183 non-null  int64  \n",
      " 8   origin_airport_id    106183 non-null  int64  \n",
      " 9   origin               106183 non-null  object \n",
      " 10  origin_city_name     106183 non-null  object \n",
      " 11  dest_airport_id      106183 non-null  int64  \n",
      " 12  dest                 106183 non-null  object \n",
      " 13  dest_city_name       106183 non-null  object \n",
      " 14  crs_dep_time         106183 non-null  int64  \n",
      " 15  dep_time             104522 non-null  float64\n",
      " 16  dep_delay            104488 non-null  float64\n",
      " 17  taxi_out             104436 non-null  float64\n",
      " 18  wheels_off           104436 non-null  float64\n",
      " 19  wheels_on            104380 non-null  float64\n",
      " 20  taxi_in              104380 non-null  float64\n",
      " 21  crs_arr_time         106183 non-null  int64  \n",
      " 22  arr_time             104414 non-null  float64\n",
      " 23  arr_delay            104143 non-null  float64\n",
      " 24  cancelled            106183 non-null  float64\n",
      " 25  cancellation_code    1722 non-null    object \n",
      " 26  diverted             106183 non-null  float64\n",
      " 27  dup                  106183 non-null  object \n",
      " 28  crs_elapsed_time     106183 non-null  float64\n",
      " 29  actual_elapsed_time  104163 non-null  float64\n",
      " 30  air_time             104129 non-null  float64\n",
      " 31  flights              106183 non-null  float64\n",
      " 32  distance             106183 non-null  float64\n",
      " 33  carrier_delay        20312 non-null   float64\n",
      " 34  weather_delay        20312 non-null   float64\n",
      " 35  nas_delay            20312 non-null   float64\n",
      " 36  security_delay       20312 non-null   float64\n",
      " 37  late_aircraft_delay  20312 non-null   float64\n",
      " 38  first_dep_time       747 non-null     float64\n",
      " 39  total_add_gtime      747 non-null     float64\n",
      " 40  longest_add_gtime    747 non-null     float64\n",
      " 41  no_name              0 non-null       float64\n",
      " 42  row                  106183 non-null  int64  \n",
      "dtypes: float64(24), int64(7), object(12)\n",
      "memory usage: 34.8+ MB\n"
     ]
    }
   ],
   "source": [
    "flight_df.info()"
   ],
   "metadata": {
    "collapsed": false,
    "pycharm": {
     "name": "#%%\n"
    }
   }
  },
  {
   "cell_type": "code",
   "execution_count": 7,
   "outputs": [
    {
     "data": {
      "text/plain": "count    104488.000000\nmean         10.839532\nstd          49.058229\nmin        -147.000000\n25%          -6.000000\n50%          -2.000000\n75%           7.000000\nmax        1788.000000\nName: dep_delay, dtype: float64"
     },
     "execution_count": 7,
     "metadata": {},
     "output_type": "execute_result"
    }
   ],
   "source": [
    "# flight_df[flight_df.columns[flight_df.columns != 'object']]\n",
    "num = flight_df.columns[flight_df.dtypes != 'object'].tolist()\n",
    "flight_df['dep_delay'].describe()"
   ],
   "metadata": {
    "collapsed": false,
    "pycharm": {
     "name": "#%%\n"
    }
   }
  },
  {
   "cell_type": "markdown",
   "metadata": {
    "pycharm": {
     "name": "#%% md\n"
    }
   },
   "source": [
    "#### **Task 1**: Test the hypothesis that the delay is from Normal distribution. and that **mean** of the delay is 0. Be careful about the outliers."
   ]
  },
  {
   "cell_type": "code",
   "execution_count": 8,
   "metadata": {
    "pycharm": {
     "name": "#%%\n"
    }
   },
   "outputs": [
    {
     "data": {
      "text/plain": "ShapiroResult(statistic=0.3714328408241272, pvalue=0.0)"
     },
     "execution_count": 8,
     "metadata": {},
     "output_type": "execute_result"
    }
   ],
   "source": [
    "stats.shapiro(flight_df['dep_delay'].dropna())"
   ]
  },
  {
   "cell_type": "code",
   "execution_count": 9,
   "metadata": {
    "pycharm": {
     "name": "#%%\n"
    }
   },
   "outputs": [
    {
     "data": {
      "text/plain": "ShapiroResult(statistic=0.4934779405593872, pvalue=0.0)"
     },
     "execution_count": 9,
     "metadata": {},
     "output_type": "execute_result"
    }
   ],
   "source": [
    "delays = flight_df['dep_delay'][flight_df['dep_delay'] > 0]\n",
    "stats.shapiro(delays)"
   ]
  },
  {
   "cell_type": "code",
   "execution_count": 10,
   "outputs": [
    {
     "data": {
      "text/plain": "ShapiroResult(statistic=0.9852893352508545, pvalue=0.0)"
     },
     "execution_count": 10,
     "metadata": {},
     "output_type": "execute_result"
    }
   ],
   "source": [
    "stats.shapiro(np.log(delays))"
   ],
   "metadata": {
    "collapsed": false,
    "pycharm": {
     "name": "#%%\n"
    }
   }
  },
  {
   "cell_type": "code",
   "execution_count": 11,
   "outputs": [
    {
     "data": {
      "text/plain": "<AxesSubplot:xlabel='dep_delay', ylabel='Density'>"
     },
     "execution_count": 11,
     "metadata": {},
     "output_type": "execute_result"
    },
    {
     "data": {
      "text/plain": "<Figure size 432x288 with 1 Axes>",
      "image/png": "[encoded data removed]"
     },
     "metadata": {
      "needs_background": "light"
     },
     "output_type": "display_data"
    }
   ],
   "source": [
    "sns.distplot(flight_df['dep_delay'].dropna())"
   ],
   "metadata": {
    "collapsed": false,
    "pycharm": {
     "name": "#%%\n"
    }
   }
  },
  {
   "cell_type": "code",
   "execution_count": 12,
   "outputs": [
    {
     "data": {
      "text/plain": "<AxesSubplot:xlabel='dep_delay', ylabel='Density'>"
     },
     "execution_count": 12,
     "metadata": {},
     "output_type": "execute_result"
    },
    {
     "data": {
      "text/plain": "<Figure size 432x288 with 1 Axes>",
      "image/png": "[encoded data removed]"
     },
     "metadata": {
      "needs_background": "light"
     },
     "output_type": "display_data"
    }
   ],
   "source": [
    "sns.distplot(np.log(delays))"
   ],
   "metadata": {
    "collapsed": false,
    "pycharm": {
     "name": "#%%\n"
    }
   }
  },
  {
   "cell_type": "markdown",
   "metadata": {
    "pycharm": {
     "name": "#%% md\n"
    }
   },
   "source": [
    "#### **Task 2**: Is average/median monthly delay different during the year? If yes, which are months with the biggest delays and what could be the reason?"
   ]
  },
  {
   "cell_type": "code",
   "execution_count": 13,
   "metadata": {
    "pycharm": {
     "name": "#%%\n"
    }
   },
   "outputs": [
    {
     "data": {
      "text/plain": "       dep_delay\nmonth           \n10      6.859221\n09      7.526791\n03      8.714156\n11      8.808516\n04      8.903935\n01     10.950055\n12     11.634633\n02     12.027834\n05     12.089112\n08     13.668966\n07     13.782820\n06     14.776298",
      "text/html": "<div>\n<style scoped>\n    .dataframe tbody tr th:only-of-type {\n        vertical-align: middle;\n    }\n\n    .dataframe tbody tr th {\n        vertical-align: top;\n    }\n\n    .dataframe thead th {\n        text-align: right;\n    }\n</style>\n<table border=\"1\" class=\"dataframe\">\n  <thead>\n    <tr style=\"text-align: right;\">\n      <th></th>\n      <th>dep_delay</th>\n    </tr>\n    <tr>\n      <th>month</th>\n      <th></th>\n    </tr>\n  </thead>\n  <tbody>\n    <tr>\n      <th>10</th>\n      <td>6.859221</td>\n    </tr>\n    <tr>\n      <th>09</th>\n      <td>7.526791</td>\n    </tr>\n    <tr>\n      <th>03</th>\n      <td>8.714156</td>\n    </tr>\n    <tr>\n      <th>11</th>\n      <td>8.808516</td>\n    </tr>\n    <tr>\n      <th>04</th>\n      <td>8.903935</td>\n    </tr>\n    <tr>\n      <th>01</th>\n      <td>10.950055</td>\n    </tr>\n    <tr>\n      <th>12</th>\n      <td>11.634633</td>\n    </tr>\n    <tr>\n      <th>02</th>\n      <td>12.027834</td>\n    </tr>\n    <tr>\n      <th>05</th>\n      <td>12.089112</td>\n    </tr>\n    <tr>\n      <th>08</th>\n      <td>13.668966</td>\n    </tr>\n    <tr>\n      <th>07</th>\n      <td>13.782820</td>\n    </tr>\n    <tr>\n      <th>06</th>\n      <td>14.776298</td>\n    </tr>\n  </tbody>\n</table>\n</div>"
     },
     "execution_count": 13,
     "metadata": {},
     "output_type": "execute_result"
    }
   ],
   "source": [
    "flight_df['month'] = flight_df['fl_date'].str[5:-3]\n",
    "flight_df[['month', 'dep_delay']].groupby(['month']).mean().sort_values('dep_delay')"
   ]
  },
  {
   "cell_type": "markdown",
   "metadata": {
    "pycharm": {
     "name": "#%% md\n"
    }
   },
   "source": [
    "#### **Task 3**: Does the weather affect the delay? \n",
    "Use the API to pull the weather information for flights. There is no need to get weather for ALL flights. We can choose the right representative sample. Let's focus on four weather types:\n",
    "- sunny\n",
    "- cloudy\n",
    "- rainy\n",
    "- snow.\n",
    "Test the hypothesis that these 4 delays are from the same distribution. If they are not, which ones are significantly different?"
   ]
  },
  {
   "cell_type": "code",
   "execution_count": 344,
   "outputs": [],
   "source": [
    "with open('january_weather.json') as f:\n",
    "    file = json.load(f)"
   ],
   "metadata": {
    "collapsed": false,
    "pycharm": {
     "name": "#%%\n"
    }
   }
  },
  {
   "cell_type": "code",
   "execution_count": null,
   "outputs": [],
   "source": [
    "json_normalize(file, record_path='2018', meta=['1'])"
   ],
   "metadata": {
    "collapsed": false,
    "pycharm": {
     "name": "#%%\n",
     "is_executing": true
    }
   }
  },
  {
   "cell_type": "code",
   "execution_count": 326,
   "outputs": [],
   "source": [],
   "metadata": {
    "collapsed": false,
    "pycharm": {
     "name": "#%%\n"
    }
   }
  },
  {
   "cell_type": "code",
   "execution_count": null,
   "outputs": [],
   "source": [
    "''''fl_date: Flight Date (yyyy-mm-dd)\n",
    "mkt_unique_carrier: Unique Marketing Carrier Code. When the same code has been used by multiple carriers, a numeric suffix is used for earlier users, for example, PA, PA(1), PA(2). Use this field for analysis across a range of years.\n",
    "branded_code_share: Reporting Carrier Operated or Branded Code Share Partners\n",
    "mkt_carrier: Code assigned by IATA and commonly used to identify a carrier. As the same code may have been assigned to different carriers over time, the code is not always unique. For analysis, use the Unique Carrier Code.\n",
    "mkt_carrier_fl_num: Flight Number\n",
    "op_unique_carrier: Unique Scheduled Operating Carrier Code. When the same code has been used by multiple carriers, a numeric suffix is used for earlier users,for example, PA, PA(1), PA(2). Use this field for analysis across a range of years.\n",
    "op_carrier_fl_num: Flight Number\n",
    "origin: Origin Airport\n",
    "origin_city_name: Origin Airport, City Name\n",
    "dest: Destination Airport\n",
    "dest_city_name: Destination Airport, City Name\n",
    "dep_time: Actual Departure Time (local time: hhmm)\n",
    "dep_delay: Difference in minutes between scheduled and actual departure time. Early departures show negative numbers.\n",
    "taxi_out: Taxi Out Time, in Minutes\n",
    "taxi_in: Taxi In Time, in Minutes\n",
    "arr_delay: Difference in minutes between scheduled and actual arrival time. Early arrivals show negative numbers.\n",
    "cancelled: Cancelled Flight Indicator (1=Yes)\n",
    "cancellation_code: Specifies The Reason For Cancellation\n",
    "diverted: Diverted Flight Indicator (1=Yes)\n",
    "dup: Duplicate flag marked Y if the flight is swapped based on Form-3A data\n",
    "crs_elapsed_time: CRS Elapsed Time of Flight, in Minutes\n",
    "actual_elapsed_time: Elapsed Time of Flight, in Minutes\n",
    "air_time: Flight Time, in Minutes\n",
    "distance: Distance between airports (miles)\n",
    "carrier_delay: Carrier Delay, in Minutes\n",
    "weather_delay: Weather Delay, in Minutes\n",
    "nas_delay: National Air System Delay, in Minutes\n",
    "security_delay: Security Delay, in Minutes\n",
    "late_aircraft_delay: Late Aircraft Delay, in Minutes\n",
    "first_dep_time: First Gate Departure Time at Origin Airport\n",
    "total_add_gtime: Total Ground Time Away from Gate for Gate Return or Cancelled Flight\n",
    "longest_add_gtime: Longest Time Away from Gate for Gate Return or Cancelled Flight'''"
   ],
   "metadata": {
    "collapsed": false,
    "pycharm": {
     "name": "#%%\n"
    }
   }
  },
  {
   "cell_type": "code",
   "execution_count": 89,
   "outputs": [],
   "source": [
    "drop_list = ['crs_dep_time', 'origin_airport_id', 'dest_airport_id', 'tail_num', 'wheels_off', 'wheels_on',\n",
    "             'crs_arr_time', 'flights']\n",
    "drop_list_nas = ['no_name', 'longest_add_gtime', 'total_add_gtime', 'first_dep_time', 'security_delay',\n",
    "                 'nas_delay', 'nas_delay', 'weather_delay', 'carrier_delay', 'cancellation_code', 'row']\n",
    "drop_list.extend(drop_list_nas)\n",
    "to_drop = list(set(drop_list))"
   ],
   "metadata": {
    "collapsed": false,
    "pycharm": {
     "name": "#%%\n"
    }
   }
  },
  {
   "cell_type": "code",
   "execution_count": 90,
   "outputs": [],
   "source": [
    "jan_flight_cl = jan_flight_df.drop(to_drop, axis=1)"
   ],
   "metadata": {
    "collapsed": false,
    "pycharm": {
     "name": "#%%\n"
    }
   }
  },
  {
   "cell_type": "code",
   "execution_count": 91,
   "outputs": [
    {
     "data": {
      "text/plain": "'\\ndelta_air_time: predicted minus actual airtime\\n\\n'"
     },
     "execution_count": 91,
     "metadata": {},
     "output_type": "execute_result"
    }
   ],
   "source": [
    "# cols to engineer\n",
    "'''\n",
    "delta_air_time: predicted minus actual airtime\n",
    "\n",
    "'''"
   ],
   "metadata": {
    "collapsed": false,
    "pycharm": {
     "name": "#%%\n"
    }
   }
  },
  {
   "cell_type": "markdown",
   "source": [
    "#### **Task 4**: How taxi times changing during the day? Does higher traffic lead to bigger taxi times?"
   ],
   "metadata": {
    "collapsed": false,
    "pycharm": {
     "name": "#%% md\n"
    }
   }
  },
  {
   "cell_type": "code",
   "execution_count": 92,
   "outputs": [
    {
     "data": {
      "text/plain": "Index(['fl_date', 'mkt_unique_carrier', 'branded_code_share', 'mkt_carrier',\n       'mkt_carrier_fl_num', 'op_unique_carrier', 'op_carrier_fl_num',\n       'origin', 'origin_city_name', 'dest', 'dest_city_name', 'dep_time',\n       'dep_delay', 'taxi_out', 'taxi_in', 'arr_time', 'arr_delay',\n       'cancelled', 'diverted', 'dup', 'crs_elapsed_time',\n       'actual_elapsed_time', 'air_time', 'distance', 'late_aircraft_delay'],\n      dtype='object')"
     },
     "execution_count": 92,
     "metadata": {},
     "output_type": "execute_result"
    }
   ],
   "source": [
    "jan_flight_cl.columns"
   ],
   "metadata": {
    "collapsed": false,
    "pycharm": {
     "name": "#%%\n"
    }
   }
  },
  {
   "cell_type": "code",
   "execution_count": 93,
   "outputs": [
    {
     "data": {
      "text/plain": "           taxi_in  dep_time\ntaxi_in   1.000000 -0.049486\ndep_time -0.049486  1.000000",
      "text/html": "<div>\n<style scoped>\n    .dataframe tbody tr th:only-of-type {\n        vertical-align: middle;\n    }\n\n    .dataframe tbody tr th {\n        vertical-align: top;\n    }\n\n    .dataframe thead th {\n        text-align: right;\n    }\n</style>\n<table border=\"1\" class=\"dataframe\">\n  <thead>\n    <tr style=\"text-align: right;\">\n      <th></th>\n      <th>taxi_in</th>\n      <th>dep_time</th>\n    </tr>\n  </thead>\n  <tbody>\n    <tr>\n      <th>taxi_in</th>\n      <td>1.000000</td>\n      <td>-0.049486</td>\n    </tr>\n    <tr>\n      <th>dep_time</th>\n      <td>-0.049486</td>\n      <td>1.000000</td>\n    </tr>\n  </tbody>\n</table>\n</div>"
     },
     "execution_count": 93,
     "metadata": {},
     "output_type": "execute_result"
    }
   ],
   "source": [
    "jan_flight_df[['taxi_in', 'dep_time']].sort_values('dep_time').corr()"
   ],
   "metadata": {
    "collapsed": false,
    "pycharm": {
     "name": "#%%\n"
    }
   }
  },
  {
   "cell_type": "markdown",
   "metadata": {
    "pycharm": {
     "name": "#%% md\n"
    }
   },
   "source": [
    "#### **Task 5**: What is the average percentage of delays that is already created before departure? (aka are arrival delays caused by departure delays?) Are airlines able to lower the delay during the flights?"
   ]
  },
  {
   "cell_type": "code",
   "execution_count": 94,
   "outputs": [
    {
     "name": "stdout",
     "output_type": "stream",
     "text": [
      "On average the actual air time is smaller than predicted\n"
     ]
    },
    {
     "data": {
      "text/plain": "count    100019.000000\nmean         -6.562603\nstd          18.341191\nmin       -1472.000000\n25%         -14.000000\n50%          -8.000000\n75%           0.000000\nmax         153.000000\ndtype: float64"
     },
     "execution_count": 94,
     "metadata": {},
     "output_type": "execute_result"
    }
   ],
   "source": [
    "print('On average the actual air time is smaller than predicted')\n",
    "(jan_flight_cl['actual_elapsed_time'] - jan_flight_cl['crs_elapsed_time']).describe()"
   ],
   "metadata": {
    "collapsed": false,
    "pycharm": {
     "name": "#%%\n"
    }
   }
  },
  {
   "cell_type": "code",
   "execution_count": 95,
   "metadata": {
    "pycharm": {
     "name": "#%%\n"
    }
   },
   "outputs": [
    {
     "name": "stdout",
     "output_type": "stream",
     "text": [
      "therefore arrival delay is also reduces\n"
     ]
    },
    {
     "data": {
      "text/plain": "count    99908.000000\nmean        -6.475748\nstd         13.847550\nmin       -139.000000\n25%        -14.000000\n50%         -8.000000\n75%          0.000000\nmax        153.000000\ndtype: float64"
     },
     "execution_count": 95,
     "metadata": {},
     "output_type": "execute_result"
    }
   ],
   "source": [
    "print('therefore arrival delay is also reduces')\n",
    "(jan_flight_cl['arr_delay'] - jan_flight_cl['dep_delay'] ).describe()"
   ]
  },
  {
   "cell_type": "code",
   "execution_count": 108,
   "outputs": [
    {
     "name": "stdout",
     "output_type": "stream",
     "text": [
      "                     dep_delay  late_aircraft_delay\n",
      "dep_delay             1.000000             0.495896\n",
      "late_aircraft_delay   0.495896             1.000000\n",
      "57.96% of delays had late aircraft delay\n"
     ]
    }
   ],
   "source": [
    "print(jan_flight_cl[jan_flight_cl['dep_delay'] > 0][['dep_delay','late_aircraft_delay']].dropna().corr())\n",
    "double_delay = jan_flight_cl[jan_flight_cl['dep_delay'] > 0][['dep_delay','late_aircraft_delay']].dropna()\n",
    "pct = double_delay[double_delay['late_aircraft_delay'] > 0]['dep_delay'].count() / double_delay['dep_delay'].count() * 100\n",
    "print(f'{pct:.2f}% of delays had late aircraft delay')"
   ],
   "metadata": {
    "collapsed": false,
    "pycharm": {
     "name": "#%%\n"
    }
   }
  },
  {
   "cell_type": "code",
   "execution_count": 74,
   "metadata": {
    "pycharm": {
     "name": "#%%\n"
    }
   },
   "outputs": [
    {
     "data": {
      "text/plain": "count    17976.000000\nmean        27.169504\nstd         51.266552\nmin          0.000000\n25%          0.000000\n50%          2.000000\n75%         33.000000\nmax        822.000000\nName: late_aircraft_delay, dtype: float64"
     },
     "execution_count": 74,
     "metadata": {},
     "output_type": "execute_result"
    }
   ],
   "source": [
    "jan_flight_df['late_aircraft_delay'].dropna().describe()"
   ]
  },
  {
   "cell_type": "markdown",
   "metadata": {
    "pycharm": {
     "name": "#%% md\n"
    }
   },
   "source": [
    "#### **Task 6**: How many states cover 50% of US air traffic? "
   ]
  },
  {
   "cell_type": "code",
   "execution_count": 141,
   "metadata": {
    "pycharm": {
     "name": "#%%\n"
    }
   },
   "outputs": [],
   "source": [
    "cover_50pct = jan_flight_cl.shape[0] / 2\n",
    "cover = 0\n",
    "n = 0\n",
    "for coverage in jan_flight_cl['origin_city_name'].value_counts():\n",
    "    if cover <= cover_50pct:\n",
    "        cover += coverage\n",
    "        n += 1\n",
    "    else:\n",
    "        break\n",
    "states = jan_flight_cl['origin_city_name'].value_counts()[:n].index.to_list()\n",
    "{state[-2:] for state in states}\n",
    "print(f'50% of the sample is {cover_50pct}')\n",
    "print(f'These {len(states)} states cover {cover} flights: {states}')"
   ]
  },
  {
   "cell_type": "code",
   "execution_count": 144,
   "metadata": {
    "pycharm": {
     "name": "#%%\n"
    }
   },
   "outputs": [
    {
     "name": "stdout",
     "output_type": "stream",
     "text": [
      "50% of the sample is 50101.5\n",
      "These 17 states cover 51813 flights: ['Chicago, IL', 'Atlanta, GA', 'New York, NY', 'Dallas/Fort Worth, TX', 'Denver, CO', 'Los Angeles, CA', 'Charlotte, NC', 'Houston, TX', 'Washington, DC', 'Phoenix, AZ', 'San Francisco, CA', 'Seattle, WA', 'Detroit, MI', 'Las Vegas, NV', 'Minneapolis, MN', 'Newark, NJ', 'Orlando, FL']\n"
     ]
    }
   ],
   "source": []
  },
  {
   "cell_type": "markdown",
   "metadata": {
    "pycharm": {
     "name": "#%% md\n"
    }
   },
   "source": [
    "#### **Task 7**: Test the hypothesis whether planes fly faster when there is the departure delay?"
   ]
  },
  {
   "cell_type": "code",
   "execution_count": 299,
   "outputs": [],
   "source": [
    "delays = jan_flight_cl[jan_flight_cl['dep_delay'] > 0]\n",
    "not_delays = jan_flight_cl.drop(delays.index)\n",
    "delays.dropna(inplace=True)\n",
    "not_delays.dropna(inplace=True)"
   ],
   "metadata": {
    "collapsed": false,
    "pycharm": {
     "name": "#%%\n"
    }
   }
  },
  {
   "cell_type": "code",
   "execution_count": 300,
   "outputs": [],
   "source": [
    "delays_speed = delays['distance'] / (delays['actual_elapsed_time'] / 60)\n",
    "not_delays_speed = not_delays['distance'] / (not_delays['actual_elapsed_time'] / 60)"
   ],
   "metadata": {
    "collapsed": false,
    "pycharm": {
     "name": "#%%\n"
    }
   }
  },
  {
   "cell_type": "code",
   "execution_count": 301,
   "outputs": [
    {
     "data": {
      "text/plain": "ShapiroResult(statistic=0.9912033677101135, pvalue=6.360015006310429e-30)"
     },
     "execution_count": 301,
     "metadata": {},
     "output_type": "execute_result"
    }
   ],
   "source": [
    "shapiro = stats.shapiro(delays_speed.dropna())\n",
    "shapiro"
   ],
   "metadata": {
    "collapsed": false,
    "pycharm": {
     "name": "#%%\n"
    }
   }
  },
  {
   "cell_type": "code",
   "execution_count": 305,
   "outputs": [
    {
     "data": {
      "text/plain": "<AxesSubplot:ylabel='Density'>"
     },
     "execution_count": 305,
     "metadata": {},
     "output_type": "execute_result"
    },
    {
     "data": {
      "text/plain": "<Figure size 432x288 with 1 Axes>",
      "image/png": "[encoded data removed]"
     },
     "metadata": {
      "needs_background": "light"
     },
     "output_type": "display_data"
    }
   ],
   "source": [
    "sns.distplot(delays_speed.dropna())"
   ],
   "metadata": {
    "collapsed": false,
    "pycharm": {
     "name": "#%%\n"
    }
   }
  },
  {
   "cell_type": "code",
   "execution_count": 303,
   "outputs": [
    {
     "data": {
      "text/plain": "ShapiroResult(statistic=0.9881905317306519, pvalue=3.847676951357348e-12)"
     },
     "execution_count": 303,
     "metadata": {},
     "output_type": "execute_result"
    }
   ],
   "source": [
    "shapiro = stats.shapiro(not_delays_speed.dropna())\n",
    "shapiro"
   ],
   "metadata": {
    "collapsed": false,
    "pycharm": {
     "name": "#%%\n"
    }
   }
  },
  {
   "cell_type": "code",
   "execution_count": 306,
   "outputs": [
    {
     "data": {
      "text/plain": "<AxesSubplot:ylabel='Density'>"
     },
     "execution_count": 306,
     "metadata": {},
     "output_type": "execute_result"
    },
    {
     "data": {
      "text/plain": "<Figure size 432x288 with 1 Axes>",
      "image/png": "[encoded data removed]"
     },
     "metadata": {
      "needs_background": "light"
     },
     "output_type": "display_data"
    }
   ],
   "source": [
    "sns.distplot(not_delays_speed.dropna())"
   ],
   "metadata": {
    "collapsed": false,
    "pycharm": {
     "name": "#%%\n"
    }
   }
  },
  {
   "cell_type": "code",
   "execution_count": 307,
   "outputs": [
    {
     "name": "stdout",
     "output_type": "stream",
     "text": [
      "stat=24.116, p=0.000000000000\n",
      "Probably different distributions\n"
     ]
    }
   ],
   "source": [
    "stat, p = stats.ttest_ind(delays_speed, not_delays_speed)\n",
    "print(f'stat={stat:.3f}, p={p:.12f}')\n",
    "if p > 0.05:\n",
    "    print('Probably the same distribution')\n",
    "else:\n",
    "    print('Probably different distributions')"
   ],
   "metadata": {
    "collapsed": false,
    "pycharm": {
     "name": "#%%\n"
    }
   }
  },
  {
   "cell_type": "code",
   "execution_count": 311,
   "outputs": [
    {
     "name": "stdout",
     "output_type": "stream",
     "text": [
      "delay_air_time_delta: \n",
      "Mean: 293.72020591707155, Median: 300.0, Mode: 240.0\n",
      "reg_air_time_delta: \n",
      "Mean: 240.5105194409304, Median: 241.5608108108108, Mode: 120.0\n"
     ]
    }
   ],
   "source": [
    "print(f'delay_air_time_delta: \\nMean: {delays_speed.mean()}, Median: {delays_speed.median()}, Mode: {delays_speed.mode()[0]}')\n",
    "print(f'reg_air_time_delta: \\nMean: {not_delays_speed.mean()}, Median: {not_delays_speed.median()}, Mode: {not_delays_speed.mode()[0]}')"
   ],
   "metadata": {
    "collapsed": false,
    "pycharm": {
     "name": "#%%\n"
    }
   }
  },
  {
   "cell_type": "code",
   "execution_count": 312,
   "outputs": [
    {
     "name": "stdout",
     "output_type": "stream",
     "text": [
      "Clearly flights that are delayed fly at higher speed\n"
     ]
    }
   ],
   "source": [
    "print('Clearly flights that are delayed fly at higher speed')"
   ],
   "metadata": {
    "collapsed": false,
    "pycharm": {
     "name": "#%%\n"
    }
   }
  },
  {
   "cell_type": "markdown",
   "source": [
    " ##### Checking distributions based on Delta Flying Time for Delayed VS Delta Flying Time for Not Delayed flights"
   ],
   "metadata": {
    "collapsed": false,
    "pycharm": {
     "name": "#%% md\n"
    }
   }
  },
  {
   "cell_type": "code",
   "execution_count": 292,
   "metadata": {
    "pycharm": {
     "name": "#%%\n"
    }
   },
   "outputs": [],
   "source": [
    "delays = jan_flight_cl['dep_delay'][jan_flight_cl['dep_delay'] > 0]\n",
    "air_time_delta = (jan_flight_cl['actual_elapsed_time'] - jan_flight_cl['crs_elapsed_time'])\n",
    "delay_air_time_delta = (jan_flight_cl['actual_elapsed_time'].iloc[delays.index] -\n",
    "                        jan_flight_cl['crs_elapsed_time'].iloc[delays.index])\n",
    "reg_air_time_delta = (jan_flight_cl['actual_elapsed_time'].drop(delays.index) -\n",
    "                      jan_flight_cl['crs_elapsed_time'].drop(delays.index))"
   ]
  },
  {
   "cell_type": "code",
   "execution_count": 274,
   "outputs": [],
   "source": [
    "delay_air_time_delta = delay_air_time_delta[delay_air_time_delta > -30]  # if switch to 60 => results in different distributions\n",
    "delay_air_time_delta = delay_air_time_delta[delay_air_time_delta < 30]\n",
    "reg_air_time_delta = reg_air_time_delta[reg_air_time_delta > -30]\n",
    "reg_air_time_delta = reg_air_time_delta[reg_air_time_delta < 30]"
   ],
   "metadata": {
    "collapsed": false,
    "pycharm": {
     "name": "#%%\n"
    }
   }
  },
  {
   "cell_type": "code",
   "execution_count": 275,
   "outputs": [
    {
     "data": {
      "text/plain": "ShapiroResult(statistic=0.9793580770492554, pvalue=0.0)"
     },
     "execution_count": 275,
     "metadata": {},
     "output_type": "execute_result"
    }
   ],
   "source": [
    "shapiro = stats.shapiro(delay_air_time_delta.dropna())\n",
    "shapiro"
   ],
   "metadata": {
    "collapsed": false,
    "pycharm": {
     "name": "#%%\n"
    }
   }
  },
  {
   "cell_type": "code",
   "execution_count": 276,
   "outputs": [
    {
     "data": {
      "text/plain": "<AxesSubplot:ylabel='Density'>"
     },
     "execution_count": 276,
     "metadata": {},
     "output_type": "execute_result"
    },
    {
     "data": {
      "text/plain": "<Figure size 432x288 with 1 Axes>",
      "image/png": "[encoded data removed]"
     },
     "metadata": {
      "needs_background": "light"
     },
     "output_type": "display_data"
    }
   ],
   "source": [
    "sns.distplot(delay_air_time_delta)"
   ],
   "metadata": {
    "collapsed": false,
    "pycharm": {
     "name": "#%%\n"
    }
   }
  },
  {
   "cell_type": "code",
   "execution_count": 277,
   "outputs": [
    {
     "data": {
      "text/plain": "ShapiroResult(statistic=0.9841415286064148, pvalue=0.0)"
     },
     "execution_count": 277,
     "metadata": {},
     "output_type": "execute_result"
    }
   ],
   "source": [
    "shapiro = stats.shapiro(reg_air_time_delta.dropna())\n",
    "shapiro"
   ],
   "metadata": {
    "collapsed": false,
    "pycharm": {
     "name": "#%%\n"
    }
   }
  },
  {
   "cell_type": "code",
   "execution_count": 278,
   "outputs": [
    {
     "data": {
      "text/plain": "<AxesSubplot:ylabel='Density'>"
     },
     "execution_count": 278,
     "metadata": {},
     "output_type": "execute_result"
    },
    {
     "data": {
      "text/plain": "<Figure size 432x288 with 1 Axes>",
      "image/png": "[encoded data removed]"
     },
     "metadata": {
      "needs_background": "light"
     },
     "output_type": "display_data"
    }
   ],
   "source": [
    "sns.distplot(reg_air_time_delta)"
   ],
   "metadata": {
    "collapsed": false,
    "pycharm": {
     "name": "#%%\n"
    }
   }
  },
  {
   "cell_type": "code",
   "execution_count": 279,
   "outputs": [
    {
     "name": "stdout",
     "output_type": "stream",
     "text": [
      "stat=-1.410, p=0.158419221596\n",
      "Probably the same distribution\n"
     ]
    }
   ],
   "source": [
    "stat, p = stats.ttest_ind(reg_air_time_delta, delay_air_time_delta)\n",
    "print(f'stat={stat:.3f}, p={p:.12f}')\n",
    "if p > 0.05:\n",
    "    print('Probably the same distribution')\n",
    "else:\n",
    "    print('Probably different distributions')"
   ],
   "metadata": {
    "collapsed": false,
    "pycharm": {
     "name": "#%%\n"
    }
   }
  },
  {
   "cell_type": "code",
   "execution_count": 281,
   "outputs": [
    {
     "name": "stdout",
     "output_type": "stream",
     "text": [
      "delay_air_time_delta: \n",
      "Mean: -6.413436607699629, Median: -7.0, Mode: 0   -9.0\n",
      "dtype: float64\n",
      "reg_air_time_delta: \n",
      "Mean: -6.519470693595207, Median: -7.0, Mode: 0   -9.0\n",
      "dtype: float64\n"
     ]
    }
   ],
   "source": [
    "print(f'delay_air_time_delta: \\nMean: {delay_air_time_delta.mean()}, Median: {delay_air_time_delta.median()}, Mode: {delay_air_time_delta.mode()}')\n",
    "print(f'reg_air_time_delta: \\nMean: {reg_air_time_delta.mean()}, Median: {reg_air_time_delta.median()}, Mode: {reg_air_time_delta.mode()}')"
   ],
   "metadata": {
    "collapsed": false,
    "pycharm": {
     "name": "#%%\n"
    }
   }
  },
  {
   "cell_type": "code",
   "execution_count": 262,
   "outputs": [
    {
     "name": "stdout",
     "output_type": "stream",
     "text": [
      "stat=-0.326, p=0.748\n",
      "Probably the same distribution\n"
     ]
    }
   ],
   "source": [
    "# Example of the Student's t-test\n",
    "from scipy.stats import ttest_ind\n",
    "data1 = [0.873, 2.817, 0.121, -0.945, -0.055, -1.436, 0.360, -1.478, -1.637, -1.869]\n",
    "data2 = [1.142, -0.432, -0.938, -0.729, -0.846, -0.157, 0.500, 1.183, -1.075, -0.169]\n",
    "stat, p = ttest_ind(data1, data2)\n",
    "print('stat=%.3f, p=%.3f' % (stat, p))\n",
    "if p > 0.05:\n",
    "    print('Probably the same distribution')\n",
    "else:\n",
    "    print('Probably different distributions')"
   ],
   "metadata": {
    "collapsed": false,
    "pycharm": {
     "name": "#%%\n"
    }
   }
  },
  {
   "cell_type": "markdown",
   "metadata": {
    "pycharm": {
     "name": "#%% md\n"
    }
   },
   "source": [
    "#### **Task 8**: When (which hour) do most 'LONG', 'SHORT', 'MEDIUM' haul flights take off?"
   ]
  },
  {
   "cell_type": "code",
   "execution_count": 314,
   "metadata": {
    "pycharm": {
     "name": "#%%\n"
    }
   },
   "outputs": [
    {
     "data": {
      "text/plain": "        departures_scheduled  departures_performed    payload    seats  \\\n0                       80.0                  80.0   800000.0   4000.0   \n1                       78.0                  61.0  2239600.0   9089.0   \n2                       82.0                  82.0  1630652.0   6232.0   \n3                       77.0                  87.0  3114600.0  11919.0   \n4                       86.0                  86.0  3791516.0  15394.0   \n...                      ...                   ...        ...      ...   \n117519                  89.0                  87.0  3010200.0  12441.0   \n117520                  91.0                  91.0  3643410.0  14704.0   \n117521                  89.0                  86.0  1852560.0   6536.0   \n117522                  90.0                  90.0  3644500.0  14400.0   \n117523                  88.0                  86.0  2975600.0  12298.0   \n\n        passengers  freight     mail  distance  ramp_to_ramp  air_time  ...  \\\n0           2883.0      0.0      0.0     166.0        4927.0    2786.0  ...   \n1           6440.0    664.0      0.0     978.0        9974.0    8217.0  ...   \n2           4202.0      0.0      0.0    1211.0       16554.0   14456.0  ...   \n3          10010.0  61215.0  78300.0     954.0       15241.0   12025.0  ...   \n4          12586.0   1399.0   2856.0     602.0        8904.0    7000.0  ...   \n...            ...      ...      ...       ...           ...       ...  ...   \n117519     10742.0  22079.0      0.0     680.0       10894.0    8732.0  ...   \n117520     13837.0   2488.0      0.0    1005.0       14559.0   12055.0  ...   \n117521      5755.0      2.0      0.0     573.0       11395.0    8266.0  ...   \n117522     13299.0   1073.0  29167.0    1217.0       19278.0   16611.0  ...   \n117523      9564.0   8015.0      0.0     484.0        7465.0    5783.0  ...   \n\n       dest_country  dest_country_name aircraft_group aircraft_type  \\\n0                US      United States              6           675   \n1                US      United States              6           694   \n2                US      United States              6           673   \n3                US      United States              6           698   \n4                US      United States              6           888   \n...             ...                ...            ...           ...   \n117519           US      United States              6           612   \n117520           US      United States              6           614   \n117521           US      United States              6           638   \n117522           US      United States              6           614   \n117523           US      United States              6           612   \n\n       aircraft_config  year  month  distance_group  class  data_source  \n0                    1  2019      1               1      F           DU  \n1                    1  2019      1               2      F           DU  \n2                    1  2019      1               3      F           DU  \n3                    1  2019      1               2      F           DU  \n4                    1  2019      1               2      F           DU  \n...                ...   ...    ...             ...    ...          ...  \n117519               1  2019     12               2      F           DU  \n117520               1  2019     12               3      F           DU  \n117521               1  2019     12               2      F           DU  \n117522               1  2019     12               3      F           DU  \n117523               1  2019     12               1      F           DU  \n\n[117524 rows x 38 columns]",
      "text/html": "<div>\n<style scoped>\n    .dataframe tbody tr th:only-of-type {\n        vertical-align: middle;\n    }\n\n    .dataframe tbody tr th {\n        vertical-align: top;\n    }\n\n    .dataframe thead th {\n        text-align: right;\n    }\n</style>\n<table border=\"1\" class=\"dataframe\">\n  <thead>\n    <tr style=\"text-align: right;\">\n      <th></th>\n      <th>departures_scheduled</th>\n      <th>departures_performed</th>\n      <th>payload</th>\n      <th>seats</th>\n      <th>passengers</th>\n      <th>freight</th>\n      <th>mail</th>\n      <th>distance</th>\n      <th>ramp_to_ramp</th>\n      <th>air_time</th>\n      <th>...</th>\n      <th>dest_country</th>\n      <th>dest_country_name</th>\n      <th>aircraft_group</th>\n      <th>aircraft_type</th>\n      <th>aircraft_config</th>\n      <th>year</th>\n      <th>month</th>\n      <th>distance_group</th>\n      <th>class</th>\n      <th>data_source</th>\n    </tr>\n  </thead>\n  <tbody>\n    <tr>\n      <th>0</th>\n      <td>80.0</td>\n      <td>80.0</td>\n      <td>800000.0</td>\n      <td>4000.0</td>\n      <td>2883.0</td>\n      <td>0.0</td>\n      <td>0.0</td>\n      <td>166.0</td>\n      <td>4927.0</td>\n      <td>2786.0</td>\n      <td>...</td>\n      <td>US</td>\n      <td>United States</td>\n      <td>6</td>\n      <td>675</td>\n      <td>1</td>\n      <td>2019</td>\n      <td>1</td>\n      <td>1</td>\n      <td>F</td>\n      <td>DU</td>\n    </tr>\n    <tr>\n      <th>1</th>\n      <td>78.0</td>\n      <td>61.0</td>\n      <td>2239600.0</td>\n      <td>9089.0</td>\n      <td>6440.0</td>\n      <td>664.0</td>\n      <td>0.0</td>\n      <td>978.0</td>\n      <td>9974.0</td>\n      <td>8217.0</td>\n      <td>...</td>\n      <td>US</td>\n      <td>United States</td>\n      <td>6</td>\n      <td>694</td>\n      <td>1</td>\n      <td>2019</td>\n      <td>1</td>\n      <td>2</td>\n      <td>F</td>\n      <td>DU</td>\n    </tr>\n    <tr>\n      <th>2</th>\n      <td>82.0</td>\n      <td>82.0</td>\n      <td>1630652.0</td>\n      <td>6232.0</td>\n      <td>4202.0</td>\n      <td>0.0</td>\n      <td>0.0</td>\n      <td>1211.0</td>\n      <td>16554.0</td>\n      <td>14456.0</td>\n      <td>...</td>\n      <td>US</td>\n      <td>United States</td>\n      <td>6</td>\n      <td>673</td>\n      <td>1</td>\n      <td>2019</td>\n      <td>1</td>\n      <td>3</td>\n      <td>F</td>\n      <td>DU</td>\n    </tr>\n    <tr>\n      <th>3</th>\n      <td>77.0</td>\n      <td>87.0</td>\n      <td>3114600.0</td>\n      <td>11919.0</td>\n      <td>10010.0</td>\n      <td>61215.0</td>\n      <td>78300.0</td>\n      <td>954.0</td>\n      <td>15241.0</td>\n      <td>12025.0</td>\n      <td>...</td>\n      <td>US</td>\n      <td>United States</td>\n      <td>6</td>\n      <td>698</td>\n      <td>1</td>\n      <td>2019</td>\n      <td>1</td>\n      <td>2</td>\n      <td>F</td>\n      <td>DU</td>\n    </tr>\n    <tr>\n      <th>4</th>\n      <td>86.0</td>\n      <td>86.0</td>\n      <td>3791516.0</td>\n      <td>15394.0</td>\n      <td>12586.0</td>\n      <td>1399.0</td>\n      <td>2856.0</td>\n      <td>602.0</td>\n      <td>8904.0</td>\n      <td>7000.0</td>\n      <td>...</td>\n      <td>US</td>\n      <td>United States</td>\n      <td>6</td>\n      <td>888</td>\n      <td>1</td>\n      <td>2019</td>\n      <td>1</td>\n      <td>2</td>\n      <td>F</td>\n      <td>DU</td>\n    </tr>\n    <tr>\n      <th>...</th>\n      <td>...</td>\n      <td>...</td>\n      <td>...</td>\n      <td>...</td>\n      <td>...</td>\n      <td>...</td>\n      <td>...</td>\n      <td>...</td>\n      <td>...</td>\n      <td>...</td>\n      <td>...</td>\n      <td>...</td>\n      <td>...</td>\n      <td>...</td>\n      <td>...</td>\n      <td>...</td>\n      <td>...</td>\n      <td>...</td>\n      <td>...</td>\n      <td>...</td>\n      <td>...</td>\n    </tr>\n    <tr>\n      <th>117519</th>\n      <td>89.0</td>\n      <td>87.0</td>\n      <td>3010200.0</td>\n      <td>12441.0</td>\n      <td>10742.0</td>\n      <td>22079.0</td>\n      <td>0.0</td>\n      <td>680.0</td>\n      <td>10894.0</td>\n      <td>8732.0</td>\n      <td>...</td>\n      <td>US</td>\n      <td>United States</td>\n      <td>6</td>\n      <td>612</td>\n      <td>1</td>\n      <td>2019</td>\n      <td>12</td>\n      <td>2</td>\n      <td>F</td>\n      <td>DU</td>\n    </tr>\n    <tr>\n      <th>117520</th>\n      <td>91.0</td>\n      <td>91.0</td>\n      <td>3643410.0</td>\n      <td>14704.0</td>\n      <td>13837.0</td>\n      <td>2488.0</td>\n      <td>0.0</td>\n      <td>1005.0</td>\n      <td>14559.0</td>\n      <td>12055.0</td>\n      <td>...</td>\n      <td>US</td>\n      <td>United States</td>\n      <td>6</td>\n      <td>614</td>\n      <td>1</td>\n      <td>2019</td>\n      <td>12</td>\n      <td>3</td>\n      <td>F</td>\n      <td>DU</td>\n    </tr>\n    <tr>\n      <th>117521</th>\n      <td>89.0</td>\n      <td>86.0</td>\n      <td>1852560.0</td>\n      <td>6536.0</td>\n      <td>5755.0</td>\n      <td>2.0</td>\n      <td>0.0</td>\n      <td>573.0</td>\n      <td>11395.0</td>\n      <td>8266.0</td>\n      <td>...</td>\n      <td>US</td>\n      <td>United States</td>\n      <td>6</td>\n      <td>638</td>\n      <td>1</td>\n      <td>2019</td>\n      <td>12</td>\n      <td>2</td>\n      <td>F</td>\n      <td>DU</td>\n    </tr>\n    <tr>\n      <th>117522</th>\n      <td>90.0</td>\n      <td>90.0</td>\n      <td>3644500.0</td>\n      <td>14400.0</td>\n      <td>13299.0</td>\n      <td>1073.0</td>\n      <td>29167.0</td>\n      <td>1217.0</td>\n      <td>19278.0</td>\n      <td>16611.0</td>\n      <td>...</td>\n      <td>US</td>\n      <td>United States</td>\n      <td>6</td>\n      <td>614</td>\n      <td>1</td>\n      <td>2019</td>\n      <td>12</td>\n      <td>3</td>\n      <td>F</td>\n      <td>DU</td>\n    </tr>\n    <tr>\n      <th>117523</th>\n      <td>88.0</td>\n      <td>86.0</td>\n      <td>2975600.0</td>\n      <td>12298.0</td>\n      <td>9564.0</td>\n      <td>8015.0</td>\n      <td>0.0</td>\n      <td>484.0</td>\n      <td>7465.0</td>\n      <td>5783.0</td>\n      <td>...</td>\n      <td>US</td>\n      <td>United States</td>\n      <td>6</td>\n      <td>612</td>\n      <td>1</td>\n      <td>2019</td>\n      <td>12</td>\n      <td>1</td>\n      <td>F</td>\n      <td>DU</td>\n    </tr>\n  </tbody>\n</table>\n<p>117524 rows × 38 columns</p>\n</div>"
     },
     "execution_count": 314,
     "metadata": {},
     "output_type": "execute_result"
    }
   ],
   "source": [
    "passenger_df.drop('row', axis=1)"
   ]
  },
  {
   "cell_type": "code",
   "execution_count": 315,
   "metadata": {
    "pycharm": {
     "name": "#%%\n"
    }
   },
   "outputs": [
    {
     "data": {
      "text/plain": "      month  airline_id unique_carrier carrier  \\\n0         1         NaN            NaN     0JQ   \n1         1     21352.0            0WQ     0WQ   \n2         1     21645.0            23Q     23Q   \n3         1     21652.0            27Q     27Q   \n4         1     20408.0             5V      5V   \n...     ...         ...            ...     ...   \n3030     12     20377.0             X9      X9   \n3031     12     20207.0             XP      XP   \n3032     12     20378.0             YV      YV   \n3033     12     20452.0             YX      YX   \n3034     12     19393.0             WN      WN   \n\n                                           carrier_name  carrier_group_new  \\\n0                                                   NaN                  1   \n1                                     Avjet Corporation                  1   \n2                                 Songbird Airways Inc.                  1   \n3                    Jet Aviation Flight Services, Inc.                  1   \n4     Tatonduk Outfitters Limited d/b/a Everts Air A...                  1   \n...                                                 ...                ...   \n3030                         Omni Air International LLC                  2   \n3031                                       XTRA Airways                  1   \n3032                                 Mesa Airlines Inc.                  2   \n3033                                   Republic Airline                  2   \n3034                             Southwest Airlines Co.                  3   \n\n      sdomt_gallons  satl_gallons  spac_gallons  slat_gallons  ...  \\\n0               0.0           0.0           0.0           0.0  ...   \n1               0.0           0.0           0.0           0.0  ...   \n2               0.0           0.0           0.0           0.0  ...   \n3               0.0           0.0           0.0           0.0  ...   \n4          260848.0           0.0           0.0           0.0  ...   \n...             ...           ...           ...           ...  ...   \n3030            0.0           0.0           0.0           0.0  ...   \n3031            0.0           0.0           0.0           0.0  ...   \n3032            0.0           0.0           0.0           0.0  ...   \n3033        21048.0           0.0           0.0           0.0  ...   \n3034    173203901.0           0.0           0.0     2440902.0  ...   \n\n       sdomt_cost  satl_cost  spac_cost  slat_cost  sint_cost      ts_cost  \\\n0             0.0        0.0        0.0        0.0        0.0          0.0   \n1             0.0        0.0        0.0        0.0        0.0          0.0   \n2             0.0        0.0        0.0        0.0        0.0          0.0   \n3             0.0        0.0        0.0        0.0        0.0          0.0   \n4        522405.0        0.0        0.0        0.0        0.0     522405.0   \n...           ...        ...        ...        ...        ...          ...   \n3030          0.0        0.0        0.0        0.0        0.0          0.0   \n3031          0.0        0.0        0.0        0.0        0.0          0.0   \n3032          0.0        0.0        0.0        0.0        0.0          0.0   \n3033      50043.0        0.0        0.0        0.0        0.0      50043.0   \n3034  351339537.0        0.0        0.0  5730304.0  5730304.0  357069841.0   \n\n       tdomt_cost  tint_cost   total_cost  year  \n0          5100.0        0.0       5100.0  2016  \n1        396216.0   140239.0     536455.0  2016  \n2             0.0        0.0          0.0  2016  \n3             0.0        0.0          0.0  2016  \n4        569497.0        0.0     569497.0  2016  \n...           ...        ...          ...   ...  \n3030    1584314.0  4588387.0    6172701.0  2018  \n3031          0.0        0.0          0.0  2018  \n3032          0.0        0.0          0.0  2018  \n3033      50043.0        0.0      50043.0  2018  \n3034  351820604.0  5730304.0  357550908.0  2018  \n\n[3035 rows x 25 columns]",
      "text/html": "<div>\n<style scoped>\n    .dataframe tbody tr th:only-of-type {\n        vertical-align: middle;\n    }\n\n    .dataframe tbody tr th {\n        vertical-align: top;\n    }\n\n    .dataframe thead th {\n        text-align: right;\n    }\n</style>\n<table border=\"1\" class=\"dataframe\">\n  <thead>\n    <tr style=\"text-align: right;\">\n      <th></th>\n      <th>month</th>\n      <th>airline_id</th>\n      <th>unique_carrier</th>\n      <th>carrier</th>\n      <th>carrier_name</th>\n      <th>carrier_group_new</th>\n      <th>sdomt_gallons</th>\n      <th>satl_gallons</th>\n      <th>spac_gallons</th>\n      <th>slat_gallons</th>\n      <th>...</th>\n      <th>sdomt_cost</th>\n      <th>satl_cost</th>\n      <th>spac_cost</th>\n      <th>slat_cost</th>\n      <th>sint_cost</th>\n      <th>ts_cost</th>\n      <th>tdomt_cost</th>\n      <th>tint_cost</th>\n      <th>total_cost</th>\n      <th>year</th>\n    </tr>\n  </thead>\n  <tbody>\n    <tr>\n      <th>0</th>\n      <td>1</td>\n      <td>NaN</td>\n      <td>NaN</td>\n      <td>0JQ</td>\n      <td>NaN</td>\n      <td>1</td>\n      <td>0.0</td>\n      <td>0.0</td>\n      <td>0.0</td>\n      <td>0.0</td>\n      <td>...</td>\n      <td>0.0</td>\n      <td>0.0</td>\n      <td>0.0</td>\n      <td>0.0</td>\n      <td>0.0</td>\n      <td>0.0</td>\n      <td>5100.0</td>\n      <td>0.0</td>\n      <td>5100.0</td>\n      <td>2016</td>\n    </tr>\n    <tr>\n      <th>1</th>\n      <td>1</td>\n      <td>21352.0</td>\n      <td>0WQ</td>\n      <td>0WQ</td>\n      <td>Avjet Corporation</td>\n      <td>1</td>\n      <td>0.0</td>\n      <td>0.0</td>\n      <td>0.0</td>\n      <td>0.0</td>\n      <td>...</td>\n      <td>0.0</td>\n      <td>0.0</td>\n      <td>0.0</td>\n      <td>0.0</td>\n      <td>0.0</td>\n      <td>0.0</td>\n      <td>396216.0</td>\n      <td>140239.0</td>\n      <td>536455.0</td>\n      <td>2016</td>\n    </tr>\n    <tr>\n      <th>2</th>\n      <td>1</td>\n      <td>21645.0</td>\n      <td>23Q</td>\n      <td>23Q</td>\n      <td>Songbird Airways Inc.</td>\n      <td>1</td>\n      <td>0.0</td>\n      <td>0.0</td>\n      <td>0.0</td>\n      <td>0.0</td>\n      <td>...</td>\n      <td>0.0</td>\n      <td>0.0</td>\n      <td>0.0</td>\n      <td>0.0</td>\n      <td>0.0</td>\n      <td>0.0</td>\n      <td>0.0</td>\n      <td>0.0</td>\n      <td>0.0</td>\n      <td>2016</td>\n    </tr>\n    <tr>\n      <th>3</th>\n      <td>1</td>\n      <td>21652.0</td>\n      <td>27Q</td>\n      <td>27Q</td>\n      <td>Jet Aviation Flight Services, Inc.</td>\n      <td>1</td>\n      <td>0.0</td>\n      <td>0.0</td>\n      <td>0.0</td>\n      <td>0.0</td>\n      <td>...</td>\n      <td>0.0</td>\n      <td>0.0</td>\n      <td>0.0</td>\n      <td>0.0</td>\n      <td>0.0</td>\n      <td>0.0</td>\n      <td>0.0</td>\n      <td>0.0</td>\n      <td>0.0</td>\n      <td>2016</td>\n    </tr>\n    <tr>\n      <th>4</th>\n      <td>1</td>\n      <td>20408.0</td>\n      <td>5V</td>\n      <td>5V</td>\n      <td>Tatonduk Outfitters Limited d/b/a Everts Air A...</td>\n      <td>1</td>\n      <td>260848.0</td>\n      <td>0.0</td>\n      <td>0.0</td>\n      <td>0.0</td>\n      <td>...</td>\n      <td>522405.0</td>\n      <td>0.0</td>\n      <td>0.0</td>\n      <td>0.0</td>\n      <td>0.0</td>\n      <td>522405.0</td>\n      <td>569497.0</td>\n      <td>0.0</td>\n      <td>569497.0</td>\n      <td>2016</td>\n    </tr>\n    <tr>\n      <th>...</th>\n      <td>...</td>\n      <td>...</td>\n      <td>...</td>\n      <td>...</td>\n      <td>...</td>\n      <td>...</td>\n      <td>...</td>\n      <td>...</td>\n      <td>...</td>\n      <td>...</td>\n      <td>...</td>\n      <td>...</td>\n      <td>...</td>\n      <td>...</td>\n      <td>...</td>\n      <td>...</td>\n      <td>...</td>\n      <td>...</td>\n      <td>...</td>\n      <td>...</td>\n      <td>...</td>\n    </tr>\n    <tr>\n      <th>3030</th>\n      <td>12</td>\n      <td>20377.0</td>\n      <td>X9</td>\n      <td>X9</td>\n      <td>Omni Air International LLC</td>\n      <td>2</td>\n      <td>0.0</td>\n      <td>0.0</td>\n      <td>0.0</td>\n      <td>0.0</td>\n      <td>...</td>\n      <td>0.0</td>\n      <td>0.0</td>\n      <td>0.0</td>\n      <td>0.0</td>\n      <td>0.0</td>\n      <td>0.0</td>\n      <td>1584314.0</td>\n      <td>4588387.0</td>\n      <td>6172701.0</td>\n      <td>2018</td>\n    </tr>\n    <tr>\n      <th>3031</th>\n      <td>12</td>\n      <td>20207.0</td>\n      <td>XP</td>\n      <td>XP</td>\n      <td>XTRA Airways</td>\n      <td>1</td>\n      <td>0.0</td>\n      <td>0.0</td>\n      <td>0.0</td>\n      <td>0.0</td>\n      <td>...</td>\n      <td>0.0</td>\n      <td>0.0</td>\n      <td>0.0</td>\n      <td>0.0</td>\n      <td>0.0</td>\n      <td>0.0</td>\n      <td>0.0</td>\n      <td>0.0</td>\n      <td>0.0</td>\n      <td>2018</td>\n    </tr>\n    <tr>\n      <th>3032</th>\n      <td>12</td>\n      <td>20378.0</td>\n      <td>YV</td>\n      <td>YV</td>\n      <td>Mesa Airlines Inc.</td>\n      <td>2</td>\n      <td>0.0</td>\n      <td>0.0</td>\n      <td>0.0</td>\n      <td>0.0</td>\n      <td>...</td>\n      <td>0.0</td>\n      <td>0.0</td>\n      <td>0.0</td>\n      <td>0.0</td>\n      <td>0.0</td>\n      <td>0.0</td>\n      <td>0.0</td>\n      <td>0.0</td>\n      <td>0.0</td>\n      <td>2018</td>\n    </tr>\n    <tr>\n      <th>3033</th>\n      <td>12</td>\n      <td>20452.0</td>\n      <td>YX</td>\n      <td>YX</td>\n      <td>Republic Airline</td>\n      <td>2</td>\n      <td>21048.0</td>\n      <td>0.0</td>\n      <td>0.0</td>\n      <td>0.0</td>\n      <td>...</td>\n      <td>50043.0</td>\n      <td>0.0</td>\n      <td>0.0</td>\n      <td>0.0</td>\n      <td>0.0</td>\n      <td>50043.0</td>\n      <td>50043.0</td>\n      <td>0.0</td>\n      <td>50043.0</td>\n      <td>2018</td>\n    </tr>\n    <tr>\n      <th>3034</th>\n      <td>12</td>\n      <td>19393.0</td>\n      <td>WN</td>\n      <td>WN</td>\n      <td>Southwest Airlines Co.</td>\n      <td>3</td>\n      <td>173203901.0</td>\n      <td>0.0</td>\n      <td>0.0</td>\n      <td>2440902.0</td>\n      <td>...</td>\n      <td>351339537.0</td>\n      <td>0.0</td>\n      <td>0.0</td>\n      <td>5730304.0</td>\n      <td>5730304.0</td>\n      <td>357069841.0</td>\n      <td>351820604.0</td>\n      <td>5730304.0</td>\n      <td>357550908.0</td>\n      <td>2018</td>\n    </tr>\n  </tbody>\n</table>\n<p>3035 rows × 25 columns</p>\n</div>"
     },
     "execution_count": 315,
     "metadata": {},
     "output_type": "execute_result"
    }
   ],
   "source": [
    "fuel_df"
   ]
  },
  {
   "cell_type": "markdown",
   "metadata": {
    "pycharm": {
     "name": "#%% md\n"
    }
   },
   "source": [
    "#### **Task 9**: Find the top 10 the bussiest airports. Does the biggest number of flights mean that the biggest number of passengers went through the particular airport? How much traffic do these 10 airports cover?"
   ]
  },
  {
   "cell_type": "code",
   "execution_count": 316,
   "metadata": {
    "pycharm": {
     "name": "#%%\n"
    }
   },
   "outputs": [],
   "source": [
    "cover_50pct = jan_flight_cl.shape[0] / 2\n",
    "cover = 0\n",
    "n = 0\n",
    "for coverage in jan_flight_cl['origin_city_name'].value_counts():\n",
    "    if cover <= cover_50pct:\n",
    "        cover += coverage\n",
    "        n += 1\n",
    "    else:\n",
    "        break\n",
    "states = jan_flight_cl['origin_city_name'].value_counts()[:n].index.to_list()"
   ]
  },
  {
   "cell_type": "code",
   "execution_count": 317,
   "metadata": {
    "pycharm": {
     "name": "#%%\n"
    }
   },
   "outputs": [
    {
     "name": "stdout",
     "output_type": "stream",
     "text": [
      "50% of the sample is 50101.5\n",
      "These 17 states cover 51813 flights: ['Chicago, IL', 'Atlanta, GA', 'New York, NY', 'Dallas/Fort Worth, TX', 'Denver, CO', 'Los Angeles, CA', 'Charlotte, NC', 'Houston, TX', 'Washington, DC', 'Phoenix, AZ', 'San Francisco, CA', 'Seattle, WA', 'Detroit, MI', 'Las Vegas, NV', 'Minneapolis, MN', 'Newark, NJ', 'Orlando, FL']\n"
     ]
    }
   ],
   "source": [
    "print(f'50% of the sample is {cover_50pct}')\n",
    "print(f'These {len(states)} states cover {cover} flights: {states}')"
   ]
  },
  {
   "cell_type": "markdown",
   "metadata": {
    "pycharm": {
     "name": "#%% md\n"
    }
   },
   "source": [
    "#### **Task 10**: Do bigger delays lead to bigger fuel comsumption per passenger? \n",
    "We need to do four things to answer this as accurate as possible:\n",
    "- Find out average monthly delay per air carrier (monthly delay is sum of all delays in 1 month)\n",
    "- Find out distance covered monthly by different air carriers\n",
    "- Find out number of passengers that were carried by different air carriers\n",
    "- Find out total fuel comsumption per air carrier.\n",
    "\n",
    "Use this information to get the average fuel comsumption per passenger per km. Is this higher for the airlines with bigger average delays?"
   ]
  },
  {
   "cell_type": "code",
   "execution_count": 349,
   "metadata": {
    "pycharm": {
     "name": "#%%\n"
    }
   },
   "outputs": [],
   "source": [
    "flight_df['month'] = pd.to_numeric(flight_df['fl_date'].str[5:7])"
   ]
  },
  {
   "cell_type": "code",
   "execution_count": 364,
   "metadata": {
    "pycharm": {
     "name": "#%%\n"
    }
   },
   "outputs": [],
   "source": [
    "delays_per_month = flight_df.groupby(['op_unique_carrier', 'month'])[['dep_delay']].sum()"
   ]
  },
  {
   "cell_type": "code",
   "execution_count": 367,
   "outputs": [],
   "source": [
    "distance_per_month = flight_df.groupby(['op_unique_carrier', 'month'])[['distance']].sum()"
   ],
   "metadata": {
    "collapsed": false,
    "pycharm": {
     "name": "#%%\n"
    }
   }
  },
  {
   "cell_type": "code",
   "execution_count": 379,
   "outputs": [],
   "source": [
    "passengers_per_month = passenger_df.groupby(['carrier'])[['passengers']].sum()"
   ],
   "metadata": {
    "collapsed": false,
    "pycharm": {
     "name": "#%%\n"
    }
   }
  },
  {
   "cell_type": "code",
   "execution_count": 382,
   "outputs": [],
   "source": [
    "fuel_consumption = fuel_df.groupby(['unique_carrier'])[['total_gallons']].sum()"
   ],
   "metadata": {
    "collapsed": false,
    "pycharm": {
     "name": "#%%\n"
    }
   }
  },
  {
   "cell_type": "code",
   "execution_count": 390,
   "outputs": [
    {
     "ename": "ValueError",
     "evalue": "left_index parameter must be of type bool, not <class 'str'>",
     "output_type": "error",
     "traceback": [
      "\u001B[0;31m---------------------------------------------------------------------------\u001B[0m",
      "\u001B[0;31mValueError\u001B[0m                                Traceback (most recent call last)",
      "Input \u001B[0;32mIn [390]\u001B[0m, in \u001B[0;36m<cell line: 1>\u001B[0;34m()\u001B[0m\n\u001B[0;32m----> 1\u001B[0m \u001B[43mfuel_consumption\u001B[49m\u001B[38;5;241;43m.\u001B[39;49m\u001B[43mmerge\u001B[49m\u001B[43m(\u001B[49m\u001B[43mpassengers_per_month\u001B[49m\u001B[43m,\u001B[49m\u001B[43m \u001B[49m\u001B[43mleft_index\u001B[49m\u001B[38;5;241;43m=\u001B[39;49m\u001B[38;5;124;43m'\u001B[39;49m\u001B[38;5;124;43munique_carrier\u001B[39;49m\u001B[38;5;124;43m'\u001B[39;49m\u001B[43m,\u001B[49m\u001B[43m \u001B[49m\u001B[43mhow\u001B[49m\u001B[38;5;241;43m=\u001B[39;49m\u001B[38;5;124;43m'\u001B[39;49m\u001B[38;5;124;43mleft\u001B[39;49m\u001B[38;5;124;43m'\u001B[39;49m\u001B[43m)\u001B[49m\n",
      "File \u001B[0;32m/opt/homebrew/Caskroom/miniforge/base/envs/flight_delay_predictions/lib/python3.8/site-packages/pandas/core/frame.py:9345\u001B[0m, in \u001B[0;36mDataFrame.merge\u001B[0;34m(self, right, how, on, left_on, right_on, left_index, right_index, sort, suffixes, copy, indicator, validate)\u001B[0m\n\u001B[1;32m   9326\u001B[0m \u001B[38;5;129m@Substitution\u001B[39m(\u001B[38;5;124m\"\u001B[39m\u001B[38;5;124m\"\u001B[39m)\n\u001B[1;32m   9327\u001B[0m \u001B[38;5;129m@Appender\u001B[39m(_merge_doc, indents\u001B[38;5;241m=\u001B[39m\u001B[38;5;241m2\u001B[39m)\n\u001B[1;32m   9328\u001B[0m \u001B[38;5;28;01mdef\u001B[39;00m \u001B[38;5;21mmerge\u001B[39m(\n\u001B[0;32m   (...)\u001B[0m\n\u001B[1;32m   9341\u001B[0m     validate: \u001B[38;5;28mstr\u001B[39m \u001B[38;5;241m|\u001B[39m \u001B[38;5;28;01mNone\u001B[39;00m \u001B[38;5;241m=\u001B[39m \u001B[38;5;28;01mNone\u001B[39;00m,\n\u001B[1;32m   9342\u001B[0m ) \u001B[38;5;241m-\u001B[39m\u001B[38;5;241m>\u001B[39m DataFrame:\n\u001B[1;32m   9343\u001B[0m     \u001B[38;5;28;01mfrom\u001B[39;00m \u001B[38;5;21;01mpandas\u001B[39;00m\u001B[38;5;21;01m.\u001B[39;00m\u001B[38;5;21;01mcore\u001B[39;00m\u001B[38;5;21;01m.\u001B[39;00m\u001B[38;5;21;01mreshape\u001B[39;00m\u001B[38;5;21;01m.\u001B[39;00m\u001B[38;5;21;01mmerge\u001B[39;00m \u001B[38;5;28;01mimport\u001B[39;00m merge\n\u001B[0;32m-> 9345\u001B[0m     \u001B[38;5;28;01mreturn\u001B[39;00m \u001B[43mmerge\u001B[49m\u001B[43m(\u001B[49m\n\u001B[1;32m   9346\u001B[0m \u001B[43m        \u001B[49m\u001B[38;5;28;43mself\u001B[39;49m\u001B[43m,\u001B[49m\n\u001B[1;32m   9347\u001B[0m \u001B[43m        \u001B[49m\u001B[43mright\u001B[49m\u001B[43m,\u001B[49m\n\u001B[1;32m   9348\u001B[0m \u001B[43m        \u001B[49m\u001B[43mhow\u001B[49m\u001B[38;5;241;43m=\u001B[39;49m\u001B[43mhow\u001B[49m\u001B[43m,\u001B[49m\n\u001B[1;32m   9349\u001B[0m \u001B[43m        \u001B[49m\u001B[43mon\u001B[49m\u001B[38;5;241;43m=\u001B[39;49m\u001B[43mon\u001B[49m\u001B[43m,\u001B[49m\n\u001B[1;32m   9350\u001B[0m \u001B[43m        \u001B[49m\u001B[43mleft_on\u001B[49m\u001B[38;5;241;43m=\u001B[39;49m\u001B[43mleft_on\u001B[49m\u001B[43m,\u001B[49m\n\u001B[1;32m   9351\u001B[0m \u001B[43m        \u001B[49m\u001B[43mright_on\u001B[49m\u001B[38;5;241;43m=\u001B[39;49m\u001B[43mright_on\u001B[49m\u001B[43m,\u001B[49m\n\u001B[1;32m   9352\u001B[0m \u001B[43m        \u001B[49m\u001B[43mleft_index\u001B[49m\u001B[38;5;241;43m=\u001B[39;49m\u001B[43mleft_index\u001B[49m\u001B[43m,\u001B[49m\n\u001B[1;32m   9353\u001B[0m \u001B[43m        \u001B[49m\u001B[43mright_index\u001B[49m\u001B[38;5;241;43m=\u001B[39;49m\u001B[43mright_index\u001B[49m\u001B[43m,\u001B[49m\n\u001B[1;32m   9354\u001B[0m \u001B[43m        \u001B[49m\u001B[43msort\u001B[49m\u001B[38;5;241;43m=\u001B[39;49m\u001B[43msort\u001B[49m\u001B[43m,\u001B[49m\n\u001B[1;32m   9355\u001B[0m \u001B[43m        \u001B[49m\u001B[43msuffixes\u001B[49m\u001B[38;5;241;43m=\u001B[39;49m\u001B[43msuffixes\u001B[49m\u001B[43m,\u001B[49m\n\u001B[1;32m   9356\u001B[0m \u001B[43m        \u001B[49m\u001B[43mcopy\u001B[49m\u001B[38;5;241;43m=\u001B[39;49m\u001B[43mcopy\u001B[49m\u001B[43m,\u001B[49m\n\u001B[1;32m   9357\u001B[0m \u001B[43m        \u001B[49m\u001B[43mindicator\u001B[49m\u001B[38;5;241;43m=\u001B[39;49m\u001B[43mindicator\u001B[49m\u001B[43m,\u001B[49m\n\u001B[1;32m   9358\u001B[0m \u001B[43m        \u001B[49m\u001B[43mvalidate\u001B[49m\u001B[38;5;241;43m=\u001B[39;49m\u001B[43mvalidate\u001B[49m\u001B[43m,\u001B[49m\n\u001B[1;32m   9359\u001B[0m \u001B[43m    \u001B[49m\u001B[43m)\u001B[49m\n",
      "File \u001B[0;32m/opt/homebrew/Caskroom/miniforge/base/envs/flight_delay_predictions/lib/python3.8/site-packages/pandas/core/reshape/merge.py:107\u001B[0m, in \u001B[0;36mmerge\u001B[0;34m(left, right, how, on, left_on, right_on, left_index, right_index, sort, suffixes, copy, indicator, validate)\u001B[0m\n\u001B[1;32m     90\u001B[0m \u001B[38;5;129m@Substitution\u001B[39m(\u001B[38;5;124m\"\u001B[39m\u001B[38;5;130;01m\\n\u001B[39;00m\u001B[38;5;124mleft : DataFrame or named Series\u001B[39m\u001B[38;5;124m\"\u001B[39m)\n\u001B[1;32m     91\u001B[0m \u001B[38;5;129m@Appender\u001B[39m(_merge_doc, indents\u001B[38;5;241m=\u001B[39m\u001B[38;5;241m0\u001B[39m)\n\u001B[1;32m     92\u001B[0m \u001B[38;5;28;01mdef\u001B[39;00m \u001B[38;5;21mmerge\u001B[39m(\n\u001B[0;32m   (...)\u001B[0m\n\u001B[1;32m    105\u001B[0m     validate: \u001B[38;5;28mstr\u001B[39m \u001B[38;5;241m|\u001B[39m \u001B[38;5;28;01mNone\u001B[39;00m \u001B[38;5;241m=\u001B[39m \u001B[38;5;28;01mNone\u001B[39;00m,\n\u001B[1;32m    106\u001B[0m ) \u001B[38;5;241m-\u001B[39m\u001B[38;5;241m>\u001B[39m DataFrame:\n\u001B[0;32m--> 107\u001B[0m     op \u001B[38;5;241m=\u001B[39m \u001B[43m_MergeOperation\u001B[49m\u001B[43m(\u001B[49m\n\u001B[1;32m    108\u001B[0m \u001B[43m        \u001B[49m\u001B[43mleft\u001B[49m\u001B[43m,\u001B[49m\n\u001B[1;32m    109\u001B[0m \u001B[43m        \u001B[49m\u001B[43mright\u001B[49m\u001B[43m,\u001B[49m\n\u001B[1;32m    110\u001B[0m \u001B[43m        \u001B[49m\u001B[43mhow\u001B[49m\u001B[38;5;241;43m=\u001B[39;49m\u001B[43mhow\u001B[49m\u001B[43m,\u001B[49m\n\u001B[1;32m    111\u001B[0m \u001B[43m        \u001B[49m\u001B[43mon\u001B[49m\u001B[38;5;241;43m=\u001B[39;49m\u001B[43mon\u001B[49m\u001B[43m,\u001B[49m\n\u001B[1;32m    112\u001B[0m \u001B[43m        \u001B[49m\u001B[43mleft_on\u001B[49m\u001B[38;5;241;43m=\u001B[39;49m\u001B[43mleft_on\u001B[49m\u001B[43m,\u001B[49m\n\u001B[1;32m    113\u001B[0m \u001B[43m        \u001B[49m\u001B[43mright_on\u001B[49m\u001B[38;5;241;43m=\u001B[39;49m\u001B[43mright_on\u001B[49m\u001B[43m,\u001B[49m\n\u001B[1;32m    114\u001B[0m \u001B[43m        \u001B[49m\u001B[43mleft_index\u001B[49m\u001B[38;5;241;43m=\u001B[39;49m\u001B[43mleft_index\u001B[49m\u001B[43m,\u001B[49m\n\u001B[1;32m    115\u001B[0m \u001B[43m        \u001B[49m\u001B[43mright_index\u001B[49m\u001B[38;5;241;43m=\u001B[39;49m\u001B[43mright_index\u001B[49m\u001B[43m,\u001B[49m\n\u001B[1;32m    116\u001B[0m \u001B[43m        \u001B[49m\u001B[43msort\u001B[49m\u001B[38;5;241;43m=\u001B[39;49m\u001B[43msort\u001B[49m\u001B[43m,\u001B[49m\n\u001B[1;32m    117\u001B[0m \u001B[43m        \u001B[49m\u001B[43msuffixes\u001B[49m\u001B[38;5;241;43m=\u001B[39;49m\u001B[43msuffixes\u001B[49m\u001B[43m,\u001B[49m\n\u001B[1;32m    118\u001B[0m \u001B[43m        \u001B[49m\u001B[43mcopy\u001B[49m\u001B[38;5;241;43m=\u001B[39;49m\u001B[43mcopy\u001B[49m\u001B[43m,\u001B[49m\n\u001B[1;32m    119\u001B[0m \u001B[43m        \u001B[49m\u001B[43mindicator\u001B[49m\u001B[38;5;241;43m=\u001B[39;49m\u001B[43mindicator\u001B[49m\u001B[43m,\u001B[49m\n\u001B[1;32m    120\u001B[0m \u001B[43m        \u001B[49m\u001B[43mvalidate\u001B[49m\u001B[38;5;241;43m=\u001B[39;49m\u001B[43mvalidate\u001B[49m\u001B[43m,\u001B[49m\n\u001B[1;32m    121\u001B[0m \u001B[43m    \u001B[49m\u001B[43m)\u001B[49m\n\u001B[1;32m    122\u001B[0m     \u001B[38;5;28;01mreturn\u001B[39;00m op\u001B[38;5;241m.\u001B[39mget_result()\n",
      "File \u001B[0;32m/opt/homebrew/Caskroom/miniforge/base/envs/flight_delay_predictions/lib/python3.8/site-packages/pandas/core/reshape/merge.py:663\u001B[0m, in \u001B[0;36m_MergeOperation.__init__\u001B[0;34m(self, left, right, how, on, left_on, right_on, axis, left_index, right_index, sort, suffixes, copy, indicator, validate)\u001B[0m\n\u001B[1;32m    658\u001B[0m     \u001B[38;5;28;01mraise\u001B[39;00m \u001B[38;5;167;01mValueError\u001B[39;00m(\n\u001B[1;32m    659\u001B[0m         \u001B[38;5;124m\"\u001B[39m\u001B[38;5;124mindicator option can only accept boolean or string arguments\u001B[39m\u001B[38;5;124m\"\u001B[39m\n\u001B[1;32m    660\u001B[0m     )\n\u001B[1;32m    662\u001B[0m \u001B[38;5;28;01mif\u001B[39;00m \u001B[38;5;129;01mnot\u001B[39;00m is_bool(left_index):\n\u001B[0;32m--> 663\u001B[0m     \u001B[38;5;28;01mraise\u001B[39;00m \u001B[38;5;167;01mValueError\u001B[39;00m(\n\u001B[1;32m    664\u001B[0m         \u001B[38;5;124mf\u001B[39m\u001B[38;5;124m\"\u001B[39m\u001B[38;5;124mleft_index parameter must be of type bool, not \u001B[39m\u001B[38;5;132;01m{\u001B[39;00m\u001B[38;5;28mtype\u001B[39m(left_index)\u001B[38;5;132;01m}\u001B[39;00m\u001B[38;5;124m\"\u001B[39m\n\u001B[1;32m    665\u001B[0m     )\n\u001B[1;32m    666\u001B[0m \u001B[38;5;28;01mif\u001B[39;00m \u001B[38;5;129;01mnot\u001B[39;00m is_bool(right_index):\n\u001B[1;32m    667\u001B[0m     \u001B[38;5;28;01mraise\u001B[39;00m \u001B[38;5;167;01mValueError\u001B[39;00m(\n\u001B[1;32m    668\u001B[0m         \u001B[38;5;124mf\u001B[39m\u001B[38;5;124m\"\u001B[39m\u001B[38;5;124mright_index parameter must be of type bool, not \u001B[39m\u001B[38;5;132;01m{\u001B[39;00m\u001B[38;5;28mtype\u001B[39m(right_index)\u001B[38;5;132;01m}\u001B[39;00m\u001B[38;5;124m\"\u001B[39m\n\u001B[1;32m    669\u001B[0m     )\n",
      "\u001B[0;31mValueError\u001B[0m: left_index parameter must be of type bool, not <class 'str'>"
     ]
    }
   ],
   "source": [
    "fuel_consumption.merge(passengers_per_month, left_index='unique_carrier', how='left')"
   ],
   "metadata": {
    "collapsed": false,
    "pycharm": {
     "name": "#%%\n"
    }
   }
  },
  {
   "cell_type": "code",
   "execution_count": null,
   "outputs": [],
   "source": [
    "pas"
   ],
   "metadata": {
    "collapsed": false,
    "pycharm": {
     "name": "#%%\n"
    }
   }
  },
  {
   "cell_type": "markdown",
   "source": [
    "### Extras"
   ],
   "metadata": {
    "collapsed": false,
    "pycharm": {
     "name": "#%% md\n"
    }
   }
  },
  {
   "cell_type": "code",
   "execution_count": null,
   "outputs": [],
   "source": [
    "(jan_flight_cl['actual_elapsed_time'] - jan_flight_cl['crs_elapsed_time'])"
   ],
   "metadata": {
    "collapsed": false,
    "pycharm": {
     "name": "#%%\n"
    }
   }
  }
 ],
 "metadata": {
  "kernelspec": {
   "display_name": "Python 3",
   "language": "python",
   "name": "python3"
  },
  "language_info": {
   "codemirror_mode": {
    "name": "ipython",
    "version": 3
   },
   "file_extension": ".py",
   "mimetype": "text/x-python",
   "name": "python",
   "nbconvert_exporter": "python",
   "pygments_lexer": "ipython3",
   "version": "3.7.6"
  },
  "toc": {
   "base_numbering": 1,
   "nav_menu": {},
   "number_sections": true,
   "sideBar": true,
   "skip_h1_title": false,
   "title_cell": "Table of Contents",
   "title_sidebar": "Contents",
   "toc_cell": false,
   "toc_position": {},
   "toc_section_display": true,
   "toc_window_display": false
  },
  "varInspector": {
   "cols": {
    "lenName": 16,
    "lenType": 16,
    "lenVar": 40
   },
   "kernels_config": {
    "python": {
     "delete_cmd_postfix": "",
     "delete_cmd_prefix": "del ",
     "library": "var_list.py",
     "varRefreshCmd": "print(var_dic_list())"
    },
    "r": {
     "delete_cmd_postfix": ") ",
     "delete_cmd_prefix": "rm(",
     "library": "var_list.r",
     "varRefreshCmd": "cat(var_dic_list()) "
    }
   },
   "types_to_exclude": [
    "module",
    "function",
    "builtin_function_or_method",
    "instance",
    "_Feature"
   ],
   "window_display": false
  }
 },
 "nbformat": 4,
 "nbformat_minor": 4
}