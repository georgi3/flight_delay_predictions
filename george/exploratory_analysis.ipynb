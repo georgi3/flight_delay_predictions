{
 "cells": [
  {
   "cell_type": "markdown",
   "metadata": {
    "pycharm": {
     "name": "#%% md\n"
    }
   },
   "source": [
    "## Exploratory Data Analysis\n",
    "\n",
    "Use this notebook to get familiar with the datasets we have. There is 10 questions we need to answer during the EDA (Exploratory Data Analysis).\n",
    "\n",
    "\n",
    "We shouldn't limit our EDA to these 10 questions. Let's be creative :)."
   ]
  },
  {
   "cell_type": "code",
   "execution_count": 112,
   "metadata": {
    "pycharm": {
     "name": "#%%\n"
    }
   },
   "outputs": [],
   "source": [
    "import pandas as pd\n",
    "import numpy as np\n",
    "import matplotlib.pyplot as plt\n",
    "from scipy import stats\n",
    "import warnings\n",
    "import seaborn as sns\n",
    "import requests\n",
    "from src.config import WEATHER_API_KEY"
   ]
  },
  {
   "cell_type": "code",
   "execution_count": 40,
   "outputs": [],
   "source": [
    "warnings.filterwarnings('ignore')"
   ],
   "metadata": {
    "collapsed": false,
    "pycharm": {
     "name": "#%%\n"
    }
   }
  },
  {
   "cell_type": "code",
   "execution_count": 41,
   "outputs": [],
   "source": [
    "fn_flight = '../data/flight_data.csv'\n",
    "fn_passenger = '../data/passengers_sample.csv'\n",
    "fn_fuel = '../data/fuel_consumption.csv'"
   ],
   "metadata": {
    "collapsed": false,
    "pycharm": {
     "name": "#%%\n"
    }
   }
  },
  {
   "cell_type": "code",
   "execution_count": 42,
   "outputs": [],
   "source": [
    "flight_df = pd.read_csv(fn_flight)\n",
    "passenger_df = pd.read_csv(fn_passenger)\n",
    "fuel_df = pd.read_csv(fn_fuel)"
   ],
   "metadata": {
    "collapsed": false,
    "pycharm": {
     "name": "#%%\n"
    }
   }
  },
  {
   "cell_type": "code",
   "execution_count": 43,
   "outputs": [
    {
     "data": {
      "text/plain": "      fl_date mkt_unique_carrier branded_code_share mkt_carrier  \\\n0  2018-01-01                 UA       UA_CODESHARE          UA   \n1  2018-01-01                 UA       UA_CODESHARE          UA   \n2  2018-01-01                 AA                 AA          AA   \n3  2018-01-01                 AA                 AA          AA   \n4  2018-01-01                 AA                 AA          AA   \n\n   mkt_carrier_fl_num op_unique_carrier tail_num  op_carrier_fl_num  \\\n0                3542                YX   N637RW               3542   \n1                3725                YX   N861RW               3725   \n2                1675                AA   N604AW               1675   \n3                1035                AA   N314PD               1035   \n4                1412                AA   N936NN               1412   \n\n   origin_airport_id origin  ... carrier_delay  weather_delay nas_delay  \\\n0              13495    MSY  ...           0.0            0.0       0.0   \n1              14869    SLC  ...           NaN            NaN       NaN   \n2              11298    DFW  ...          16.0            0.0       0.0   \n3              14679    SAN  ...           NaN            NaN       NaN   \n4              13891    ONT  ...           NaN            NaN       NaN   \n\n  security_delay  late_aircraft_delay  first_dep_time  total_add_gtime  \\\n0            0.0                122.0             NaN              NaN   \n1            NaN                  NaN             NaN              NaN   \n2            0.0                  0.0             NaN              NaN   \n3            NaN                  NaN             NaN              NaN   \n4            NaN                  NaN             NaN              NaN   \n\n   longest_add_gtime  no_name  row  \n0                NaN      NaN  150  \n1                NaN      NaN  300  \n2                NaN      NaN  450  \n3                NaN      NaN  600  \n4                NaN      NaN  750  \n\n[5 rows x 43 columns]",
      "text/html": "<div>\n<style scoped>\n    .dataframe tbody tr th:only-of-type {\n        vertical-align: middle;\n    }\n\n    .dataframe tbody tr th {\n        vertical-align: top;\n    }\n\n    .dataframe thead th {\n        text-align: right;\n    }\n</style>\n<table border=\"1\" class=\"dataframe\">\n  <thead>\n    <tr style=\"text-align: right;\">\n      <th></th>\n      <th>fl_date</th>\n      <th>mkt_unique_carrier</th>\n      <th>branded_code_share</th>\n      <th>mkt_carrier</th>\n      <th>mkt_carrier_fl_num</th>\n      <th>op_unique_carrier</th>\n      <th>tail_num</th>\n      <th>op_carrier_fl_num</th>\n      <th>origin_airport_id</th>\n      <th>origin</th>\n      <th>...</th>\n      <th>carrier_delay</th>\n      <th>weather_delay</th>\n      <th>nas_delay</th>\n      <th>security_delay</th>\n      <th>late_aircraft_delay</th>\n      <th>first_dep_time</th>\n      <th>total_add_gtime</th>\n      <th>longest_add_gtime</th>\n      <th>no_name</th>\n      <th>row</th>\n    </tr>\n  </thead>\n  <tbody>\n    <tr>\n      <th>0</th>\n      <td>2018-01-01</td>\n      <td>UA</td>\n      <td>UA_CODESHARE</td>\n      <td>UA</td>\n      <td>3542</td>\n      <td>YX</td>\n      <td>N637RW</td>\n      <td>3542</td>\n      <td>13495</td>\n      <td>MSY</td>\n      <td>...</td>\n      <td>0.0</td>\n      <td>0.0</td>\n      <td>0.0</td>\n      <td>0.0</td>\n      <td>122.0</td>\n      <td>NaN</td>\n      <td>NaN</td>\n      <td>NaN</td>\n      <td>NaN</td>\n      <td>150</td>\n    </tr>\n    <tr>\n      <th>1</th>\n      <td>2018-01-01</td>\n      <td>UA</td>\n      <td>UA_CODESHARE</td>\n      <td>UA</td>\n      <td>3725</td>\n      <td>YX</td>\n      <td>N861RW</td>\n      <td>3725</td>\n      <td>14869</td>\n      <td>SLC</td>\n      <td>...</td>\n      <td>NaN</td>\n      <td>NaN</td>\n      <td>NaN</td>\n      <td>NaN</td>\n      <td>NaN</td>\n      <td>NaN</td>\n      <td>NaN</td>\n      <td>NaN</td>\n      <td>NaN</td>\n      <td>300</td>\n    </tr>\n    <tr>\n      <th>2</th>\n      <td>2018-01-01</td>\n      <td>AA</td>\n      <td>AA</td>\n      <td>AA</td>\n      <td>1675</td>\n      <td>AA</td>\n      <td>N604AW</td>\n      <td>1675</td>\n      <td>11298</td>\n      <td>DFW</td>\n      <td>...</td>\n      <td>16.0</td>\n      <td>0.0</td>\n      <td>0.0</td>\n      <td>0.0</td>\n      <td>0.0</td>\n      <td>NaN</td>\n      <td>NaN</td>\n      <td>NaN</td>\n      <td>NaN</td>\n      <td>450</td>\n    </tr>\n    <tr>\n      <th>3</th>\n      <td>2018-01-01</td>\n      <td>AA</td>\n      <td>AA</td>\n      <td>AA</td>\n      <td>1035</td>\n      <td>AA</td>\n      <td>N314PD</td>\n      <td>1035</td>\n      <td>14679</td>\n      <td>SAN</td>\n      <td>...</td>\n      <td>NaN</td>\n      <td>NaN</td>\n      <td>NaN</td>\n      <td>NaN</td>\n      <td>NaN</td>\n      <td>NaN</td>\n      <td>NaN</td>\n      <td>NaN</td>\n      <td>NaN</td>\n      <td>600</td>\n    </tr>\n    <tr>\n      <th>4</th>\n      <td>2018-01-01</td>\n      <td>AA</td>\n      <td>AA</td>\n      <td>AA</td>\n      <td>1412</td>\n      <td>AA</td>\n      <td>N936NN</td>\n      <td>1412</td>\n      <td>13891</td>\n      <td>ONT</td>\n      <td>...</td>\n      <td>NaN</td>\n      <td>NaN</td>\n      <td>NaN</td>\n      <td>NaN</td>\n      <td>NaN</td>\n      <td>NaN</td>\n      <td>NaN</td>\n      <td>NaN</td>\n      <td>NaN</td>\n      <td>750</td>\n    </tr>\n  </tbody>\n</table>\n<p>5 rows × 43 columns</p>\n</div>"
     },
     "execution_count": 43,
     "metadata": {},
     "output_type": "execute_result"
    }
   ],
   "source": [
    "flight_df.head()"
   ],
   "metadata": {
    "collapsed": false,
    "pycharm": {
     "name": "#%%\n"
    }
   }
  },
  {
   "cell_type": "code",
   "execution_count": 44,
   "outputs": [
    {
     "name": "stdout",
     "output_type": "stream",
     "text": [
      "<class 'pandas.core.frame.DataFrame'>\n",
      "RangeIndex: 106183 entries, 0 to 106182\n",
      "Data columns (total 43 columns):\n",
      " #   Column               Non-Null Count   Dtype  \n",
      "---  ------               --------------   -----  \n",
      " 0   fl_date              106183 non-null  object \n",
      " 1   mkt_unique_carrier   106183 non-null  object \n",
      " 2   branded_code_share   106183 non-null  object \n",
      " 3   mkt_carrier          106183 non-null  object \n",
      " 4   mkt_carrier_fl_num   106183 non-null  int64  \n",
      " 5   op_unique_carrier    106183 non-null  object \n",
      " 6   tail_num             105844 non-null  object \n",
      " 7   op_carrier_fl_num    106183 non-null  int64  \n",
      " 8   origin_airport_id    106183 non-null  int64  \n",
      " 9   origin               106183 non-null  object \n",
      " 10  origin_city_name     106183 non-null  object \n",
      " 11  dest_airport_id      106183 non-null  int64  \n",
      " 12  dest                 106183 non-null  object \n",
      " 13  dest_city_name       106183 non-null  object \n",
      " 14  crs_dep_time         106183 non-null  int64  \n",
      " 15  dep_time             104522 non-null  float64\n",
      " 16  dep_delay            104488 non-null  float64\n",
      " 17  taxi_out             104436 non-null  float64\n",
      " 18  wheels_off           104436 non-null  float64\n",
      " 19  wheels_on            104380 non-null  float64\n",
      " 20  taxi_in              104380 non-null  float64\n",
      " 21  crs_arr_time         106183 non-null  int64  \n",
      " 22  arr_time             104414 non-null  float64\n",
      " 23  arr_delay            104143 non-null  float64\n",
      " 24  cancelled            106183 non-null  float64\n",
      " 25  cancellation_code    1722 non-null    object \n",
      " 26  diverted             106183 non-null  float64\n",
      " 27  dup                  106183 non-null  object \n",
      " 28  crs_elapsed_time     106183 non-null  float64\n",
      " 29  actual_elapsed_time  104163 non-null  float64\n",
      " 30  air_time             104129 non-null  float64\n",
      " 31  flights              106183 non-null  float64\n",
      " 32  distance             106183 non-null  float64\n",
      " 33  carrier_delay        20312 non-null   float64\n",
      " 34  weather_delay        20312 non-null   float64\n",
      " 35  nas_delay            20312 non-null   float64\n",
      " 36  security_delay       20312 non-null   float64\n",
      " 37  late_aircraft_delay  20312 non-null   float64\n",
      " 38  first_dep_time       747 non-null     float64\n",
      " 39  total_add_gtime      747 non-null     float64\n",
      " 40  longest_add_gtime    747 non-null     float64\n",
      " 41  no_name              0 non-null       float64\n",
      " 42  row                  106183 non-null  int64  \n",
      "dtypes: float64(24), int64(7), object(12)\n",
      "memory usage: 34.8+ MB\n"
     ]
    }
   ],
   "source": [
    "flight_df.info()"
   ],
   "metadata": {
    "collapsed": false,
    "pycharm": {
     "name": "#%%\n"
    }
   }
  },
  {
   "cell_type": "code",
   "execution_count": 45,
   "outputs": [
    {
     "data": {
      "text/plain": "count    104488.000000\nmean         10.839532\nstd          49.058229\nmin        -147.000000\n25%          -6.000000\n50%          -2.000000\n75%           7.000000\nmax        1788.000000\nName: dep_delay, dtype: float64"
     },
     "execution_count": 45,
     "metadata": {},
     "output_type": "execute_result"
    }
   ],
   "source": [
    "# flight_df[flight_df.columns[flight_df.columns != 'object']]\n",
    "num = flight_df.columns[flight_df.dtypes != 'object'].tolist()\n",
    "flight_df['dep_delay'].describe()"
   ],
   "metadata": {
    "collapsed": false,
    "pycharm": {
     "name": "#%%\n"
    }
   }
  },
  {
   "cell_type": "markdown",
   "metadata": {
    "pycharm": {
     "name": "#%% md\n"
    }
   },
   "source": [
    "#### **Task 1**: Test the hypothesis that the delay is from Normal distribution. and that **mean** of the delay is 0. Be careful about the outliers."
   ]
  },
  {
   "cell_type": "code",
   "execution_count": 93,
   "metadata": {
    "pycharm": {
     "name": "#%%\n"
    }
   },
   "outputs": [
    {
     "data": {
      "text/plain": "ShapiroResult(statistic=0.3714328408241272, pvalue=0.0)"
     },
     "execution_count": 93,
     "metadata": {},
     "output_type": "execute_result"
    }
   ],
   "source": [
    "stats.shapiro(flight_df['dep_delay'].dropna())"
   ]
  },
  {
   "cell_type": "code",
   "execution_count": 96,
   "metadata": {
    "pycharm": {
     "name": "#%%\n"
    }
   },
   "outputs": [
    {
     "data": {
      "text/plain": "ShapiroResult(statistic=0.4934779405593872, pvalue=0.0)"
     },
     "execution_count": 96,
     "metadata": {},
     "output_type": "execute_result"
    }
   ],
   "source": [
    "delays = flight_df['dep_delay'][flight_df['dep_delay'] > 0]\n",
    "stats.shapiro(delays)"
   ]
  },
  {
   "cell_type": "code",
   "execution_count": 97,
   "outputs": [
    {
     "data": {
      "text/plain": "ShapiroResult(statistic=0.9852893352508545, pvalue=0.0)"
     },
     "execution_count": 97,
     "metadata": {},
     "output_type": "execute_result"
    }
   ],
   "source": [
    "stats.shapiro(np.log(delays))"
   ],
   "metadata": {
    "collapsed": false,
    "pycharm": {
     "name": "#%%\n"
    }
   }
  },
  {
   "cell_type": "code",
   "execution_count": 98,
   "outputs": [
    {
     "data": {
      "text/plain": "<AxesSubplot:xlabel='dep_delay', ylabel='Density'>"
     },
     "execution_count": 98,
     "metadata": {},
     "output_type": "execute_result"
    },
    {
     "data": {
      "text/plain": "<Figure size 432x288 with 1 Axes>",
      "image/png": "[encoded data removed]"
     },
     "metadata": {
      "needs_background": "light"
     },
     "output_type": "display_data"
    }
   ],
   "source": [
    "sns.distplot(flight_df['dep_delay'].dropna())"
   ],
   "metadata": {
    "collapsed": false,
    "pycharm": {
     "name": "#%%\n"
    }
   }
  },
  {
   "cell_type": "code",
   "execution_count": 99,
   "outputs": [
    {
     "data": {
      "text/plain": "<AxesSubplot:xlabel='dep_delay', ylabel='Density'>"
     },
     "execution_count": 99,
     "metadata": {},
     "output_type": "execute_result"
    },
    {
     "data": {
      "text/plain": "<Figure size 432x288 with 1 Axes>",
      "image/png": "[encoded data removed]"
     },
     "metadata": {
      "needs_background": "light"
     },
     "output_type": "display_data"
    }
   ],
   "source": [
    "sns.distplot(np.log(delays))"
   ],
   "metadata": {
    "collapsed": false,
    "pycharm": {
     "name": "#%%\n"
    }
   }
  },
  {
   "cell_type": "markdown",
   "metadata": {
    "pycharm": {
     "name": "#%% md\n"
    }
   },
   "source": [
    "#### **Task 2**: Is average/median monthly delay different during the year? If yes, which are months with the biggest delays and what could be the reason?"
   ]
  },
  {
   "cell_type": "code",
   "execution_count": 110,
   "metadata": {
    "pycharm": {
     "name": "#%%\n"
    }
   },
   "outputs": [
    {
     "data": {
      "text/plain": "       dep_delay\nmonth           \n10      6.859221\n09      7.526791\n03      8.714156\n11      8.808516\n04      8.903935\n01     10.950055\n12     11.634633\n02     12.027834\n05     12.089112\n08     13.668966\n07     13.782820\n06     14.776298",
      "text/html": "<div>\n<style scoped>\n    .dataframe tbody tr th:only-of-type {\n        vertical-align: middle;\n    }\n\n    .dataframe tbody tr th {\n        vertical-align: top;\n    }\n\n    .dataframe thead th {\n        text-align: right;\n    }\n</style>\n<table border=\"1\" class=\"dataframe\">\n  <thead>\n    <tr style=\"text-align: right;\">\n      <th></th>\n      <th>dep_delay</th>\n    </tr>\n    <tr>\n      <th>month</th>\n      <th></th>\n    </tr>\n  </thead>\n  <tbody>\n    <tr>\n      <th>10</th>\n      <td>6.859221</td>\n    </tr>\n    <tr>\n      <th>09</th>\n      <td>7.526791</td>\n    </tr>\n    <tr>\n      <th>03</th>\n      <td>8.714156</td>\n    </tr>\n    <tr>\n      <th>11</th>\n      <td>8.808516</td>\n    </tr>\n    <tr>\n      <th>04</th>\n      <td>8.903935</td>\n    </tr>\n    <tr>\n      <th>01</th>\n      <td>10.950055</td>\n    </tr>\n    <tr>\n      <th>12</th>\n      <td>11.634633</td>\n    </tr>\n    <tr>\n      <th>02</th>\n      <td>12.027834</td>\n    </tr>\n    <tr>\n      <th>05</th>\n      <td>12.089112</td>\n    </tr>\n    <tr>\n      <th>08</th>\n      <td>13.668966</td>\n    </tr>\n    <tr>\n      <th>07</th>\n      <td>13.782820</td>\n    </tr>\n    <tr>\n      <th>06</th>\n      <td>14.776298</td>\n    </tr>\n  </tbody>\n</table>\n</div>"
     },
     "execution_count": 110,
     "metadata": {},
     "output_type": "execute_result"
    }
   ],
   "source": [
    "flight_df['month'] = flight_df['fl_date'].str[5:-3]\n",
    "flight_df[['month', 'dep_delay']].groupby(['month']).mean().sort_values('dep_delay')"
   ]
  },
  {
   "cell_type": "markdown",
   "metadata": {
    "pycharm": {
     "name": "#%% md\n"
    }
   },
   "source": [
    "#### **Task 3**: Does the weather affect the delay? \n",
    "Use the API to pull the weather information for flights. There is no need to get weather for ALL flights. We can choose the right representative sample. Let's focus on four weather types:\n",
    "- sunny\n",
    "- cloudy\n",
    "- rainy\n",
    "- snow.\n",
    "Test the hypothesis that these 4 delays are from the same distribution. If they are not, which ones are significantly different?"
   ]
  },
  {
   "cell_type": "code",
   "execution_count": 141,
   "outputs": [],
   "source": [],
   "metadata": {
    "collapsed": false,
    "pycharm": {
     "name": "#%%\n"
    }
   }
  },
  {
   "cell_type": "code",
   "execution_count": 151,
   "outputs": [],
   "source": [
    "def get_request(url, headers=None, params=None):\n",
    "    headers = headers if headers else {}\n",
    "    params = params if params else {}\n",
    "    return requests.get(url=url, params=params, headers=headers)"
   ],
   "metadata": {
    "collapsed": false,
    "pycharm": {
     "name": "#%%\n"
    }
   }
  },
  {
   "cell_type": "code",
   "execution_count": 152,
   "metadata": {
    "pycharm": {
     "name": "#%%\n"
    }
   },
   "outputs": [],
   "source": [
    "headers = {\n",
    "\n",
    "}\n",
    "params = {\n",
    "    'q': 'Phoenix,AZ',  # location e.g. q=New+york,ny\n",
    "    'date': '2018-01-02',  # date format yyyy-MM-dd\n",
    "    'format': 'json',\n",
    "    'key': WEATHER_API_KEY\n",
    "\n",
    "}\n",
    "url = 'https://api.worldweatheronline.com/premium/v1/past-weather.ashx'"
   ]
  },
  {
   "cell_type": "code",
   "execution_count": 153,
   "outputs": [],
   "source": [
    "res = get_request(url, headers, params)"
   ],
   "metadata": {
    "collapsed": false,
    "pycharm": {
     "name": "#%%\n"
    }
   }
  },
  {
   "cell_type": "code",
   "execution_count": 156,
   "outputs": [],
   "source": [
    "def get_weather(url, headers, params):\n",
    "    pois = ['windspeedKmph', 'visibility', 'cloudcover', 'precipMM', 'totalSnow_cm']\n",
    "    request = get_request(url, headers, params)\n",
    "    if not request:\n",
    "        return 'Unsuccessful request'\n",
    "    data = request.json().get('data', {}).get('weather', [dict()])[0].get('hourly', [])\n",
    "    return [{k:weather.get(k, None) for k in pois} for weather in data]"
   ],
   "metadata": {
    "collapsed": false,
    "pycharm": {
     "name": "#%%\n"
    }
   }
  },
  {
   "cell_type": "code",
   "execution_count": 157,
   "metadata": {
    "pycharm": {
     "name": "#%%\n"
    }
   },
   "outputs": [
    {
     "data": {
      "text/plain": "[{'windspeedKmph': '2',\n  'visibility': '10',\n  'cloudcover': '12',\n  'precipMM': '0.0',\n  'totalSnow_cm': None},\n {'windspeedKmph': '2',\n  'visibility': '10',\n  'cloudcover': '32',\n  'precipMM': '0.0',\n  'totalSnow_cm': None},\n {'windspeedKmph': '10',\n  'visibility': '10',\n  'cloudcover': '100',\n  'precipMM': '0.0',\n  'totalSnow_cm': None},\n {'windspeedKmph': '5',\n  'visibility': '10',\n  'cloudcover': '99',\n  'precipMM': '0.0',\n  'totalSnow_cm': None},\n {'windspeedKmph': '7',\n  'visibility': '10',\n  'cloudcover': '87',\n  'precipMM': '0.0',\n  'totalSnow_cm': None},\n {'windspeedKmph': '4',\n  'visibility': '10',\n  'cloudcover': '22',\n  'precipMM': '0.0',\n  'totalSnow_cm': None},\n {'windspeedKmph': '3',\n  'visibility': '10',\n  'cloudcover': '20',\n  'precipMM': '0.0',\n  'totalSnow_cm': None},\n {'windspeedKmph': '8',\n  'visibility': '10',\n  'cloudcover': '12',\n  'precipMM': '0.0',\n  'totalSnow_cm': None}]"
     },
     "execution_count": 157,
     "metadata": {},
     "output_type": "execute_result"
    }
   ],
   "source": [
    "# look into sunny, cloudy, rainy, snow, visibility, (weatherCode????)\n",
    "get_weather(url, headers, params)\n",
    "# TODO: ADD TIME "
   ]
  },
  {
   "cell_type": "markdown",
   "metadata": {
    "pycharm": {
     "name": "#%% md\n"
    }
   },
   "source": [
    "#### **Task 4**: How taxi times changing during the day? Does higher traffic lead to bigger taxi times?"
   ]
  },
  {
   "cell_type": "code",
   "execution_count": null,
   "metadata": {
    "pycharm": {
     "name": "#%%\n"
    }
   },
   "outputs": [],
   "source": []
  },
  {
   "cell_type": "code",
   "execution_count": null,
   "metadata": {
    "pycharm": {
     "name": "#%%\n"
    }
   },
   "outputs": [],
   "source": []
  },
  {
   "cell_type": "markdown",
   "metadata": {
    "pycharm": {
     "name": "#%% md\n"
    }
   },
   "source": [
    "#### **Task 5**: What is the average percentage of delays that is already created before departure? (aka are arrival delays caused by departure delays?) Are airlines able to lower the delay during the flights?"
   ]
  },
  {
   "cell_type": "code",
   "execution_count": null,
   "metadata": {
    "pycharm": {
     "name": "#%%\n"
    }
   },
   "outputs": [],
   "source": []
  },
  {
   "cell_type": "code",
   "execution_count": null,
   "metadata": {
    "pycharm": {
     "name": "#%%\n"
    }
   },
   "outputs": [],
   "source": []
  },
  {
   "cell_type": "markdown",
   "metadata": {
    "pycharm": {
     "name": "#%% md\n"
    }
   },
   "source": [
    "#### **Task 6**: How many states cover 50% of US air traffic? "
   ]
  },
  {
   "cell_type": "code",
   "execution_count": null,
   "metadata": {
    "pycharm": {
     "name": "#%%\n"
    }
   },
   "outputs": [],
   "source": []
  },
  {
   "cell_type": "code",
   "execution_count": null,
   "metadata": {
    "pycharm": {
     "name": "#%%\n"
    }
   },
   "outputs": [],
   "source": []
  },
  {
   "cell_type": "markdown",
   "metadata": {
    "pycharm": {
     "name": "#%% md\n"
    }
   },
   "source": [
    "#### **Task 7**: Test the hypothesis whether planes fly faster when there is the departure delay? "
   ]
  },
  {
   "cell_type": "code",
   "execution_count": null,
   "metadata": {
    "pycharm": {
     "name": "#%%\n"
    }
   },
   "outputs": [],
   "source": []
  },
  {
   "cell_type": "code",
   "execution_count": null,
   "metadata": {
    "pycharm": {
     "name": "#%%\n"
    }
   },
   "outputs": [],
   "source": []
  },
  {
   "cell_type": "markdown",
   "metadata": {
    "pycharm": {
     "name": "#%% md\n"
    }
   },
   "source": [
    "#### **Task 8**: When (which hour) do most 'LONG', 'SHORT', 'MEDIUM' haul flights take off?"
   ]
  },
  {
   "cell_type": "code",
   "execution_count": null,
   "metadata": {
    "pycharm": {
     "name": "#%%\n"
    }
   },
   "outputs": [],
   "source": []
  },
  {
   "cell_type": "code",
   "execution_count": null,
   "metadata": {
    "pycharm": {
     "name": "#%%\n"
    }
   },
   "outputs": [],
   "source": []
  },
  {
   "cell_type": "markdown",
   "metadata": {
    "pycharm": {
     "name": "#%% md\n"
    }
   },
   "source": [
    "#### **Task 9**: Find the top 10 the bussiest airports. Does the biggest number of flights mean that the biggest number of passengers went through the particular airport? How much traffic do these 10 airports cover?"
   ]
  },
  {
   "cell_type": "code",
   "execution_count": null,
   "metadata": {
    "pycharm": {
     "name": "#%%\n"
    }
   },
   "outputs": [],
   "source": []
  },
  {
   "cell_type": "code",
   "execution_count": null,
   "metadata": {
    "pycharm": {
     "name": "#%%\n"
    }
   },
   "outputs": [],
   "source": []
  },
  {
   "cell_type": "markdown",
   "metadata": {
    "pycharm": {
     "name": "#%% md\n"
    }
   },
   "source": [
    "#### **Task 10**: Do bigger delays lead to bigger fuel comsumption per passenger? \n",
    "We need to do four things to answer this as accurate as possible:\n",
    "- Find out average monthly delay per air carrier (monthly delay is sum of all delays in 1 month)\n",
    "- Find out distance covered monthly by different air carriers\n",
    "- Find out number of passengers that were carried by different air carriers\n",
    "- Find out total fuel comsumption per air carrier.\n",
    "\n",
    "Use this information to get the average fuel comsumption per passenger per km. Is this higher for the airlines with bigger average delays?"
   ]
  },
  {
   "cell_type": "code",
   "execution_count": null,
   "metadata": {
    "pycharm": {
     "name": "#%%\n"
    }
   },
   "outputs": [],
   "source": []
  },
  {
   "cell_type": "code",
   "execution_count": null,
   "metadata": {
    "pycharm": {
     "name": "#%%\n"
    }
   },
   "outputs": [],
   "source": []
  }
 ],
 "metadata": {
  "kernelspec": {
   "display_name": "Python 3",
   "language": "python",
   "name": "python3"
  },
  "language_info": {
   "codemirror_mode": {
    "name": "ipython",
    "version": 3
   },
   "file_extension": ".py",
   "mimetype": "text/x-python",
   "name": "python",
   "nbconvert_exporter": "python",
   "pygments_lexer": "ipython3",
   "version": "3.7.6"
  },
  "toc": {
   "base_numbering": 1,
   "nav_menu": {},
   "number_sections": true,
   "sideBar": true,
   "skip_h1_title": false,
   "title_cell": "Table of Contents",
   "title_sidebar": "Contents",
   "toc_cell": false,
   "toc_position": {},
   "toc_section_display": true,
   "toc_window_display": false
  },
  "varInspector": {
   "cols": {
    "lenName": 16,
    "lenType": 16,
    "lenVar": 40
   },
   "kernels_config": {
    "python": {
     "delete_cmd_postfix": "",
     "delete_cmd_prefix": "del ",
     "library": "var_list.py",
     "varRefreshCmd": "print(var_dic_list())"
    },
    "r": {
     "delete_cmd_postfix": ") ",
     "delete_cmd_prefix": "rm(",
     "library": "var_list.r",
     "varRefreshCmd": "cat(var_dic_list()) "
    }
   },
   "types_to_exclude": [
    "module",
    "function",
    "builtin_function_or_method",
    "instance",
    "_Feature"
   ],
   "window_display": false
  }
 },
 "nbformat": 4,
 "nbformat_minor": 4
}