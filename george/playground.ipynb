{
 "cells": [
  {
   "cell_type": "code",
   "execution_count": 19,
   "outputs": [],
   "source": [
    "import json\n",
    "from pandas.io.json import json_normalize\n",
    "import pandas as pd\n",
    "import numpy as np\n",
    "import sqlite3\n",
    "import psycopg2\n",
    "import os\n",
    "from src.config import DATABASE, USER, PASSWORD, HOST, PORT"
   ],
   "metadata": {
    "collapsed": false,
    "pycharm": {
     "name": "#%%\n"
    }
   }
  },
  {
   "cell_type": "code",
   "execution_count": 62,
   "outputs": [],
   "source": [
    "fname = '../data/january_weather.json'"
   ],
   "metadata": {
    "collapsed": false,
    "pycharm": {
     "name": "#%%\n"
    }
   }
  },
  {
   "cell_type": "code",
   "execution_count": 63,
   "outputs": [],
   "source": [
    "with open(fname, 'r') as f:\n",
    "    file = json.load(f)"
   ],
   "metadata": {
    "collapsed": false,
    "pycharm": {
     "name": "#%%\n"
    }
   }
  },
  {
   "cell_type": "code",
   "execution_count": 64,
   "outputs": [
    {
     "data": {
      "text/plain": "[{'1': {'00:00': {'windspeedKmph': '19',\n    'visibility': '10',\n    'cloudcover': '52',\n    'precipMM': '0.0',\n    'totalSnow_cm': '0.0'},\n   '12:00': {'windspeedKmph': '12',\n    'visibility': '10',\n    'cloudcover': '40',\n    'precipMM': '0.0',\n    'totalSnow_cm': '0.0'}}},\n {'2': {'00:00': {'windspeedKmph': '11',\n    'visibility': '10',\n    'cloudcover': '8',\n    'precipMM': '0.0',\n    'totalSnow_cm': '0.0'},\n   '12:00': {'windspeedKmph': '8',\n    'visibility': '10',\n    'cloudcover': '94',\n    'precipMM': '0.0',\n    'totalSnow_cm': '0.0'}}},\n {'3': {'00:00': {'windspeedKmph': '6',\n    'visibility': '10',\n    'cloudcover': '0',\n    'precipMM': '0.0',\n    'totalSnow_cm': '0.0'},\n   '12:00': {'windspeedKmph': '13',\n    'visibility': '10',\n    'cloudcover': '2',\n    'precipMM': '0.0',\n    'totalSnow_cm': '0.0'}}},\n {'4': {'00:00': {'windspeedKmph': '5',\n    'visibility': '10',\n    'cloudcover': '11',\n    'precipMM': '0.0',\n    'totalSnow_cm': '0.0'},\n   '12:00': {'windspeedKmph': '7',\n    'visibility': '10',\n    'cloudcover': '42',\n    'precipMM': '0.0',\n    'totalSnow_cm': '0.0'}}},\n {'5': {'00:00': {'windspeedKmph': '10',\n    'visibility': '10',\n    'cloudcover': '77',\n    'precipMM': '0.0',\n    'totalSnow_cm': '0.0'},\n   '12:00': {'windspeedKmph': '11',\n    'visibility': '10',\n    'cloudcover': '0',\n    'precipMM': '0.0',\n    'totalSnow_cm': '0.0'}}},\n {'6': {'00:00': {'windspeedKmph': '12',\n    'visibility': '10',\n    'cloudcover': '6',\n    'precipMM': '0.0',\n    'totalSnow_cm': '0.0'},\n   '12:00': {'windspeedKmph': '9',\n    'visibility': '10',\n    'cloudcover': '15',\n    'precipMM': '0.0',\n    'totalSnow_cm': '0.0'}}},\n {'7': {'00:00': {'windspeedKmph': '24',\n    'visibility': '10',\n    'cloudcover': '61',\n    'precipMM': '0.0',\n    'totalSnow_cm': '0.0'},\n   '12:00': {'windspeedKmph': '19',\n    'visibility': '2',\n    'cloudcover': '100',\n    'precipMM': '0.3',\n    'totalSnow_cm': '0.0'}}},\n {'8': {'00:00': {'windspeedKmph': '25',\n    'visibility': '9',\n    'cloudcover': '3',\n    'precipMM': '2.1',\n    'totalSnow_cm': '0.0'},\n   '12:00': {'windspeedKmph': '11',\n    'visibility': '10',\n    'cloudcover': '0',\n    'precipMM': '0.0',\n    'totalSnow_cm': '0.0'}}},\n {'9': {'00:00': {'windspeedKmph': '6',\n    'visibility': '10',\n    'cloudcover': '8',\n    'precipMM': '0.0',\n    'totalSnow_cm': '0.0'},\n   '12:00': {'windspeedKmph': '9',\n    'visibility': '10',\n    'cloudcover': '33',\n    'precipMM': '0.0',\n    'totalSnow_cm': '0.0'}}},\n {'10': {'00:00': {'windspeedKmph': '19',\n    'visibility': '10',\n    'cloudcover': '44',\n    'precipMM': '0.0',\n    'totalSnow_cm': '0.0'},\n   '12:00': {'windspeedKmph': '27',\n    'visibility': '10',\n    'cloudcover': '23',\n    'precipMM': '0.0',\n    'totalSnow_cm': '0.0'}}},\n {'11': {'00:00': {'windspeedKmph': '30',\n    'visibility': '10',\n    'cloudcover': '89',\n    'precipMM': '0.0',\n    'totalSnow_cm': '0.0'},\n   '12:00': {'windspeedKmph': '38',\n    'visibility': '10',\n    'cloudcover': '47',\n    'precipMM': '0.0',\n    'totalSnow_cm': '0.0'}}},\n {'12': {'00:00': {'windspeedKmph': '33',\n    'visibility': '10',\n    'cloudcover': '0',\n    'precipMM': '0.0',\n    'totalSnow_cm': '0.0'},\n   '12:00': {'windspeedKmph': '13',\n    'visibility': '10',\n    'cloudcover': '0',\n    'precipMM': '0.0',\n    'totalSnow_cm': '0.0'}}},\n {'13': {'00:00': {'windspeedKmph': '9',\n    'visibility': '10',\n    'cloudcover': '5',\n    'precipMM': '0.0',\n    'totalSnow_cm': '0.0'},\n   '12:00': {'windspeedKmph': '8',\n    'visibility': '10',\n    'cloudcover': '4',\n    'precipMM': '0.0',\n    'totalSnow_cm': '0.0'}}},\n {'14': {'00:00': {'windspeedKmph': '13',\n    'visibility': '10',\n    'cloudcover': '13',\n    'precipMM': '0.0',\n    'totalSnow_cm': '0.0'},\n   '12:00': {'windspeedKmph': '13',\n    'visibility': '10',\n    'cloudcover': '6',\n    'precipMM': '0.0',\n    'totalSnow_cm': '0.0'}}},\n {'15': {'00:00': {'windspeedKmph': '13',\n    'visibility': '10',\n    'cloudcover': '0',\n    'precipMM': '0.0',\n    'totalSnow_cm': '0.4'},\n   '12:00': {'windspeedKmph': '10',\n    'visibility': '10',\n    'cloudcover': '24',\n    'precipMM': '0.0',\n    'totalSnow_cm': '0.4'}}},\n {'16': {'00:00': {'windspeedKmph': '32',\n    'visibility': '0',\n    'cloudcover': '81',\n    'precipMM': '1.1',\n    'totalSnow_cm': '0.0'},\n   '12:00': {'windspeedKmph': '19',\n    'visibility': '10',\n    'cloudcover': '0',\n    'precipMM': '0.0',\n    'totalSnow_cm': '0.0'}}},\n {'17': {'00:00': {'windspeedKmph': '10',\n    'visibility': '10',\n    'cloudcover': '0',\n    'precipMM': '0.0',\n    'totalSnow_cm': '0.0'},\n   '12:00': {'windspeedKmph': '5',\n    'visibility': '10',\n    'cloudcover': '0',\n    'precipMM': '0.0',\n    'totalSnow_cm': '0.0'}}},\n {'18': {'00:00': {'windspeedKmph': '11',\n    'visibility': '10',\n    'cloudcover': '0',\n    'precipMM': '0.0',\n    'totalSnow_cm': '0.0'},\n   '12:00': {'windspeedKmph': '10',\n    'visibility': '10',\n    'cloudcover': '8',\n    'precipMM': '0.0',\n    'totalSnow_cm': '0.0'}}},\n {'19': {'00:00': {'windspeedKmph': '18',\n    'visibility': '10',\n    'cloudcover': '0',\n    'precipMM': '0.0',\n    'totalSnow_cm': '0.0'},\n   '12:00': {'windspeedKmph': '20',\n    'visibility': '10',\n    'cloudcover': '31',\n    'precipMM': '0.0',\n    'totalSnow_cm': '0.0'}}},\n {'20': {'00:00': {'windspeedKmph': '19',\n    'visibility': '10',\n    'cloudcover': '90',\n    'precipMM': '0.1',\n    'totalSnow_cm': '0.0'},\n   '12:00': {'windspeedKmph': '24',\n    'visibility': '10',\n    'cloudcover': '0',\n    'precipMM': '0.0',\n    'totalSnow_cm': '0.0'}}},\n {'21': {'00:00': {'windspeedKmph': '25',\n    'visibility': '10',\n    'cloudcover': '74',\n    'precipMM': '0.0',\n    'totalSnow_cm': '0.0'},\n   '12:00': {'windspeedKmph': '18',\n    'visibility': '10',\n    'cloudcover': '100',\n    'precipMM': '0.3',\n    'totalSnow_cm': '0.0'}}},\n {'22': {'00:00': {'windspeedKmph': '19',\n    'visibility': '9',\n    'cloudcover': '5',\n    'precipMM': '1.1',\n    'totalSnow_cm': '0.0'},\n   '12:00': {'windspeedKmph': '32',\n    'visibility': '10',\n    'cloudcover': '0',\n    'precipMM': '0.0',\n    'totalSnow_cm': '0.0'}}},\n {'23': {'00:00': {'windspeedKmph': '13',\n    'visibility': '10',\n    'cloudcover': '18',\n    'precipMM': '0.0',\n    'totalSnow_cm': '0.0'},\n   '12:00': {'windspeedKmph': '6',\n    'visibility': '10',\n    'cloudcover': '6',\n    'precipMM': '0.0',\n    'totalSnow_cm': '0.0'}}},\n {'24': {'00:00': {'windspeedKmph': '5',\n    'visibility': '10',\n    'cloudcover': '11',\n    'precipMM': '0.0',\n    'totalSnow_cm': '0.0'},\n   '12:00': {'windspeedKmph': '4',\n    'visibility': '10',\n    'cloudcover': '0',\n    'precipMM': '0.0',\n    'totalSnow_cm': '0.0'}}},\n {'25': {'00:00': {'windspeedKmph': '14',\n    'visibility': '10',\n    'cloudcover': '0',\n    'precipMM': '0.0',\n    'totalSnow_cm': '0.0'},\n   '12:00': {'windspeedKmph': '19',\n    'visibility': '10',\n    'cloudcover': '2',\n    'precipMM': '0.0',\n    'totalSnow_cm': '0.0'}}},\n {'26': {'00:00': {'windspeedKmph': '21',\n    'visibility': '10',\n    'cloudcover': '45',\n    'precipMM': '0.0',\n    'totalSnow_cm': '0.0'},\n   '12:00': {'windspeedKmph': '20',\n    'visibility': '10',\n    'cloudcover': '97',\n    'precipMM': '0.1',\n    'totalSnow_cm': '0.0'}}},\n {'27': {'00:00': {'windspeedKmph': '10',\n    'visibility': '10',\n    'cloudcover': '100',\n    'precipMM': '1.8',\n    'totalSnow_cm': '0.0'},\n   '12:00': {'windspeedKmph': '17',\n    'visibility': '9',\n    'cloudcover': '14',\n    'precipMM': '0.2',\n    'totalSnow_cm': '0.0'}}},\n {'28': {'00:00': {'windspeedKmph': '14',\n    'visibility': '10',\n    'cloudcover': '0',\n    'precipMM': '0.0',\n    'totalSnow_cm': '0.0'},\n   '12:00': {'windspeedKmph': '5',\n    'visibility': '10',\n    'cloudcover': '0',\n    'precipMM': '0.0',\n    'totalSnow_cm': '0.0'}}},\n {'29': {'00:00': {'windspeedKmph': '6',\n    'visibility': '10',\n    'cloudcover': '0',\n    'precipMM': '0.0',\n    'totalSnow_cm': '0.0'},\n   '12:00': {'windspeedKmph': '14',\n    'visibility': '10',\n    'cloudcover': '0',\n    'precipMM': '0.0',\n    'totalSnow_cm': '0.0'}}},\n {'30': {'00:00': {'windspeedKmph': '9',\n    'visibility': '10',\n    'cloudcover': '0',\n    'precipMM': '0.0',\n    'totalSnow_cm': '0.0'},\n   '12:00': {'windspeedKmph': '16',\n    'visibility': '10',\n    'cloudcover': '0',\n    'precipMM': '0.0',\n    'totalSnow_cm': '0.0'}}},\n {'31': {'00:00': {'windspeedKmph': '30',\n    'visibility': '10',\n    'cloudcover': '3',\n    'precipMM': '0.0',\n    'totalSnow_cm': '0.0'},\n   '12:00': {'windspeedKmph': '28',\n    'visibility': '10',\n    'cloudcover': '0',\n    'precipMM': '0.0',\n    'totalSnow_cm': '0.0'}}}]"
     },
     "execution_count": 64,
     "metadata": {},
     "output_type": "execute_result"
    }
   ],
   "source": [
    "# for c in file['cities']:\n",
    "#     print(c.keys())\n",
    "file['cities'][0]['Dallas/Fort Worth, TX']"
   ],
   "metadata": {
    "collapsed": false,
    "pycharm": {
     "name": "#%%\n"
    }
   }
  },
  {
   "cell_type": "code",
   "execution_count": 43,
   "outputs": [
    {
     "name": "stderr",
     "output_type": "stream",
     "text": [
      "/var/folders/7g/cgf84kh50nz2xnzmyw4qqrj40000gn/T/ipykernel_12385/2401823869.py:1: FutureWarning: pandas.io.json.json_normalize is deprecated, use pandas.json_normalize instead.\n",
      "  json_normalize(file['cities'])\n"
     ]
    },
    {
     "data": {
      "text/plain": "                                     New Orleans, LA  \\\n0  [{'1': {'00:00': {'windspeedKmph': '33', 'visi...   \n1                                                NaN   \n2                                                NaN   \n\n                                  Salt Lake City, UT  \\\n0                                                NaN   \n1  [{'1': {'00:00': {'windspeedKmph': '8', 'visib...   \n2                                                NaN   \n\n                               Dallas/Fort Worth, TX  \n0                                                NaN  \n1                                                NaN  \n2  [{'1': {'00:00': {'windspeedKmph': '19', 'visi...  ",
      "text/html": "<div>\n<style scoped>\n    .dataframe tbody tr th:only-of-type {\n        vertical-align: middle;\n    }\n\n    .dataframe tbody tr th {\n        vertical-align: top;\n    }\n\n    .dataframe thead th {\n        text-align: right;\n    }\n</style>\n<table border=\"1\" class=\"dataframe\">\n  <thead>\n    <tr style=\"text-align: right;\">\n      <th></th>\n      <th>New Orleans, LA</th>\n      <th>Salt Lake City, UT</th>\n      <th>Dallas/Fort Worth, TX</th>\n    </tr>\n  </thead>\n  <tbody>\n    <tr>\n      <th>0</th>\n      <td>[{'1': {'00:00': {'windspeedKmph': '33', 'visi...</td>\n      <td>NaN</td>\n      <td>NaN</td>\n    </tr>\n    <tr>\n      <th>1</th>\n      <td>NaN</td>\n      <td>[{'1': {'00:00': {'windspeedKmph': '8', 'visib...</td>\n      <td>NaN</td>\n    </tr>\n    <tr>\n      <th>2</th>\n      <td>NaN</td>\n      <td>NaN</td>\n      <td>[{'1': {'00:00': {'windspeedKmph': '19', 'visi...</td>\n    </tr>\n  </tbody>\n</table>\n</div>"
     },
     "execution_count": 43,
     "metadata": {},
     "output_type": "execute_result"
    }
   ],
   "source": [
    "json_normalize(file['cities'])"
   ],
   "metadata": {
    "collapsed": false,
    "pycharm": {
     "name": "#%%\n"
    }
   }
  },
  {
   "cell_type": "code",
   "execution_count": null,
   "outputs": [],
   "source": [],
   "metadata": {
    "collapsed": false,
    "pycharm": {
     "name": "#%%\n"
    }
   }
  },
  {
   "cell_type": "code",
   "execution_count": 10,
   "outputs": [],
   "source": [
    "fn_flight = '../data/flight_data.csv'\n",
    "fn_passenger = '../data/passengers_sample.csv'\n",
    "fn_fuel = '../data/fuel_consumption.csv'"
   ],
   "metadata": {
    "collapsed": false,
    "pycharm": {
     "name": "#%%\n"
    }
   }
  },
  {
   "cell_type": "code",
   "execution_count": 11,
   "outputs": [],
   "source": [
    "flight_df = pd.read_csv(fn_flight)\n",
    "passenger_df = pd.read_csv(fn_passenger)\n",
    "fuel_df = pd.read_csv(fn_fuel)"
   ],
   "metadata": {
    "collapsed": false,
    "pycharm": {
     "name": "#%%\n"
    }
   }
  },
  {
   "cell_type": "code",
   "execution_count": 12,
   "outputs": [
    {
     "data": {
      "text/plain": "           fl_date mkt_unique_carrier branded_code_share mkt_carrier  \\\n0       2018-01-01                 UA       UA_CODESHARE          UA   \n1       2018-01-01                 UA       UA_CODESHARE          UA   \n2       2018-01-01                 AA                 AA          AA   \n3       2018-01-01                 AA                 AA          AA   \n4       2018-01-01                 AA                 AA          AA   \n...            ...                ...                ...         ...   \n106178  2019-12-31                 AA       AA_CODESHARE          AA   \n106179  2019-12-31                 AA       AA_CODESHARE          AA   \n106180  2019-12-31                 AA       AA_CODESHARE          AA   \n106181  2019-12-31                 AA       AA_CODESHARE          AA   \n106182  2019-12-31                 AA       AA_CODESHARE          AA   \n\n        mkt_carrier_fl_num op_unique_carrier tail_num  op_carrier_fl_num  \\\n0                     3542                YX   N637RW               3542   \n1                     3725                YX   N861RW               3725   \n2                     1675                AA   N604AW               1675   \n3                     1035                AA   N314PD               1035   \n4                     1412                AA   N936NN               1412   \n...                    ...               ...      ...                ...   \n106178                5132                OH   N530EA               5132   \n106179                5301                OH   N228PS               5301   \n106180                4760                PT   N906AE               4760   \n106181                4898                PT   N644AE               4898   \n106182                4058                MQ   N855AE               4058   \n\n        origin_airport_id origin  ... carrier_delay  weather_delay nas_delay  \\\n0                   13495    MSY  ...           0.0            0.0       0.0   \n1                   14869    SLC  ...           NaN            NaN       NaN   \n2                   11298    DFW  ...          16.0            0.0       0.0   \n3                   14679    SAN  ...           NaN            NaN       NaN   \n4                   13891    ONT  ...           NaN            NaN       NaN   \n...                   ...    ...  ...           ...            ...       ...   \n106178              11278    DCA  ...           NaN            NaN       NaN   \n106179              11278    DCA  ...           NaN            NaN       NaN   \n106180              10434    AVP  ...           NaN            NaN       NaN   \n106181              14524    RIC  ...           NaN            NaN       NaN   \n106182              11049    CLL  ...           NaN            NaN       NaN   \n\n       security_delay  late_aircraft_delay  first_dep_time  total_add_gtime  \\\n0                 0.0                122.0             NaN              NaN   \n1                 NaN                  NaN             NaN              NaN   \n2                 0.0                  0.0             NaN              NaN   \n3                 NaN                  NaN             NaN              NaN   \n4                 NaN                  NaN             NaN              NaN   \n...               ...                  ...             ...              ...   \n106178            NaN                  NaN             NaN              NaN   \n106179            NaN                  NaN             NaN              NaN   \n106180            NaN                  NaN             NaN              NaN   \n106181            NaN                  NaN             NaN              NaN   \n106182            NaN                  NaN             NaN              NaN   \n\n        longest_add_gtime  no_name       row  \n0                     NaN      NaN       150  \n1                     NaN      NaN       300  \n2                     NaN      NaN       450  \n3                     NaN      NaN       600  \n4                     NaN      NaN       750  \n...                   ...      ...       ...  \n106178                NaN      NaN  15926850  \n106179                NaN      NaN  15927000  \n106180                NaN      NaN  15927150  \n106181                NaN      NaN  15927300  \n106182                NaN      NaN  15927450  \n\n[106183 rows x 43 columns]",
      "text/html": "<div>\n<style scoped>\n    .dataframe tbody tr th:only-of-type {\n        vertical-align: middle;\n    }\n\n    .dataframe tbody tr th {\n        vertical-align: top;\n    }\n\n    .dataframe thead th {\n        text-align: right;\n    }\n</style>\n<table border=\"1\" class=\"dataframe\">\n  <thead>\n    <tr style=\"text-align: right;\">\n      <th></th>\n      <th>fl_date</th>\n      <th>mkt_unique_carrier</th>\n      <th>branded_code_share</th>\n      <th>mkt_carrier</th>\n      <th>mkt_carrier_fl_num</th>\n      <th>op_unique_carrier</th>\n      <th>tail_num</th>\n      <th>op_carrier_fl_num</th>\n      <th>origin_airport_id</th>\n      <th>origin</th>\n      <th>...</th>\n      <th>carrier_delay</th>\n      <th>weather_delay</th>\n      <th>nas_delay</th>\n      <th>security_delay</th>\n      <th>late_aircraft_delay</th>\n      <th>first_dep_time</th>\n      <th>total_add_gtime</th>\n      <th>longest_add_gtime</th>\n      <th>no_name</th>\n      <th>row</th>\n    </tr>\n  </thead>\n  <tbody>\n    <tr>\n      <th>0</th>\n      <td>2018-01-01</td>\n      <td>UA</td>\n      <td>UA_CODESHARE</td>\n      <td>UA</td>\n      <td>3542</td>\n      <td>YX</td>\n      <td>N637RW</td>\n      <td>3542</td>\n      <td>13495</td>\n      <td>MSY</td>\n      <td>...</td>\n      <td>0.0</td>\n      <td>0.0</td>\n      <td>0.0</td>\n      <td>0.0</td>\n      <td>122.0</td>\n      <td>NaN</td>\n      <td>NaN</td>\n      <td>NaN</td>\n      <td>NaN</td>\n      <td>150</td>\n    </tr>\n    <tr>\n      <th>1</th>\n      <td>2018-01-01</td>\n      <td>UA</td>\n      <td>UA_CODESHARE</td>\n      <td>UA</td>\n      <td>3725</td>\n      <td>YX</td>\n      <td>N861RW</td>\n      <td>3725</td>\n      <td>14869</td>\n      <td>SLC</td>\n      <td>...</td>\n      <td>NaN</td>\n      <td>NaN</td>\n      <td>NaN</td>\n      <td>NaN</td>\n      <td>NaN</td>\n      <td>NaN</td>\n      <td>NaN</td>\n      <td>NaN</td>\n      <td>NaN</td>\n      <td>300</td>\n    </tr>\n    <tr>\n      <th>2</th>\n      <td>2018-01-01</td>\n      <td>AA</td>\n      <td>AA</td>\n      <td>AA</td>\n      <td>1675</td>\n      <td>AA</td>\n      <td>N604AW</td>\n      <td>1675</td>\n      <td>11298</td>\n      <td>DFW</td>\n      <td>...</td>\n      <td>16.0</td>\n      <td>0.0</td>\n      <td>0.0</td>\n      <td>0.0</td>\n      <td>0.0</td>\n      <td>NaN</td>\n      <td>NaN</td>\n      <td>NaN</td>\n      <td>NaN</td>\n      <td>450</td>\n    </tr>\n    <tr>\n      <th>3</th>\n      <td>2018-01-01</td>\n      <td>AA</td>\n      <td>AA</td>\n      <td>AA</td>\n      <td>1035</td>\n      <td>AA</td>\n      <td>N314PD</td>\n      <td>1035</td>\n      <td>14679</td>\n      <td>SAN</td>\n      <td>...</td>\n      <td>NaN</td>\n      <td>NaN</td>\n      <td>NaN</td>\n      <td>NaN</td>\n      <td>NaN</td>\n      <td>NaN</td>\n      <td>NaN</td>\n      <td>NaN</td>\n      <td>NaN</td>\n      <td>600</td>\n    </tr>\n    <tr>\n      <th>4</th>\n      <td>2018-01-01</td>\n      <td>AA</td>\n      <td>AA</td>\n      <td>AA</td>\n      <td>1412</td>\n      <td>AA</td>\n      <td>N936NN</td>\n      <td>1412</td>\n      <td>13891</td>\n      <td>ONT</td>\n      <td>...</td>\n      <td>NaN</td>\n      <td>NaN</td>\n      <td>NaN</td>\n      <td>NaN</td>\n      <td>NaN</td>\n      <td>NaN</td>\n      <td>NaN</td>\n      <td>NaN</td>\n      <td>NaN</td>\n      <td>750</td>\n    </tr>\n    <tr>\n      <th>...</th>\n      <td>...</td>\n      <td>...</td>\n      <td>...</td>\n      <td>...</td>\n      <td>...</td>\n      <td>...</td>\n      <td>...</td>\n      <td>...</td>\n      <td>...</td>\n      <td>...</td>\n      <td>...</td>\n      <td>...</td>\n      <td>...</td>\n      <td>...</td>\n      <td>...</td>\n      <td>...</td>\n      <td>...</td>\n      <td>...</td>\n      <td>...</td>\n      <td>...</td>\n      <td>...</td>\n    </tr>\n    <tr>\n      <th>106178</th>\n      <td>2019-12-31</td>\n      <td>AA</td>\n      <td>AA_CODESHARE</td>\n      <td>AA</td>\n      <td>5132</td>\n      <td>OH</td>\n      <td>N530EA</td>\n      <td>5132</td>\n      <td>11278</td>\n      <td>DCA</td>\n      <td>...</td>\n      <td>NaN</td>\n      <td>NaN</td>\n      <td>NaN</td>\n      <td>NaN</td>\n      <td>NaN</td>\n      <td>NaN</td>\n      <td>NaN</td>\n      <td>NaN</td>\n      <td>NaN</td>\n      <td>15926850</td>\n    </tr>\n    <tr>\n      <th>106179</th>\n      <td>2019-12-31</td>\n      <td>AA</td>\n      <td>AA_CODESHARE</td>\n      <td>AA</td>\n      <td>5301</td>\n      <td>OH</td>\n      <td>N228PS</td>\n      <td>5301</td>\n      <td>11278</td>\n      <td>DCA</td>\n      <td>...</td>\n      <td>NaN</td>\n      <td>NaN</td>\n      <td>NaN</td>\n      <td>NaN</td>\n      <td>NaN</td>\n      <td>NaN</td>\n      <td>NaN</td>\n      <td>NaN</td>\n      <td>NaN</td>\n      <td>15927000</td>\n    </tr>\n    <tr>\n      <th>106180</th>\n      <td>2019-12-31</td>\n      <td>AA</td>\n      <td>AA_CODESHARE</td>\n      <td>AA</td>\n      <td>4760</td>\n      <td>PT</td>\n      <td>N906AE</td>\n      <td>4760</td>\n      <td>10434</td>\n      <td>AVP</td>\n      <td>...</td>\n      <td>NaN</td>\n      <td>NaN</td>\n      <td>NaN</td>\n      <td>NaN</td>\n      <td>NaN</td>\n      <td>NaN</td>\n      <td>NaN</td>\n      <td>NaN</td>\n      <td>NaN</td>\n      <td>15927150</td>\n    </tr>\n    <tr>\n      <th>106181</th>\n      <td>2019-12-31</td>\n      <td>AA</td>\n      <td>AA_CODESHARE</td>\n      <td>AA</td>\n      <td>4898</td>\n      <td>PT</td>\n      <td>N644AE</td>\n      <td>4898</td>\n      <td>14524</td>\n      <td>RIC</td>\n      <td>...</td>\n      <td>NaN</td>\n      <td>NaN</td>\n      <td>NaN</td>\n      <td>NaN</td>\n      <td>NaN</td>\n      <td>NaN</td>\n      <td>NaN</td>\n      <td>NaN</td>\n      <td>NaN</td>\n      <td>15927300</td>\n    </tr>\n    <tr>\n      <th>106182</th>\n      <td>2019-12-31</td>\n      <td>AA</td>\n      <td>AA_CODESHARE</td>\n      <td>AA</td>\n      <td>4058</td>\n      <td>MQ</td>\n      <td>N855AE</td>\n      <td>4058</td>\n      <td>11049</td>\n      <td>CLL</td>\n      <td>...</td>\n      <td>NaN</td>\n      <td>NaN</td>\n      <td>NaN</td>\n      <td>NaN</td>\n      <td>NaN</td>\n      <td>NaN</td>\n      <td>NaN</td>\n      <td>NaN</td>\n      <td>NaN</td>\n      <td>15927450</td>\n    </tr>\n  </tbody>\n</table>\n<p>106183 rows × 43 columns</p>\n</div>"
     },
     "execution_count": 12,
     "metadata": {},
     "output_type": "execute_result"
    }
   ],
   "source": [
    "flight_df"
   ],
   "metadata": {
    "collapsed": false,
    "pycharm": {
     "name": "#%%\n"
    }
   }
  },
  {
   "cell_type": "code",
   "execution_count": 2,
   "outputs": [],
   "source": [],
   "metadata": {
    "collapsed": false,
    "pycharm": {
     "name": "#%%\n"
    }
   }
  },
  {
   "cell_type": "code",
   "execution_count": 18,
   "outputs": [],
   "source": [],
   "metadata": {
    "collapsed": false,
    "pycharm": {
     "name": "#%%\n"
    }
   }
  },
  {
   "cell_type": "code",
   "execution_count": 2,
   "outputs": [],
   "source": [],
   "metadata": {
    "collapsed": false,
    "pycharm": {
     "name": "#%%\n"
    }
   }
  },
  {
   "cell_type": "code",
   "execution_count": 24,
   "outputs": [],
   "source": [],
   "metadata": {
    "collapsed": false,
    "pycharm": {
     "name": "#%%\n"
    }
   }
  },
  {
   "cell_type": "code",
   "execution_count": 24,
   "outputs": [],
   "source": [],
   "metadata": {
    "collapsed": false,
    "pycharm": {
     "name": "#%%\n"
    }
   }
  },
  {
   "cell_type": "code",
   "execution_count": null,
   "outputs": [],
   "source": [],
   "metadata": {
    "collapsed": false,
    "pycharm": {
     "name": "#%%\n"
    }
   }
  }
 ],
 "metadata": {
  "kernelspec": {
   "display_name": "Python 3",
   "language": "python",
   "name": "python3"
  },
  "language_info": {
   "codemirror_mode": {
    "name": "ipython",
    "version": 2
   },
   "file_extension": ".py",
   "mimetype": "text/x-python",
   "name": "python",
   "nbconvert_exporter": "python",
   "pygments_lexer": "ipython2",
   "version": "2.7.6"
  }
 },
 "nbformat": 4,
 "nbformat_minor": 0
}