{
 "cells": [
  {
   "cell_type": "code",
   "execution_count": 11,
   "outputs": [],
   "source": [
    "import pandas as pd\n",
    "import numpy as np\n",
    "import sqlite3\n",
    "import psycopg2\n",
    "import os"
   ],
   "metadata": {
    "collapsed": false,
    "pycharm": {
     "name": "#%%\n"
    }
   }
  },
  {
   "cell_type": "code",
   "execution_count": 5,
   "outputs": [],
   "source": [
    "file = '../data/flightData.csv'"
   ],
   "metadata": {
    "collapsed": false,
    "pycharm": {
     "name": "#%%\n"
    }
   }
  },
  {
   "cell_type": "code",
   "execution_count": 6,
   "outputs": [],
   "source": [
    "data = pd.read_csv(file)"
   ],
   "metadata": {
    "collapsed": false,
    "pycharm": {
     "name": "#%%\n"
    }
   }
  },
  {
   "cell_type": "code",
   "execution_count": 7,
   "outputs": [
    {
     "data": {
      "text/plain": "      Unnamed: 0     fl_date mkt_carrier  mkt_carrier_fl_num  \\\n0              0  2019-01-01          UA                5515   \n1              1  2019-01-01          UA                5517   \n2              2  2019-01-01          UA                5518   \n3              3  2019-01-01          UA                5519   \n4              4  2019-01-01          UA                5519   \n...          ...         ...         ...                 ...   \n4995        4995  2019-01-01          DL                5086   \n4996        4996  2019-01-01          DL                5087   \n4997        4997  2019-01-01          DL                5092   \n4998        4998  2019-01-01          DL                5098   \n4999        4999  2019-01-01          DL                5100   \n\n      origin_airport_id  dest_airport_id  crs_dep_time  dep_time  wheels_off  \\\n0                 14869            14771          1916    1911.0      1938.0   \n1                 11109            11292           805     930.0      1006.0   \n2                 13930            10693          1830    1833.0      1915.0   \n3                 12266            14783          1435    1428.0      1442.0   \n4                 13244            12266          1150    1140.0      1156.0   \n...                 ...              ...           ...       ...         ...   \n4995              11193            13487          1106    1100.0      1112.0   \n4996              10397            11775          1959    1954.0      2012.0   \n4997              12478            11057          2055    2053.0      2128.0   \n4998              11995            10397          1411    1409.0      1427.0   \n4999              12478            14986           910     912.0       934.0   \n\n      wheels_on  crs_arr_time  arr_time  air_time  \n0        2009.0          2028    2017.0      91.0  \n1        1022.0           910    1027.0      16.0  \n2        2023.0          2009    2031.0      68.0  \n3        1555.0          1627    1623.0      73.0  \n4        1331.0          1347    1343.0      95.0  \n...         ...           ...       ...       ...  \n4995     1149.0          1211    1153.0      97.0  \n4996     2131.0          2155    2138.0     139.0  \n4997     2304.0          2306    2311.0      96.0  \n4998     1523.0          1541    1530.0      56.0  \n4999     1220.0          1233    1225.0     166.0  \n\n[5000 rows x 13 columns]",
      "text/html": "<div>\n<style scoped>\n    .dataframe tbody tr th:only-of-type {\n        vertical-align: middle;\n    }\n\n    .dataframe tbody tr th {\n        vertical-align: top;\n    }\n\n    .dataframe thead th {\n        text-align: right;\n    }\n</style>\n<table border=\"1\" class=\"dataframe\">\n  <thead>\n    <tr style=\"text-align: right;\">\n      <th></th>\n      <th>Unnamed: 0</th>\n      <th>fl_date</th>\n      <th>mkt_carrier</th>\n      <th>mkt_carrier_fl_num</th>\n      <th>origin_airport_id</th>\n      <th>dest_airport_id</th>\n      <th>crs_dep_time</th>\n      <th>dep_time</th>\n      <th>wheels_off</th>\n      <th>wheels_on</th>\n      <th>crs_arr_time</th>\n      <th>arr_time</th>\n      <th>air_time</th>\n    </tr>\n  </thead>\n  <tbody>\n    <tr>\n      <th>0</th>\n      <td>0</td>\n      <td>2019-01-01</td>\n      <td>UA</td>\n      <td>5515</td>\n      <td>14869</td>\n      <td>14771</td>\n      <td>1916</td>\n      <td>1911.0</td>\n      <td>1938.0</td>\n      <td>2009.0</td>\n      <td>2028</td>\n      <td>2017.0</td>\n      <td>91.0</td>\n    </tr>\n    <tr>\n      <th>1</th>\n      <td>1</td>\n      <td>2019-01-01</td>\n      <td>UA</td>\n      <td>5517</td>\n      <td>11109</td>\n      <td>11292</td>\n      <td>805</td>\n      <td>930.0</td>\n      <td>1006.0</td>\n      <td>1022.0</td>\n      <td>910</td>\n      <td>1027.0</td>\n      <td>16.0</td>\n    </tr>\n    <tr>\n      <th>2</th>\n      <td>2</td>\n      <td>2019-01-01</td>\n      <td>UA</td>\n      <td>5518</td>\n      <td>13930</td>\n      <td>10693</td>\n      <td>1830</td>\n      <td>1833.0</td>\n      <td>1915.0</td>\n      <td>2023.0</td>\n      <td>2009</td>\n      <td>2031.0</td>\n      <td>68.0</td>\n    </tr>\n    <tr>\n      <th>3</th>\n      <td>3</td>\n      <td>2019-01-01</td>\n      <td>UA</td>\n      <td>5519</td>\n      <td>12266</td>\n      <td>14783</td>\n      <td>1435</td>\n      <td>1428.0</td>\n      <td>1442.0</td>\n      <td>1555.0</td>\n      <td>1627</td>\n      <td>1623.0</td>\n      <td>73.0</td>\n    </tr>\n    <tr>\n      <th>4</th>\n      <td>4</td>\n      <td>2019-01-01</td>\n      <td>UA</td>\n      <td>5519</td>\n      <td>13244</td>\n      <td>12266</td>\n      <td>1150</td>\n      <td>1140.0</td>\n      <td>1156.0</td>\n      <td>1331.0</td>\n      <td>1347</td>\n      <td>1343.0</td>\n      <td>95.0</td>\n    </tr>\n    <tr>\n      <th>...</th>\n      <td>...</td>\n      <td>...</td>\n      <td>...</td>\n      <td>...</td>\n      <td>...</td>\n      <td>...</td>\n      <td>...</td>\n      <td>...</td>\n      <td>...</td>\n      <td>...</td>\n      <td>...</td>\n      <td>...</td>\n      <td>...</td>\n    </tr>\n    <tr>\n      <th>4995</th>\n      <td>4995</td>\n      <td>2019-01-01</td>\n      <td>DL</td>\n      <td>5086</td>\n      <td>11193</td>\n      <td>13487</td>\n      <td>1106</td>\n      <td>1100.0</td>\n      <td>1112.0</td>\n      <td>1149.0</td>\n      <td>1211</td>\n      <td>1153.0</td>\n      <td>97.0</td>\n    </tr>\n    <tr>\n      <th>4996</th>\n      <td>4996</td>\n      <td>2019-01-01</td>\n      <td>DL</td>\n      <td>5087</td>\n      <td>10397</td>\n      <td>11775</td>\n      <td>1959</td>\n      <td>1954.0</td>\n      <td>2012.0</td>\n      <td>2131.0</td>\n      <td>2155</td>\n      <td>2138.0</td>\n      <td>139.0</td>\n    </tr>\n    <tr>\n      <th>4997</th>\n      <td>4997</td>\n      <td>2019-01-01</td>\n      <td>DL</td>\n      <td>5092</td>\n      <td>12478</td>\n      <td>11057</td>\n      <td>2055</td>\n      <td>2053.0</td>\n      <td>2128.0</td>\n      <td>2304.0</td>\n      <td>2306</td>\n      <td>2311.0</td>\n      <td>96.0</td>\n    </tr>\n    <tr>\n      <th>4998</th>\n      <td>4998</td>\n      <td>2019-01-01</td>\n      <td>DL</td>\n      <td>5098</td>\n      <td>11995</td>\n      <td>10397</td>\n      <td>1411</td>\n      <td>1409.0</td>\n      <td>1427.0</td>\n      <td>1523.0</td>\n      <td>1541</td>\n      <td>1530.0</td>\n      <td>56.0</td>\n    </tr>\n    <tr>\n      <th>4999</th>\n      <td>4999</td>\n      <td>2019-01-01</td>\n      <td>DL</td>\n      <td>5100</td>\n      <td>12478</td>\n      <td>14986</td>\n      <td>910</td>\n      <td>912.0</td>\n      <td>934.0</td>\n      <td>1220.0</td>\n      <td>1233</td>\n      <td>1225.0</td>\n      <td>166.0</td>\n    </tr>\n  </tbody>\n</table>\n<p>5000 rows × 13 columns</p>\n</div>"
     },
     "execution_count": 7,
     "metadata": {},
     "output_type": "execute_result"
    }
   ],
   "source": [
    "data"
   ],
   "metadata": {
    "collapsed": false,
    "pycharm": {
     "name": "#%%\n"
    }
   }
  },
  {
   "cell_type": "code",
   "execution_count": 16,
   "outputs": [],
   "source": [
    "def make_csv(query, filename):\n",
    "    # check if file already exists\n",
    "    if os.path.exists(filename):\n",
    "        df = pd.read_csv(filename)\n",
    "        return df\n",
    "    # ensure all columns are displayed when viewing a pandas dataframe\n",
    "    pd.set_option('display.max_columns', None)\n",
    "    # Creating a connection to the database\n",
    "    print(\"creating connection...\")\n",
    "    con = psycopg2.connect(database=\"mid_term_project\",\n",
    "                           user=\"lhl_student\",\n",
    "                           password=\"lhl_student\",\n",
    "                           host=\"lhl-data-bootcamp.crzjul5qln0e.ca-central-1.rds.amazonaws.com\",\n",
    "                           port=\"5432\")\n",
    "    # creating a cursor object\n",
    "    cur = con.cursor()\n",
    "    # running an sql query\n",
    "    print(\"running query...\")\n",
    "    cur.execute(query)\n",
    "    # Storing the result\n",
    "    rows = cur.fetchall()\n",
    "    cols = [desc[0] for desc in cur.description]\n",
    "    con.close()\n",
    "    # writing the csv file\n",
    "    print(\"writing file...\")\n",
    "    df = pd.DataFrame(rows, columns=cols)\n",
    "    df.to_csv(filename, index=False)\n",
    "    print('Done')\n",
    "    return df"
   ],
   "metadata": {
    "collapsed": false,
    "pycharm": {
     "name": "#%%\n"
    }
   }
  },
  {
   "cell_type": "code",
   "execution_count": 18,
   "outputs": [],
   "source": [
    "quer = '''SELECT t.*\n",
    "FROM (\n",
    "  SELECT *, row_number() OVER(ORDER BY fl_date ASC) AS row\n",
    "  FROM flights\n",
    ") t\n",
    "WHERE t.row % 150 = 0'''\n",
    "fname = '../data/flight_data.csv'"
   ],
   "metadata": {
    "collapsed": false,
    "pycharm": {
     "name": "#%%\n"
    }
   }
  },
  {
   "cell_type": "code",
   "execution_count": 21,
   "outputs": [
    {
     "data": {
      "text/plain": "           fl_date mkt_unique_carrier branded_code_share mkt_carrier  \\\n0       2018-01-01                 UA       UA_CODESHARE          UA   \n1       2018-01-01                 UA       UA_CODESHARE          UA   \n2       2018-01-01                 AA                 AA          AA   \n3       2018-01-01                 AA                 AA          AA   \n4       2018-01-01                 AA                 AA          AA   \n...            ...                ...                ...         ...   \n106178  2019-12-31                 AA       AA_CODESHARE          AA   \n106179  2019-12-31                 AA       AA_CODESHARE          AA   \n106180  2019-12-31                 AA       AA_CODESHARE          AA   \n106181  2019-12-31                 AA       AA_CODESHARE          AA   \n106182  2019-12-31                 AA       AA_CODESHARE          AA   \n\n        mkt_carrier_fl_num op_unique_carrier tail_num  op_carrier_fl_num  \\\n0                     3542                YX   N637RW               3542   \n1                     3725                YX   N861RW               3725   \n2                     1675                AA   N604AW               1675   \n3                     1035                AA   N314PD               1035   \n4                     1412                AA   N936NN               1412   \n...                    ...               ...      ...                ...   \n106178                5132                OH   N530EA               5132   \n106179                5301                OH   N228PS               5301   \n106180                4760                PT   N906AE               4760   \n106181                4898                PT   N644AE               4898   \n106182                4058                MQ   N855AE               4058   \n\n        origin_airport_id origin           origin_city_name  dest_airport_id  \\\n0                   13495    MSY            New Orleans, LA            11292   \n1                   14869    SLC         Salt Lake City, UT            12266   \n2                   11298    DFW      Dallas/Fort Worth, TX            10397   \n3                   14679    SAN              San Diego, CA            13930   \n4                   13891    ONT                Ontario, CA            11298   \n...                   ...    ...                        ...              ...   \n106178              11278    DCA             Washington, DC            14685   \n106179              11278    DCA             Washington, DC            10581   \n106180              10434    AVP  Scranton/Wilkes-Barre, PA            14100   \n106181              14524    RIC               Richmond, VA            14100   \n106182              11049    CLL  College Station/Bryan, TX            11298   \n\n       dest         dest_city_name  crs_dep_time  dep_time  dep_delay  \\\n0       DEN             Denver, CO          1602    1812.0      130.0   \n1       IAH            Houston, TX          1505    1459.0       -6.0   \n2       ATL            Atlanta, GA          1255    1327.0       32.0   \n3       ORD            Chicago, IL          2259    2256.0       -3.0   \n4       DFW  Dallas/Fort Worth, TX           615     612.0       -3.0   \n...     ...                    ...           ...       ...        ...   \n106178  SAV           Savannah, GA          1150    1150.0        0.0   \n106179  BGR             Bangor, ME          1515    1512.0       -3.0   \n106180  PHL       Philadelphia, PA          1349    1338.0      -11.0   \n106181  PHL       Philadelphia, PA           618     605.0      -13.0   \n106182  DFW  Dallas/Fort Worth, TX          1023    1012.0      -11.0   \n\n        taxi_out  wheels_off  wheels_on  taxi_in  crs_arr_time  arr_time  \\\n0           11.0      1823.0     1958.0      9.0          1805    2007.0   \n1           16.0      1515.0     1850.0      4.0          1910    1854.0   \n2           12.0      1339.0     1607.0      6.0          1557    1613.0   \n3           21.0      2317.0      440.0      7.0           457     447.0   \n4           10.0       622.0     1042.0     13.0          1113    1055.0   \n...          ...         ...        ...      ...           ...       ...   \n106178      19.0      1209.0     1335.0      6.0          1344    1341.0   \n106179      16.0      1528.0     1655.0      6.0          1701    1701.0   \n106180      12.0      1350.0     1413.0      7.0          1439    1420.0   \n106181      16.0       621.0      702.0     10.0           723     712.0   \n106182       8.0      1020.0     1051.0     14.0          1125    1105.0   \n\n        arr_delay  cancelled cancellation_code  diverted dup  \\\n0           122.0        0.0               NaN       0.0   N   \n1           -16.0        0.0               NaN       0.0   N   \n2            16.0        0.0               NaN       0.0   N   \n3           -10.0        0.0               NaN       0.0   N   \n4           -18.0        0.0               NaN       0.0   N   \n...           ...        ...               ...       ...  ..   \n106178       -3.0        0.0               NaN       0.0   N   \n106179        0.0        0.0               NaN       0.0   N   \n106180      -19.0        0.0               NaN       0.0   N   \n106181      -11.0        0.0               NaN       0.0   N   \n106182      -20.0        0.0               NaN       0.0   N   \n\n        crs_elapsed_time  actual_elapsed_time  air_time  flights  distance  \\\n0                  183.0                175.0     155.0      1.0    1062.0   \n1                  185.0                175.0     155.0      1.0    1195.0   \n2                  122.0                106.0      88.0      1.0     731.0   \n3                  238.0                231.0     203.0      1.0    1723.0   \n4                  178.0                163.0     140.0      1.0    1188.0   \n...                  ...                  ...       ...      ...       ...   \n106178             114.0                111.0      86.0      1.0     519.0   \n106179             106.0                109.0      87.0      1.0     590.0   \n106180              50.0                 42.0      23.0      1.0     104.0   \n106181              65.0                 67.0      41.0      1.0     198.0   \n106182              62.0                 53.0      31.0      1.0     164.0   \n\n        carrier_delay  weather_delay  nas_delay  security_delay  \\\n0                 0.0            0.0        0.0             0.0   \n1                 NaN            NaN        NaN             NaN   \n2                16.0            0.0        0.0             0.0   \n3                 NaN            NaN        NaN             NaN   \n4                 NaN            NaN        NaN             NaN   \n...               ...            ...        ...             ...   \n106178            NaN            NaN        NaN             NaN   \n106179            NaN            NaN        NaN             NaN   \n106180            NaN            NaN        NaN             NaN   \n106181            NaN            NaN        NaN             NaN   \n106182            NaN            NaN        NaN             NaN   \n\n        late_aircraft_delay  first_dep_time  total_add_gtime  \\\n0                     122.0             NaN              NaN   \n1                       NaN             NaN              NaN   \n2                       0.0             NaN              NaN   \n3                       NaN             NaN              NaN   \n4                       NaN             NaN              NaN   \n...                     ...             ...              ...   \n106178                  NaN             NaN              NaN   \n106179                  NaN             NaN              NaN   \n106180                  NaN             NaN              NaN   \n106181                  NaN             NaN              NaN   \n106182                  NaN             NaN              NaN   \n\n        longest_add_gtime  no_name       row  \n0                     NaN      NaN       150  \n1                     NaN      NaN       300  \n2                     NaN      NaN       450  \n3                     NaN      NaN       600  \n4                     NaN      NaN       750  \n...                   ...      ...       ...  \n106178                NaN      NaN  15926850  \n106179                NaN      NaN  15927000  \n106180                NaN      NaN  15927150  \n106181                NaN      NaN  15927300  \n106182                NaN      NaN  15927450  \n\n[106183 rows x 43 columns]",
      "text/html": "<div>\n<style scoped>\n    .dataframe tbody tr th:only-of-type {\n        vertical-align: middle;\n    }\n\n    .dataframe tbody tr th {\n        vertical-align: top;\n    }\n\n    .dataframe thead th {\n        text-align: right;\n    }\n</style>\n<table border=\"1\" class=\"dataframe\">\n  <thead>\n    <tr style=\"text-align: right;\">\n      <th></th>\n      <th>fl_date</th>\n      <th>mkt_unique_carrier</th>\n      <th>branded_code_share</th>\n      <th>mkt_carrier</th>\n      <th>mkt_carrier_fl_num</th>\n      <th>op_unique_carrier</th>\n      <th>tail_num</th>\n      <th>op_carrier_fl_num</th>\n      <th>origin_airport_id</th>\n      <th>origin</th>\n      <th>origin_city_name</th>\n      <th>dest_airport_id</th>\n      <th>dest</th>\n      <th>dest_city_name</th>\n      <th>crs_dep_time</th>\n      <th>dep_time</th>\n      <th>dep_delay</th>\n      <th>taxi_out</th>\n      <th>wheels_off</th>\n      <th>wheels_on</th>\n      <th>taxi_in</th>\n      <th>crs_arr_time</th>\n      <th>arr_time</th>\n      <th>arr_delay</th>\n      <th>cancelled</th>\n      <th>cancellation_code</th>\n      <th>diverted</th>\n      <th>dup</th>\n      <th>crs_elapsed_time</th>\n      <th>actual_elapsed_time</th>\n      <th>air_time</th>\n      <th>flights</th>\n      <th>distance</th>\n      <th>carrier_delay</th>\n      <th>weather_delay</th>\n      <th>nas_delay</th>\n      <th>security_delay</th>\n      <th>late_aircraft_delay</th>\n      <th>first_dep_time</th>\n      <th>total_add_gtime</th>\n      <th>longest_add_gtime</th>\n      <th>no_name</th>\n      <th>row</th>\n    </tr>\n  </thead>\n  <tbody>\n    <tr>\n      <th>0</th>\n      <td>2018-01-01</td>\n      <td>UA</td>\n      <td>UA_CODESHARE</td>\n      <td>UA</td>\n      <td>3542</td>\n      <td>YX</td>\n      <td>N637RW</td>\n      <td>3542</td>\n      <td>13495</td>\n      <td>MSY</td>\n      <td>New Orleans, LA</td>\n      <td>11292</td>\n      <td>DEN</td>\n      <td>Denver, CO</td>\n      <td>1602</td>\n      <td>1812.0</td>\n      <td>130.0</td>\n      <td>11.0</td>\n      <td>1823.0</td>\n      <td>1958.0</td>\n      <td>9.0</td>\n      <td>1805</td>\n      <td>2007.0</td>\n      <td>122.0</td>\n      <td>0.0</td>\n      <td>NaN</td>\n      <td>0.0</td>\n      <td>N</td>\n      <td>183.0</td>\n      <td>175.0</td>\n      <td>155.0</td>\n      <td>1.0</td>\n      <td>1062.0</td>\n      <td>0.0</td>\n      <td>0.0</td>\n      <td>0.0</td>\n      <td>0.0</td>\n      <td>122.0</td>\n      <td>NaN</td>\n      <td>NaN</td>\n      <td>NaN</td>\n      <td>NaN</td>\n      <td>150</td>\n    </tr>\n    <tr>\n      <th>1</th>\n      <td>2018-01-01</td>\n      <td>UA</td>\n      <td>UA_CODESHARE</td>\n      <td>UA</td>\n      <td>3725</td>\n      <td>YX</td>\n      <td>N861RW</td>\n      <td>3725</td>\n      <td>14869</td>\n      <td>SLC</td>\n      <td>Salt Lake City, UT</td>\n      <td>12266</td>\n      <td>IAH</td>\n      <td>Houston, TX</td>\n      <td>1505</td>\n      <td>1459.0</td>\n      <td>-6.0</td>\n      <td>16.0</td>\n      <td>1515.0</td>\n      <td>1850.0</td>\n      <td>4.0</td>\n      <td>1910</td>\n      <td>1854.0</td>\n      <td>-16.0</td>\n      <td>0.0</td>\n      <td>NaN</td>\n      <td>0.0</td>\n      <td>N</td>\n      <td>185.0</td>\n      <td>175.0</td>\n      <td>155.0</td>\n      <td>1.0</td>\n      <td>1195.0</td>\n      <td>NaN</td>\n      <td>NaN</td>\n      <td>NaN</td>\n      <td>NaN</td>\n      <td>NaN</td>\n      <td>NaN</td>\n      <td>NaN</td>\n      <td>NaN</td>\n      <td>NaN</td>\n      <td>300</td>\n    </tr>\n    <tr>\n      <th>2</th>\n      <td>2018-01-01</td>\n      <td>AA</td>\n      <td>AA</td>\n      <td>AA</td>\n      <td>1675</td>\n      <td>AA</td>\n      <td>N604AW</td>\n      <td>1675</td>\n      <td>11298</td>\n      <td>DFW</td>\n      <td>Dallas/Fort Worth, TX</td>\n      <td>10397</td>\n      <td>ATL</td>\n      <td>Atlanta, GA</td>\n      <td>1255</td>\n      <td>1327.0</td>\n      <td>32.0</td>\n      <td>12.0</td>\n      <td>1339.0</td>\n      <td>1607.0</td>\n      <td>6.0</td>\n      <td>1557</td>\n      <td>1613.0</td>\n      <td>16.0</td>\n      <td>0.0</td>\n      <td>NaN</td>\n      <td>0.0</td>\n      <td>N</td>\n      <td>122.0</td>\n      <td>106.0</td>\n      <td>88.0</td>\n      <td>1.0</td>\n      <td>731.0</td>\n      <td>16.0</td>\n      <td>0.0</td>\n      <td>0.0</td>\n      <td>0.0</td>\n      <td>0.0</td>\n      <td>NaN</td>\n      <td>NaN</td>\n      <td>NaN</td>\n      <td>NaN</td>\n      <td>450</td>\n    </tr>\n    <tr>\n      <th>3</th>\n      <td>2018-01-01</td>\n      <td>AA</td>\n      <td>AA</td>\n      <td>AA</td>\n      <td>1035</td>\n      <td>AA</td>\n      <td>N314PD</td>\n      <td>1035</td>\n      <td>14679</td>\n      <td>SAN</td>\n      <td>San Diego, CA</td>\n      <td>13930</td>\n      <td>ORD</td>\n      <td>Chicago, IL</td>\n      <td>2259</td>\n      <td>2256.0</td>\n      <td>-3.0</td>\n      <td>21.0</td>\n      <td>2317.0</td>\n      <td>440.0</td>\n      <td>7.0</td>\n      <td>457</td>\n      <td>447.0</td>\n      <td>-10.0</td>\n      <td>0.0</td>\n      <td>NaN</td>\n      <td>0.0</td>\n      <td>N</td>\n      <td>238.0</td>\n      <td>231.0</td>\n      <td>203.0</td>\n      <td>1.0</td>\n      <td>1723.0</td>\n      <td>NaN</td>\n      <td>NaN</td>\n      <td>NaN</td>\n      <td>NaN</td>\n      <td>NaN</td>\n      <td>NaN</td>\n      <td>NaN</td>\n      <td>NaN</td>\n      <td>NaN</td>\n      <td>600</td>\n    </tr>\n    <tr>\n      <th>4</th>\n      <td>2018-01-01</td>\n      <td>AA</td>\n      <td>AA</td>\n      <td>AA</td>\n      <td>1412</td>\n      <td>AA</td>\n      <td>N936NN</td>\n      <td>1412</td>\n      <td>13891</td>\n      <td>ONT</td>\n      <td>Ontario, CA</td>\n      <td>11298</td>\n      <td>DFW</td>\n      <td>Dallas/Fort Worth, TX</td>\n      <td>615</td>\n      <td>612.0</td>\n      <td>-3.0</td>\n      <td>10.0</td>\n      <td>622.0</td>\n      <td>1042.0</td>\n      <td>13.0</td>\n      <td>1113</td>\n      <td>1055.0</td>\n      <td>-18.0</td>\n      <td>0.0</td>\n      <td>NaN</td>\n      <td>0.0</td>\n      <td>N</td>\n      <td>178.0</td>\n      <td>163.0</td>\n      <td>140.0</td>\n      <td>1.0</td>\n      <td>1188.0</td>\n      <td>NaN</td>\n      <td>NaN</td>\n      <td>NaN</td>\n      <td>NaN</td>\n      <td>NaN</td>\n      <td>NaN</td>\n      <td>NaN</td>\n      <td>NaN</td>\n      <td>NaN</td>\n      <td>750</td>\n    </tr>\n    <tr>\n      <th>...</th>\n      <td>...</td>\n      <td>...</td>\n      <td>...</td>\n      <td>...</td>\n      <td>...</td>\n      <td>...</td>\n      <td>...</td>\n      <td>...</td>\n      <td>...</td>\n      <td>...</td>\n      <td>...</td>\n      <td>...</td>\n      <td>...</td>\n      <td>...</td>\n      <td>...</td>\n      <td>...</td>\n      <td>...</td>\n      <td>...</td>\n      <td>...</td>\n      <td>...</td>\n      <td>...</td>\n      <td>...</td>\n      <td>...</td>\n      <td>...</td>\n      <td>...</td>\n      <td>...</td>\n      <td>...</td>\n      <td>...</td>\n      <td>...</td>\n      <td>...</td>\n      <td>...</td>\n      <td>...</td>\n      <td>...</td>\n      <td>...</td>\n      <td>...</td>\n      <td>...</td>\n      <td>...</td>\n      <td>...</td>\n      <td>...</td>\n      <td>...</td>\n      <td>...</td>\n      <td>...</td>\n      <td>...</td>\n    </tr>\n    <tr>\n      <th>106178</th>\n      <td>2019-12-31</td>\n      <td>AA</td>\n      <td>AA_CODESHARE</td>\n      <td>AA</td>\n      <td>5132</td>\n      <td>OH</td>\n      <td>N530EA</td>\n      <td>5132</td>\n      <td>11278</td>\n      <td>DCA</td>\n      <td>Washington, DC</td>\n      <td>14685</td>\n      <td>SAV</td>\n      <td>Savannah, GA</td>\n      <td>1150</td>\n      <td>1150.0</td>\n      <td>0.0</td>\n      <td>19.0</td>\n      <td>1209.0</td>\n      <td>1335.0</td>\n      <td>6.0</td>\n      <td>1344</td>\n      <td>1341.0</td>\n      <td>-3.0</td>\n      <td>0.0</td>\n      <td>NaN</td>\n      <td>0.0</td>\n      <td>N</td>\n      <td>114.0</td>\n      <td>111.0</td>\n      <td>86.0</td>\n      <td>1.0</td>\n      <td>519.0</td>\n      <td>NaN</td>\n      <td>NaN</td>\n      <td>NaN</td>\n      <td>NaN</td>\n      <td>NaN</td>\n      <td>NaN</td>\n      <td>NaN</td>\n      <td>NaN</td>\n      <td>NaN</td>\n      <td>15926850</td>\n    </tr>\n    <tr>\n      <th>106179</th>\n      <td>2019-12-31</td>\n      <td>AA</td>\n      <td>AA_CODESHARE</td>\n      <td>AA</td>\n      <td>5301</td>\n      <td>OH</td>\n      <td>N228PS</td>\n      <td>5301</td>\n      <td>11278</td>\n      <td>DCA</td>\n      <td>Washington, DC</td>\n      <td>10581</td>\n      <td>BGR</td>\n      <td>Bangor, ME</td>\n      <td>1515</td>\n      <td>1512.0</td>\n      <td>-3.0</td>\n      <td>16.0</td>\n      <td>1528.0</td>\n      <td>1655.0</td>\n      <td>6.0</td>\n      <td>1701</td>\n      <td>1701.0</td>\n      <td>0.0</td>\n      <td>0.0</td>\n      <td>NaN</td>\n      <td>0.0</td>\n      <td>N</td>\n      <td>106.0</td>\n      <td>109.0</td>\n      <td>87.0</td>\n      <td>1.0</td>\n      <td>590.0</td>\n      <td>NaN</td>\n      <td>NaN</td>\n      <td>NaN</td>\n      <td>NaN</td>\n      <td>NaN</td>\n      <td>NaN</td>\n      <td>NaN</td>\n      <td>NaN</td>\n      <td>NaN</td>\n      <td>15927000</td>\n    </tr>\n    <tr>\n      <th>106180</th>\n      <td>2019-12-31</td>\n      <td>AA</td>\n      <td>AA_CODESHARE</td>\n      <td>AA</td>\n      <td>4760</td>\n      <td>PT</td>\n      <td>N906AE</td>\n      <td>4760</td>\n      <td>10434</td>\n      <td>AVP</td>\n      <td>Scranton/Wilkes-Barre, PA</td>\n      <td>14100</td>\n      <td>PHL</td>\n      <td>Philadelphia, PA</td>\n      <td>1349</td>\n      <td>1338.0</td>\n      <td>-11.0</td>\n      <td>12.0</td>\n      <td>1350.0</td>\n      <td>1413.0</td>\n      <td>7.0</td>\n      <td>1439</td>\n      <td>1420.0</td>\n      <td>-19.0</td>\n      <td>0.0</td>\n      <td>NaN</td>\n      <td>0.0</td>\n      <td>N</td>\n      <td>50.0</td>\n      <td>42.0</td>\n      <td>23.0</td>\n      <td>1.0</td>\n      <td>104.0</td>\n      <td>NaN</td>\n      <td>NaN</td>\n      <td>NaN</td>\n      <td>NaN</td>\n      <td>NaN</td>\n      <td>NaN</td>\n      <td>NaN</td>\n      <td>NaN</td>\n      <td>NaN</td>\n      <td>15927150</td>\n    </tr>\n    <tr>\n      <th>106181</th>\n      <td>2019-12-31</td>\n      <td>AA</td>\n      <td>AA_CODESHARE</td>\n      <td>AA</td>\n      <td>4898</td>\n      <td>PT</td>\n      <td>N644AE</td>\n      <td>4898</td>\n      <td>14524</td>\n      <td>RIC</td>\n      <td>Richmond, VA</td>\n      <td>14100</td>\n      <td>PHL</td>\n      <td>Philadelphia, PA</td>\n      <td>618</td>\n      <td>605.0</td>\n      <td>-13.0</td>\n      <td>16.0</td>\n      <td>621.0</td>\n      <td>702.0</td>\n      <td>10.0</td>\n      <td>723</td>\n      <td>712.0</td>\n      <td>-11.0</td>\n      <td>0.0</td>\n      <td>NaN</td>\n      <td>0.0</td>\n      <td>N</td>\n      <td>65.0</td>\n      <td>67.0</td>\n      <td>41.0</td>\n      <td>1.0</td>\n      <td>198.0</td>\n      <td>NaN</td>\n      <td>NaN</td>\n      <td>NaN</td>\n      <td>NaN</td>\n      <td>NaN</td>\n      <td>NaN</td>\n      <td>NaN</td>\n      <td>NaN</td>\n      <td>NaN</td>\n      <td>15927300</td>\n    </tr>\n    <tr>\n      <th>106182</th>\n      <td>2019-12-31</td>\n      <td>AA</td>\n      <td>AA_CODESHARE</td>\n      <td>AA</td>\n      <td>4058</td>\n      <td>MQ</td>\n      <td>N855AE</td>\n      <td>4058</td>\n      <td>11049</td>\n      <td>CLL</td>\n      <td>College Station/Bryan, TX</td>\n      <td>11298</td>\n      <td>DFW</td>\n      <td>Dallas/Fort Worth, TX</td>\n      <td>1023</td>\n      <td>1012.0</td>\n      <td>-11.0</td>\n      <td>8.0</td>\n      <td>1020.0</td>\n      <td>1051.0</td>\n      <td>14.0</td>\n      <td>1125</td>\n      <td>1105.0</td>\n      <td>-20.0</td>\n      <td>0.0</td>\n      <td>NaN</td>\n      <td>0.0</td>\n      <td>N</td>\n      <td>62.0</td>\n      <td>53.0</td>\n      <td>31.0</td>\n      <td>1.0</td>\n      <td>164.0</td>\n      <td>NaN</td>\n      <td>NaN</td>\n      <td>NaN</td>\n      <td>NaN</td>\n      <td>NaN</td>\n      <td>NaN</td>\n      <td>NaN</td>\n      <td>NaN</td>\n      <td>NaN</td>\n      <td>15927450</td>\n    </tr>\n  </tbody>\n</table>\n<p>106183 rows × 43 columns</p>\n</div>"
     },
     "execution_count": 21,
     "metadata": {},
     "output_type": "execute_result"
    }
   ],
   "source": [
    "make_csv(quer, fname)"
   ],
   "metadata": {
    "collapsed": false,
    "pycharm": {
     "name": "#%%\n"
    }
   }
  },
  {
   "cell_type": "code",
   "execution_count": 24,
   "outputs": [],
   "source": [],
   "metadata": {
    "collapsed": false,
    "pycharm": {
     "name": "#%%\n"
    }
   }
  },
  {
   "cell_type": "code",
   "execution_count": 24,
   "outputs": [],
   "source": [],
   "metadata": {
    "collapsed": false,
    "pycharm": {
     "name": "#%%\n"
    }
   }
  },
  {
   "cell_type": "code",
   "execution_count": null,
   "outputs": [],
   "source": [],
   "metadata": {
    "collapsed": false,
    "pycharm": {
     "name": "#%%\n"
    }
   }
  }
 ],
 "metadata": {
  "kernelspec": {
   "display_name": "Python 3",
   "language": "python",
   "name": "python3"
  },
  "language_info": {
   "codemirror_mode": {
    "name": "ipython",
    "version": 2
   },
   "file_extension": ".py",
   "mimetype": "text/x-python",
   "name": "python",
   "nbconvert_exporter": "python",
   "pygments_lexer": "ipython2",
   "version": "2.7.6"
  }
 },
 "nbformat": 4,
 "nbformat_minor": 0
}